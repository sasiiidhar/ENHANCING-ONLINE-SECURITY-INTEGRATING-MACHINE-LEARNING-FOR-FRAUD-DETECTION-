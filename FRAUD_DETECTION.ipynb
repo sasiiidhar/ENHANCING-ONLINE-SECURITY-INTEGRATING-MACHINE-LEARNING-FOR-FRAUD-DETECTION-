{
  "cells": [
    {
      "cell_type": "code",
      "source": [
        "from google.colab import drive\n",
        "drive.mount('/content/drive')"
      ],
      "metadata": {
        "colab": {
          "base_uri": "https://localhost:8080/"
        },
        "id": "01uq-OaXJ4CV",
        "outputId": "c709ac33-3ff0-4912-d3b7-10a43aa0ff4e"
      },
      "id": "01uq-OaXJ4CV",
      "execution_count": null,
      "outputs": [
        {
          "output_type": "stream",
          "name": "stdout",
          "text": [
            "Mounted at /content/drive\n"
          ]
        }
      ]
    },
    {
      "cell_type": "code",
      "execution_count": null,
      "id": "heavy-delight",
      "metadata": {
        "_uuid": "42e4a9f9b53f6d46cabd00b64a0e9f52b7abcd82",
        "execution": {
          "iopub.execute_input": "2021-04-01T11:04:17.670951Z",
          "iopub.status.busy": "2021-04-01T11:04:17.670248Z",
          "iopub.status.idle": "2021-04-01T11:04:22.457679Z",
          "shell.execute_reply": "2021-04-01T11:04:22.457094Z"
        },
        "papermill": {
          "duration": 4.864356,
          "end_time": "2021-04-01T11:04:22.457831",
          "exception": false,
          "start_time": "2021-04-01T11:04:17.593475",
          "status": "completed"
        },
        "tags": [],
        "colab": {
          "base_uri": "https://localhost:8080/",
          "height": 17
        },
        "id": "heavy-delight",
        "outputId": "9f15adbd-5240-456e-e93f-bfe7664a32cc"
      },
      "outputs": [
        {
          "output_type": "display_data",
          "data": {
            "text/html": [
              "        <script type=\"text/javascript\">\n",
              "        window.PlotlyConfig = {MathJaxConfig: 'local'};\n",
              "        if (window.MathJax && window.MathJax.Hub && window.MathJax.Hub.Config) {window.MathJax.Hub.Config({SVG: {font: \"STIX-Web\"}});}\n",
              "        if (typeof require !== 'undefined') {\n",
              "        require.undef(\"plotly\");\n",
              "        requirejs.config({\n",
              "            paths: {\n",
              "                'plotly': ['https://cdn.plot.ly/plotly-2.24.1.min']\n",
              "            }\n",
              "        });\n",
              "        require(['plotly'], function(Plotly) {\n",
              "            window._Plotly = Plotly;\n",
              "        });\n",
              "        }\n",
              "        </script>\n",
              "        "
            ]
          },
          "metadata": {}
        }
      ],
      "source": [
        "# import the important libraries\n",
        "import pandas as pd\n",
        "import numpy as np\n",
        "import matplotlib.pyplot as plt\n",
        "import seaborn as sns\n",
        "import tensorflow as tf\n",
        "%matplotlib inline\n",
        "import plotly.graph_objs as go\n",
        "import plotly.figure_factory as ff\n",
        "from plotly import tools\n",
        "from plotly.offline import download_plotlyjs, init_notebook_mode, plot, iplot\n",
        "init_notebook_mode(connected=True)\n",
        "import keras\n",
        "from sklearn.model_selection import train_test_split\n",
        "from sklearn.preprocessing import StandardScaler\n",
        "from sklearn.metrics import precision_recall_fscore_support as score\n",
        "from sklearn.metrics import accuracy_score, classification_report, confusion_matrix, make_scorer, precision_score, recall_score, f1_score, roc_auc_score, roc_curve, precision_recall_curve, average_precision_score, auc"
      ]
    },
    {
      "cell_type": "code",
      "execution_count": null,
      "id": "bd0b632c",
      "metadata": {
        "id": "bd0b632c"
      },
      "outputs": [],
      "source": [
        "# READ DATA\n",
        "data = pd.read_csv(\"/content/drive/My Drive/CSE 3 ABTECSL009 - BANKING FRAUD DEDECTION/DATASET/creditcard.csv\")"
      ]
    },
    {
      "cell_type": "code",
      "execution_count": null,
      "id": "prompt-saudi",
      "metadata": {
        "_uuid": "ed93a290bcf10bcf817dc9489a308d489c0cfd40",
        "execution": {
          "iopub.execute_input": "2021-04-01T11:04:22.747034Z",
          "iopub.status.busy": "2021-04-01T11:04:22.746026Z",
          "iopub.status.idle": "2021-04-01T11:04:22.749467Z",
          "shell.execute_reply": "2021-04-01T11:04:22.750196Z"
        },
        "papermill": {
          "duration": 0.07994,
          "end_time": "2021-04-01T11:04:22.750415",
          "exception": false,
          "start_time": "2021-04-01T11:04:22.670475",
          "status": "completed"
        },
        "tags": [],
        "colab": {
          "base_uri": "https://localhost:8080/",
          "height": 408
        },
        "id": "prompt-saudi",
        "outputId": "a4b30f10-3387-4635-dca3-b94db1e52355"
      },
      "outputs": [
        {
          "output_type": "execute_result",
          "data": {
            "text/plain": [
              "   Time        V1        V2        V3        V4        V5        V6        V7  \\\n",
              "0   0.0 -1.359807 -0.072781  2.536347  1.378155 -0.338321  0.462388  0.239599   \n",
              "1   0.0  1.191857  0.266151  0.166480  0.448154  0.060018 -0.082361 -0.078803   \n",
              "2   1.0 -1.358354 -1.340163  1.773209  0.379780 -0.503198  1.800499  0.791461   \n",
              "3   1.0 -0.966272 -0.185226  1.792993 -0.863291 -0.010309  1.247203  0.237609   \n",
              "4   2.0 -1.158233  0.877737  1.548718  0.403034 -0.407193  0.095921  0.592941   \n",
              "5   2.0 -0.425966  0.960523  1.141109 -0.168252  0.420987 -0.029728  0.476201   \n",
              "6   4.0  1.229658  0.141004  0.045371  1.202613  0.191881  0.272708 -0.005159   \n",
              "7   7.0 -0.644269  1.417964  1.074380 -0.492199  0.948934  0.428118  1.120631   \n",
              "8   7.0 -0.894286  0.286157 -0.113192 -0.271526  2.669599  3.721818  0.370145   \n",
              "9   9.0 -0.338262  1.119593  1.044367 -0.222187  0.499361 -0.246761  0.651583   \n",
              "\n",
              "         V8        V9  ...       V21       V22       V23       V24       V25  \\\n",
              "0  0.098698  0.363787  ... -0.018307  0.277838 -0.110474  0.066928  0.128539   \n",
              "1  0.085102 -0.255425  ... -0.225775 -0.638672  0.101288 -0.339846  0.167170   \n",
              "2  0.247676 -1.514654  ...  0.247998  0.771679  0.909412 -0.689281 -0.327642   \n",
              "3  0.377436 -1.387024  ... -0.108300  0.005274 -0.190321 -1.175575  0.647376   \n",
              "4 -0.270533  0.817739  ... -0.009431  0.798278 -0.137458  0.141267 -0.206010   \n",
              "5  0.260314 -0.568671  ... -0.208254 -0.559825 -0.026398 -0.371427 -0.232794   \n",
              "6  0.081213  0.464960  ... -0.167716 -0.270710 -0.154104 -0.780055  0.750137   \n",
              "7 -3.807864  0.615375  ...  1.943465 -1.015455  0.057504 -0.649709 -0.415267   \n",
              "8  0.851084 -0.392048  ... -0.073425 -0.268092 -0.204233  1.011592  0.373205   \n",
              "9  0.069539 -0.736727  ... -0.246914 -0.633753 -0.120794 -0.385050 -0.069733   \n",
              "\n",
              "        V26       V27       V28  Amount  Class  \n",
              "0 -0.189115  0.133558 -0.021053  149.62      0  \n",
              "1  0.125895 -0.008983  0.014724    2.69      0  \n",
              "2 -0.139097 -0.055353 -0.059752  378.66      0  \n",
              "3 -0.221929  0.062723  0.061458  123.50      0  \n",
              "4  0.502292  0.219422  0.215153   69.99      0  \n",
              "5  0.105915  0.253844  0.081080    3.67      0  \n",
              "6 -0.257237  0.034507  0.005168    4.99      0  \n",
              "7 -0.051634 -1.206921 -1.085339   40.80      0  \n",
              "8 -0.384157  0.011747  0.142404   93.20      0  \n",
              "9  0.094199  0.246219  0.083076    3.68      0  \n",
              "\n",
              "[10 rows x 31 columns]"
            ],
            "text/html": [
              "\n",
              "  <div id=\"df-83a73c07-0fe1-4f41-aa46-caeee5a1a315\" class=\"colab-df-container\">\n",
              "    <div>\n",
              "<style scoped>\n",
              "    .dataframe tbody tr th:only-of-type {\n",
              "        vertical-align: middle;\n",
              "    }\n",
              "\n",
              "    .dataframe tbody tr th {\n",
              "        vertical-align: top;\n",
              "    }\n",
              "\n",
              "    .dataframe thead th {\n",
              "        text-align: right;\n",
              "    }\n",
              "</style>\n",
              "<table border=\"1\" class=\"dataframe\">\n",
              "  <thead>\n",
              "    <tr style=\"text-align: right;\">\n",
              "      <th></th>\n",
              "      <th>Time</th>\n",
              "      <th>V1</th>\n",
              "      <th>V2</th>\n",
              "      <th>V3</th>\n",
              "      <th>V4</th>\n",
              "      <th>V5</th>\n",
              "      <th>V6</th>\n",
              "      <th>V7</th>\n",
              "      <th>V8</th>\n",
              "      <th>V9</th>\n",
              "      <th>...</th>\n",
              "      <th>V21</th>\n",
              "      <th>V22</th>\n",
              "      <th>V23</th>\n",
              "      <th>V24</th>\n",
              "      <th>V25</th>\n",
              "      <th>V26</th>\n",
              "      <th>V27</th>\n",
              "      <th>V28</th>\n",
              "      <th>Amount</th>\n",
              "      <th>Class</th>\n",
              "    </tr>\n",
              "  </thead>\n",
              "  <tbody>\n",
              "    <tr>\n",
              "      <th>0</th>\n",
              "      <td>0.0</td>\n",
              "      <td>-1.359807</td>\n",
              "      <td>-0.072781</td>\n",
              "      <td>2.536347</td>\n",
              "      <td>1.378155</td>\n",
              "      <td>-0.338321</td>\n",
              "      <td>0.462388</td>\n",
              "      <td>0.239599</td>\n",
              "      <td>0.098698</td>\n",
              "      <td>0.363787</td>\n",
              "      <td>...</td>\n",
              "      <td>-0.018307</td>\n",
              "      <td>0.277838</td>\n",
              "      <td>-0.110474</td>\n",
              "      <td>0.066928</td>\n",
              "      <td>0.128539</td>\n",
              "      <td>-0.189115</td>\n",
              "      <td>0.133558</td>\n",
              "      <td>-0.021053</td>\n",
              "      <td>149.62</td>\n",
              "      <td>0</td>\n",
              "    </tr>\n",
              "    <tr>\n",
              "      <th>1</th>\n",
              "      <td>0.0</td>\n",
              "      <td>1.191857</td>\n",
              "      <td>0.266151</td>\n",
              "      <td>0.166480</td>\n",
              "      <td>0.448154</td>\n",
              "      <td>0.060018</td>\n",
              "      <td>-0.082361</td>\n",
              "      <td>-0.078803</td>\n",
              "      <td>0.085102</td>\n",
              "      <td>-0.255425</td>\n",
              "      <td>...</td>\n",
              "      <td>-0.225775</td>\n",
              "      <td>-0.638672</td>\n",
              "      <td>0.101288</td>\n",
              "      <td>-0.339846</td>\n",
              "      <td>0.167170</td>\n",
              "      <td>0.125895</td>\n",
              "      <td>-0.008983</td>\n",
              "      <td>0.014724</td>\n",
              "      <td>2.69</td>\n",
              "      <td>0</td>\n",
              "    </tr>\n",
              "    <tr>\n",
              "      <th>2</th>\n",
              "      <td>1.0</td>\n",
              "      <td>-1.358354</td>\n",
              "      <td>-1.340163</td>\n",
              "      <td>1.773209</td>\n",
              "      <td>0.379780</td>\n",
              "      <td>-0.503198</td>\n",
              "      <td>1.800499</td>\n",
              "      <td>0.791461</td>\n",
              "      <td>0.247676</td>\n",
              "      <td>-1.514654</td>\n",
              "      <td>...</td>\n",
              "      <td>0.247998</td>\n",
              "      <td>0.771679</td>\n",
              "      <td>0.909412</td>\n",
              "      <td>-0.689281</td>\n",
              "      <td>-0.327642</td>\n",
              "      <td>-0.139097</td>\n",
              "      <td>-0.055353</td>\n",
              "      <td>-0.059752</td>\n",
              "      <td>378.66</td>\n",
              "      <td>0</td>\n",
              "    </tr>\n",
              "    <tr>\n",
              "      <th>3</th>\n",
              "      <td>1.0</td>\n",
              "      <td>-0.966272</td>\n",
              "      <td>-0.185226</td>\n",
              "      <td>1.792993</td>\n",
              "      <td>-0.863291</td>\n",
              "      <td>-0.010309</td>\n",
              "      <td>1.247203</td>\n",
              "      <td>0.237609</td>\n",
              "      <td>0.377436</td>\n",
              "      <td>-1.387024</td>\n",
              "      <td>...</td>\n",
              "      <td>-0.108300</td>\n",
              "      <td>0.005274</td>\n",
              "      <td>-0.190321</td>\n",
              "      <td>-1.175575</td>\n",
              "      <td>0.647376</td>\n",
              "      <td>-0.221929</td>\n",
              "      <td>0.062723</td>\n",
              "      <td>0.061458</td>\n",
              "      <td>123.50</td>\n",
              "      <td>0</td>\n",
              "    </tr>\n",
              "    <tr>\n",
              "      <th>4</th>\n",
              "      <td>2.0</td>\n",
              "      <td>-1.158233</td>\n",
              "      <td>0.877737</td>\n",
              "      <td>1.548718</td>\n",
              "      <td>0.403034</td>\n",
              "      <td>-0.407193</td>\n",
              "      <td>0.095921</td>\n",
              "      <td>0.592941</td>\n",
              "      <td>-0.270533</td>\n",
              "      <td>0.817739</td>\n",
              "      <td>...</td>\n",
              "      <td>-0.009431</td>\n",
              "      <td>0.798278</td>\n",
              "      <td>-0.137458</td>\n",
              "      <td>0.141267</td>\n",
              "      <td>-0.206010</td>\n",
              "      <td>0.502292</td>\n",
              "      <td>0.219422</td>\n",
              "      <td>0.215153</td>\n",
              "      <td>69.99</td>\n",
              "      <td>0</td>\n",
              "    </tr>\n",
              "    <tr>\n",
              "      <th>5</th>\n",
              "      <td>2.0</td>\n",
              "      <td>-0.425966</td>\n",
              "      <td>0.960523</td>\n",
              "      <td>1.141109</td>\n",
              "      <td>-0.168252</td>\n",
              "      <td>0.420987</td>\n",
              "      <td>-0.029728</td>\n",
              "      <td>0.476201</td>\n",
              "      <td>0.260314</td>\n",
              "      <td>-0.568671</td>\n",
              "      <td>...</td>\n",
              "      <td>-0.208254</td>\n",
              "      <td>-0.559825</td>\n",
              "      <td>-0.026398</td>\n",
              "      <td>-0.371427</td>\n",
              "      <td>-0.232794</td>\n",
              "      <td>0.105915</td>\n",
              "      <td>0.253844</td>\n",
              "      <td>0.081080</td>\n",
              "      <td>3.67</td>\n",
              "      <td>0</td>\n",
              "    </tr>\n",
              "    <tr>\n",
              "      <th>6</th>\n",
              "      <td>4.0</td>\n",
              "      <td>1.229658</td>\n",
              "      <td>0.141004</td>\n",
              "      <td>0.045371</td>\n",
              "      <td>1.202613</td>\n",
              "      <td>0.191881</td>\n",
              "      <td>0.272708</td>\n",
              "      <td>-0.005159</td>\n",
              "      <td>0.081213</td>\n",
              "      <td>0.464960</td>\n",
              "      <td>...</td>\n",
              "      <td>-0.167716</td>\n",
              "      <td>-0.270710</td>\n",
              "      <td>-0.154104</td>\n",
              "      <td>-0.780055</td>\n",
              "      <td>0.750137</td>\n",
              "      <td>-0.257237</td>\n",
              "      <td>0.034507</td>\n",
              "      <td>0.005168</td>\n",
              "      <td>4.99</td>\n",
              "      <td>0</td>\n",
              "    </tr>\n",
              "    <tr>\n",
              "      <th>7</th>\n",
              "      <td>7.0</td>\n",
              "      <td>-0.644269</td>\n",
              "      <td>1.417964</td>\n",
              "      <td>1.074380</td>\n",
              "      <td>-0.492199</td>\n",
              "      <td>0.948934</td>\n",
              "      <td>0.428118</td>\n",
              "      <td>1.120631</td>\n",
              "      <td>-3.807864</td>\n",
              "      <td>0.615375</td>\n",
              "      <td>...</td>\n",
              "      <td>1.943465</td>\n",
              "      <td>-1.015455</td>\n",
              "      <td>0.057504</td>\n",
              "      <td>-0.649709</td>\n",
              "      <td>-0.415267</td>\n",
              "      <td>-0.051634</td>\n",
              "      <td>-1.206921</td>\n",
              "      <td>-1.085339</td>\n",
              "      <td>40.80</td>\n",
              "      <td>0</td>\n",
              "    </tr>\n",
              "    <tr>\n",
              "      <th>8</th>\n",
              "      <td>7.0</td>\n",
              "      <td>-0.894286</td>\n",
              "      <td>0.286157</td>\n",
              "      <td>-0.113192</td>\n",
              "      <td>-0.271526</td>\n",
              "      <td>2.669599</td>\n",
              "      <td>3.721818</td>\n",
              "      <td>0.370145</td>\n",
              "      <td>0.851084</td>\n",
              "      <td>-0.392048</td>\n",
              "      <td>...</td>\n",
              "      <td>-0.073425</td>\n",
              "      <td>-0.268092</td>\n",
              "      <td>-0.204233</td>\n",
              "      <td>1.011592</td>\n",
              "      <td>0.373205</td>\n",
              "      <td>-0.384157</td>\n",
              "      <td>0.011747</td>\n",
              "      <td>0.142404</td>\n",
              "      <td>93.20</td>\n",
              "      <td>0</td>\n",
              "    </tr>\n",
              "    <tr>\n",
              "      <th>9</th>\n",
              "      <td>9.0</td>\n",
              "      <td>-0.338262</td>\n",
              "      <td>1.119593</td>\n",
              "      <td>1.044367</td>\n",
              "      <td>-0.222187</td>\n",
              "      <td>0.499361</td>\n",
              "      <td>-0.246761</td>\n",
              "      <td>0.651583</td>\n",
              "      <td>0.069539</td>\n",
              "      <td>-0.736727</td>\n",
              "      <td>...</td>\n",
              "      <td>-0.246914</td>\n",
              "      <td>-0.633753</td>\n",
              "      <td>-0.120794</td>\n",
              "      <td>-0.385050</td>\n",
              "      <td>-0.069733</td>\n",
              "      <td>0.094199</td>\n",
              "      <td>0.246219</td>\n",
              "      <td>0.083076</td>\n",
              "      <td>3.68</td>\n",
              "      <td>0</td>\n",
              "    </tr>\n",
              "  </tbody>\n",
              "</table>\n",
              "<p>10 rows × 31 columns</p>\n",
              "</div>\n",
              "    <div class=\"colab-df-buttons\">\n",
              "\n",
              "  <div class=\"colab-df-container\">\n",
              "    <button class=\"colab-df-convert\" onclick=\"convertToInteractive('df-83a73c07-0fe1-4f41-aa46-caeee5a1a315')\"\n",
              "            title=\"Convert this dataframe to an interactive table.\"\n",
              "            style=\"display:none;\">\n",
              "\n",
              "  <svg xmlns=\"http://www.w3.org/2000/svg\" height=\"24px\" viewBox=\"0 -960 960 960\">\n",
              "    <path d=\"M120-120v-720h720v720H120Zm60-500h600v-160H180v160Zm220 220h160v-160H400v160Zm0 220h160v-160H400v160ZM180-400h160v-160H180v160Zm440 0h160v-160H620v160ZM180-180h160v-160H180v160Zm440 0h160v-160H620v160Z\"/>\n",
              "  </svg>\n",
              "    </button>\n",
              "\n",
              "  <style>\n",
              "    .colab-df-container {\n",
              "      display:flex;\n",
              "      gap: 12px;\n",
              "    }\n",
              "\n",
              "    .colab-df-convert {\n",
              "      background-color: #E8F0FE;\n",
              "      border: none;\n",
              "      border-radius: 50%;\n",
              "      cursor: pointer;\n",
              "      display: none;\n",
              "      fill: #1967D2;\n",
              "      height: 32px;\n",
              "      padding: 0 0 0 0;\n",
              "      width: 32px;\n",
              "    }\n",
              "\n",
              "    .colab-df-convert:hover {\n",
              "      background-color: #E2EBFA;\n",
              "      box-shadow: 0px 1px 2px rgba(60, 64, 67, 0.3), 0px 1px 3px 1px rgba(60, 64, 67, 0.15);\n",
              "      fill: #174EA6;\n",
              "    }\n",
              "\n",
              "    .colab-df-buttons div {\n",
              "      margin-bottom: 4px;\n",
              "    }\n",
              "\n",
              "    [theme=dark] .colab-df-convert {\n",
              "      background-color: #3B4455;\n",
              "      fill: #D2E3FC;\n",
              "    }\n",
              "\n",
              "    [theme=dark] .colab-df-convert:hover {\n",
              "      background-color: #434B5C;\n",
              "      box-shadow: 0px 1px 3px 1px rgba(0, 0, 0, 0.15);\n",
              "      filter: drop-shadow(0px 1px 2px rgba(0, 0, 0, 0.3));\n",
              "      fill: #FFFFFF;\n",
              "    }\n",
              "  </style>\n",
              "\n",
              "    <script>\n",
              "      const buttonEl =\n",
              "        document.querySelector('#df-83a73c07-0fe1-4f41-aa46-caeee5a1a315 button.colab-df-convert');\n",
              "      buttonEl.style.display =\n",
              "        google.colab.kernel.accessAllowed ? 'block' : 'none';\n",
              "\n",
              "      async function convertToInteractive(key) {\n",
              "        const element = document.querySelector('#df-83a73c07-0fe1-4f41-aa46-caeee5a1a315');\n",
              "        const dataTable =\n",
              "          await google.colab.kernel.invokeFunction('convertToInteractive',\n",
              "                                                    [key], {});\n",
              "        if (!dataTable) return;\n",
              "\n",
              "        const docLinkHtml = 'Like what you see? Visit the ' +\n",
              "          '<a target=\"_blank\" href=https://colab.research.google.com/notebooks/data_table.ipynb>data table notebook</a>'\n",
              "          + ' to learn more about interactive tables.';\n",
              "        element.innerHTML = '';\n",
              "        dataTable['output_type'] = 'display_data';\n",
              "        await google.colab.output.renderOutput(dataTable, element);\n",
              "        const docLink = document.createElement('div');\n",
              "        docLink.innerHTML = docLinkHtml;\n",
              "        element.appendChild(docLink);\n",
              "      }\n",
              "    </script>\n",
              "  </div>\n",
              "\n",
              "\n",
              "<div id=\"df-7691ef50-ba5c-4f5c-be3f-53c18d018e76\">\n",
              "  <button class=\"colab-df-quickchart\" onclick=\"quickchart('df-7691ef50-ba5c-4f5c-be3f-53c18d018e76')\"\n",
              "            title=\"Suggest charts\"\n",
              "            style=\"display:none;\">\n",
              "\n",
              "<svg xmlns=\"http://www.w3.org/2000/svg\" height=\"24px\"viewBox=\"0 0 24 24\"\n",
              "     width=\"24px\">\n",
              "    <g>\n",
              "        <path d=\"M19 3H5c-1.1 0-2 .9-2 2v14c0 1.1.9 2 2 2h14c1.1 0 2-.9 2-2V5c0-1.1-.9-2-2-2zM9 17H7v-7h2v7zm4 0h-2V7h2v10zm4 0h-2v-4h2v4z\"/>\n",
              "    </g>\n",
              "</svg>\n",
              "  </button>\n",
              "\n",
              "<style>\n",
              "  .colab-df-quickchart {\n",
              "      --bg-color: #E8F0FE;\n",
              "      --fill-color: #1967D2;\n",
              "      --hover-bg-color: #E2EBFA;\n",
              "      --hover-fill-color: #174EA6;\n",
              "      --disabled-fill-color: #AAA;\n",
              "      --disabled-bg-color: #DDD;\n",
              "  }\n",
              "\n",
              "  [theme=dark] .colab-df-quickchart {\n",
              "      --bg-color: #3B4455;\n",
              "      --fill-color: #D2E3FC;\n",
              "      --hover-bg-color: #434B5C;\n",
              "      --hover-fill-color: #FFFFFF;\n",
              "      --disabled-bg-color: #3B4455;\n",
              "      --disabled-fill-color: #666;\n",
              "  }\n",
              "\n",
              "  .colab-df-quickchart {\n",
              "    background-color: var(--bg-color);\n",
              "    border: none;\n",
              "    border-radius: 50%;\n",
              "    cursor: pointer;\n",
              "    display: none;\n",
              "    fill: var(--fill-color);\n",
              "    height: 32px;\n",
              "    padding: 0;\n",
              "    width: 32px;\n",
              "  }\n",
              "\n",
              "  .colab-df-quickchart:hover {\n",
              "    background-color: var(--hover-bg-color);\n",
              "    box-shadow: 0 1px 2px rgba(60, 64, 67, 0.3), 0 1px 3px 1px rgba(60, 64, 67, 0.15);\n",
              "    fill: var(--button-hover-fill-color);\n",
              "  }\n",
              "\n",
              "  .colab-df-quickchart-complete:disabled,\n",
              "  .colab-df-quickchart-complete:disabled:hover {\n",
              "    background-color: var(--disabled-bg-color);\n",
              "    fill: var(--disabled-fill-color);\n",
              "    box-shadow: none;\n",
              "  }\n",
              "\n",
              "  .colab-df-spinner {\n",
              "    border: 2px solid var(--fill-color);\n",
              "    border-color: transparent;\n",
              "    border-bottom-color: var(--fill-color);\n",
              "    animation:\n",
              "      spin 1s steps(1) infinite;\n",
              "  }\n",
              "\n",
              "  @keyframes spin {\n",
              "    0% {\n",
              "      border-color: transparent;\n",
              "      border-bottom-color: var(--fill-color);\n",
              "      border-left-color: var(--fill-color);\n",
              "    }\n",
              "    20% {\n",
              "      border-color: transparent;\n",
              "      border-left-color: var(--fill-color);\n",
              "      border-top-color: var(--fill-color);\n",
              "    }\n",
              "    30% {\n",
              "      border-color: transparent;\n",
              "      border-left-color: var(--fill-color);\n",
              "      border-top-color: var(--fill-color);\n",
              "      border-right-color: var(--fill-color);\n",
              "    }\n",
              "    40% {\n",
              "      border-color: transparent;\n",
              "      border-right-color: var(--fill-color);\n",
              "      border-top-color: var(--fill-color);\n",
              "    }\n",
              "    60% {\n",
              "      border-color: transparent;\n",
              "      border-right-color: var(--fill-color);\n",
              "    }\n",
              "    80% {\n",
              "      border-color: transparent;\n",
              "      border-right-color: var(--fill-color);\n",
              "      border-bottom-color: var(--fill-color);\n",
              "    }\n",
              "    90% {\n",
              "      border-color: transparent;\n",
              "      border-bottom-color: var(--fill-color);\n",
              "    }\n",
              "  }\n",
              "</style>\n",
              "\n",
              "  <script>\n",
              "    async function quickchart(key) {\n",
              "      const quickchartButtonEl =\n",
              "        document.querySelector('#' + key + ' button');\n",
              "      quickchartButtonEl.disabled = true;  // To prevent multiple clicks.\n",
              "      quickchartButtonEl.classList.add('colab-df-spinner');\n",
              "      try {\n",
              "        const charts = await google.colab.kernel.invokeFunction(\n",
              "            'suggestCharts', [key], {});\n",
              "      } catch (error) {\n",
              "        console.error('Error during call to suggestCharts:', error);\n",
              "      }\n",
              "      quickchartButtonEl.classList.remove('colab-df-spinner');\n",
              "      quickchartButtonEl.classList.add('colab-df-quickchart-complete');\n",
              "    }\n",
              "    (() => {\n",
              "      let quickchartButtonEl =\n",
              "        document.querySelector('#df-7691ef50-ba5c-4f5c-be3f-53c18d018e76 button');\n",
              "      quickchartButtonEl.style.display =\n",
              "        google.colab.kernel.accessAllowed ? 'block' : 'none';\n",
              "    })();\n",
              "  </script>\n",
              "</div>\n",
              "\n",
              "    </div>\n",
              "  </div>\n"
            ],
            "application/vnd.google.colaboratory.intrinsic+json": {
              "type": "dataframe",
              "variable_name": "data"
            }
          },
          "metadata": {},
          "execution_count": 4
        }
      ],
      "source": [
        "#DATA PREPARATION\n",
        "data.head(10)"
      ]
    },
    {
      "cell_type": "code",
      "execution_count": null,
      "id": "440cb68f",
      "metadata": {
        "colab": {
          "base_uri": "https://localhost:8080/"
        },
        "id": "440cb68f",
        "outputId": "0c2b8956-9d61-48f1-d295-c34612fb7cde"
      },
      "outputs": [
        {
          "output_type": "execute_result",
          "data": {
            "text/plain": [
              "(284807, 31)"
            ]
          },
          "metadata": {},
          "execution_count": 5
        }
      ],
      "source": [
        "data.shape"
      ]
    },
    {
      "cell_type": "code",
      "execution_count": null,
      "id": "likely-canberra",
      "metadata": {
        "_uuid": "8705f721907820bfc8c720f2f5ac5e0f9f28fa42",
        "execution": {
          "iopub.execute_input": "2021-04-01T11:04:23.419073Z",
          "iopub.status.busy": "2021-04-01T11:04:23.416321Z",
          "iopub.status.idle": "2021-04-01T11:04:23.827838Z",
          "shell.execute_reply": "2021-04-01T11:04:23.827153Z"
        },
        "papermill": {
          "duration": 0.520226,
          "end_time": "2021-04-01T11:04:23.828049",
          "exception": false,
          "start_time": "2021-04-01T11:04:23.307823",
          "status": "completed"
        },
        "tags": [],
        "colab": {
          "base_uri": "https://localhost:8080/",
          "height": 346
        },
        "id": "likely-canberra",
        "outputId": "6e470007-a71c-40c7-dffd-d6958ce60bbe"
      },
      "outputs": [
        {
          "output_type": "execute_result",
          "data": {
            "text/plain": [
              "                Time            V1            V2            V3            V4  \\\n",
              "count  284807.000000  2.848070e+05  2.848070e+05  2.848070e+05  2.848070e+05   \n",
              "mean    94813.859575  1.168375e-15  3.416908e-16 -1.379537e-15  2.074095e-15   \n",
              "std     47488.145955  1.958696e+00  1.651309e+00  1.516255e+00  1.415869e+00   \n",
              "min         0.000000 -5.640751e+01 -7.271573e+01 -4.832559e+01 -5.683171e+00   \n",
              "25%     54201.500000 -9.203734e-01 -5.985499e-01 -8.903648e-01 -8.486401e-01   \n",
              "50%     84692.000000  1.810880e-02  6.548556e-02  1.798463e-01 -1.984653e-02   \n",
              "75%    139320.500000  1.315642e+00  8.037239e-01  1.027196e+00  7.433413e-01   \n",
              "max    172792.000000  2.454930e+00  2.205773e+01  9.382558e+00  1.687534e+01   \n",
              "\n",
              "                 V5            V6            V7            V8            V9  \\\n",
              "count  2.848070e+05  2.848070e+05  2.848070e+05  2.848070e+05  2.848070e+05   \n",
              "mean   9.604066e-16  1.487313e-15 -5.556467e-16  1.213481e-16 -2.406331e-15   \n",
              "std    1.380247e+00  1.332271e+00  1.237094e+00  1.194353e+00  1.098632e+00   \n",
              "min   -1.137433e+02 -2.616051e+01 -4.355724e+01 -7.321672e+01 -1.343407e+01   \n",
              "25%   -6.915971e-01 -7.682956e-01 -5.540759e-01 -2.086297e-01 -6.430976e-01   \n",
              "50%   -5.433583e-02 -2.741871e-01  4.010308e-02  2.235804e-02 -5.142873e-02   \n",
              "75%    6.119264e-01  3.985649e-01  5.704361e-01  3.273459e-01  5.971390e-01   \n",
              "max    3.480167e+01  7.330163e+01  1.205895e+02  2.000721e+01  1.559499e+01   \n",
              "\n",
              "       ...           V21           V22           V23           V24  \\\n",
              "count  ...  2.848070e+05  2.848070e+05  2.848070e+05  2.848070e+05   \n",
              "mean   ...  1.654067e-16 -3.568593e-16  2.578648e-16  4.473266e-15   \n",
              "std    ...  7.345240e-01  7.257016e-01  6.244603e-01  6.056471e-01   \n",
              "min    ... -3.483038e+01 -1.093314e+01 -4.480774e+01 -2.836627e+00   \n",
              "25%    ... -2.283949e-01 -5.423504e-01 -1.618463e-01 -3.545861e-01   \n",
              "50%    ... -2.945017e-02  6.781943e-03 -1.119293e-02  4.097606e-02   \n",
              "75%    ...  1.863772e-01  5.285536e-01  1.476421e-01  4.395266e-01   \n",
              "max    ...  2.720284e+01  1.050309e+01  2.252841e+01  4.584549e+00   \n",
              "\n",
              "                V25           V26           V27           V28         Amount  \\\n",
              "count  2.848070e+05  2.848070e+05  2.848070e+05  2.848070e+05  284807.000000   \n",
              "mean   5.340915e-16  1.683437e-15 -3.660091e-16 -1.227390e-16      88.349619   \n",
              "std    5.212781e-01  4.822270e-01  4.036325e-01  3.300833e-01     250.120109   \n",
              "min   -1.029540e+01 -2.604551e+00 -2.256568e+01 -1.543008e+01       0.000000   \n",
              "25%   -3.171451e-01 -3.269839e-01 -7.083953e-02 -5.295979e-02       5.600000   \n",
              "50%    1.659350e-02 -5.213911e-02  1.342146e-03  1.124383e-02      22.000000   \n",
              "75%    3.507156e-01  2.409522e-01  9.104512e-02  7.827995e-02      77.165000   \n",
              "max    7.519589e+00  3.517346e+00  3.161220e+01  3.384781e+01   25691.160000   \n",
              "\n",
              "               Class  \n",
              "count  284807.000000  \n",
              "mean        0.001727  \n",
              "std         0.041527  \n",
              "min         0.000000  \n",
              "25%         0.000000  \n",
              "50%         0.000000  \n",
              "75%         0.000000  \n",
              "max         1.000000  \n",
              "\n",
              "[8 rows x 31 columns]"
            ],
            "text/html": [
              "\n",
              "  <div id=\"df-b9bdba19-cdb5-49de-ac69-29f6a26d536f\" class=\"colab-df-container\">\n",
              "    <div>\n",
              "<style scoped>\n",
              "    .dataframe tbody tr th:only-of-type {\n",
              "        vertical-align: middle;\n",
              "    }\n",
              "\n",
              "    .dataframe tbody tr th {\n",
              "        vertical-align: top;\n",
              "    }\n",
              "\n",
              "    .dataframe thead th {\n",
              "        text-align: right;\n",
              "    }\n",
              "</style>\n",
              "<table border=\"1\" class=\"dataframe\">\n",
              "  <thead>\n",
              "    <tr style=\"text-align: right;\">\n",
              "      <th></th>\n",
              "      <th>Time</th>\n",
              "      <th>V1</th>\n",
              "      <th>V2</th>\n",
              "      <th>V3</th>\n",
              "      <th>V4</th>\n",
              "      <th>V5</th>\n",
              "      <th>V6</th>\n",
              "      <th>V7</th>\n",
              "      <th>V8</th>\n",
              "      <th>V9</th>\n",
              "      <th>...</th>\n",
              "      <th>V21</th>\n",
              "      <th>V22</th>\n",
              "      <th>V23</th>\n",
              "      <th>V24</th>\n",
              "      <th>V25</th>\n",
              "      <th>V26</th>\n",
              "      <th>V27</th>\n",
              "      <th>V28</th>\n",
              "      <th>Amount</th>\n",
              "      <th>Class</th>\n",
              "    </tr>\n",
              "  </thead>\n",
              "  <tbody>\n",
              "    <tr>\n",
              "      <th>count</th>\n",
              "      <td>284807.000000</td>\n",
              "      <td>2.848070e+05</td>\n",
              "      <td>2.848070e+05</td>\n",
              "      <td>2.848070e+05</td>\n",
              "      <td>2.848070e+05</td>\n",
              "      <td>2.848070e+05</td>\n",
              "      <td>2.848070e+05</td>\n",
              "      <td>2.848070e+05</td>\n",
              "      <td>2.848070e+05</td>\n",
              "      <td>2.848070e+05</td>\n",
              "      <td>...</td>\n",
              "      <td>2.848070e+05</td>\n",
              "      <td>2.848070e+05</td>\n",
              "      <td>2.848070e+05</td>\n",
              "      <td>2.848070e+05</td>\n",
              "      <td>2.848070e+05</td>\n",
              "      <td>2.848070e+05</td>\n",
              "      <td>2.848070e+05</td>\n",
              "      <td>2.848070e+05</td>\n",
              "      <td>284807.000000</td>\n",
              "      <td>284807.000000</td>\n",
              "    </tr>\n",
              "    <tr>\n",
              "      <th>mean</th>\n",
              "      <td>94813.859575</td>\n",
              "      <td>1.168375e-15</td>\n",
              "      <td>3.416908e-16</td>\n",
              "      <td>-1.379537e-15</td>\n",
              "      <td>2.074095e-15</td>\n",
              "      <td>9.604066e-16</td>\n",
              "      <td>1.487313e-15</td>\n",
              "      <td>-5.556467e-16</td>\n",
              "      <td>1.213481e-16</td>\n",
              "      <td>-2.406331e-15</td>\n",
              "      <td>...</td>\n",
              "      <td>1.654067e-16</td>\n",
              "      <td>-3.568593e-16</td>\n",
              "      <td>2.578648e-16</td>\n",
              "      <td>4.473266e-15</td>\n",
              "      <td>5.340915e-16</td>\n",
              "      <td>1.683437e-15</td>\n",
              "      <td>-3.660091e-16</td>\n",
              "      <td>-1.227390e-16</td>\n",
              "      <td>88.349619</td>\n",
              "      <td>0.001727</td>\n",
              "    </tr>\n",
              "    <tr>\n",
              "      <th>std</th>\n",
              "      <td>47488.145955</td>\n",
              "      <td>1.958696e+00</td>\n",
              "      <td>1.651309e+00</td>\n",
              "      <td>1.516255e+00</td>\n",
              "      <td>1.415869e+00</td>\n",
              "      <td>1.380247e+00</td>\n",
              "      <td>1.332271e+00</td>\n",
              "      <td>1.237094e+00</td>\n",
              "      <td>1.194353e+00</td>\n",
              "      <td>1.098632e+00</td>\n",
              "      <td>...</td>\n",
              "      <td>7.345240e-01</td>\n",
              "      <td>7.257016e-01</td>\n",
              "      <td>6.244603e-01</td>\n",
              "      <td>6.056471e-01</td>\n",
              "      <td>5.212781e-01</td>\n",
              "      <td>4.822270e-01</td>\n",
              "      <td>4.036325e-01</td>\n",
              "      <td>3.300833e-01</td>\n",
              "      <td>250.120109</td>\n",
              "      <td>0.041527</td>\n",
              "    </tr>\n",
              "    <tr>\n",
              "      <th>min</th>\n",
              "      <td>0.000000</td>\n",
              "      <td>-5.640751e+01</td>\n",
              "      <td>-7.271573e+01</td>\n",
              "      <td>-4.832559e+01</td>\n",
              "      <td>-5.683171e+00</td>\n",
              "      <td>-1.137433e+02</td>\n",
              "      <td>-2.616051e+01</td>\n",
              "      <td>-4.355724e+01</td>\n",
              "      <td>-7.321672e+01</td>\n",
              "      <td>-1.343407e+01</td>\n",
              "      <td>...</td>\n",
              "      <td>-3.483038e+01</td>\n",
              "      <td>-1.093314e+01</td>\n",
              "      <td>-4.480774e+01</td>\n",
              "      <td>-2.836627e+00</td>\n",
              "      <td>-1.029540e+01</td>\n",
              "      <td>-2.604551e+00</td>\n",
              "      <td>-2.256568e+01</td>\n",
              "      <td>-1.543008e+01</td>\n",
              "      <td>0.000000</td>\n",
              "      <td>0.000000</td>\n",
              "    </tr>\n",
              "    <tr>\n",
              "      <th>25%</th>\n",
              "      <td>54201.500000</td>\n",
              "      <td>-9.203734e-01</td>\n",
              "      <td>-5.985499e-01</td>\n",
              "      <td>-8.903648e-01</td>\n",
              "      <td>-8.486401e-01</td>\n",
              "      <td>-6.915971e-01</td>\n",
              "      <td>-7.682956e-01</td>\n",
              "      <td>-5.540759e-01</td>\n",
              "      <td>-2.086297e-01</td>\n",
              "      <td>-6.430976e-01</td>\n",
              "      <td>...</td>\n",
              "      <td>-2.283949e-01</td>\n",
              "      <td>-5.423504e-01</td>\n",
              "      <td>-1.618463e-01</td>\n",
              "      <td>-3.545861e-01</td>\n",
              "      <td>-3.171451e-01</td>\n",
              "      <td>-3.269839e-01</td>\n",
              "      <td>-7.083953e-02</td>\n",
              "      <td>-5.295979e-02</td>\n",
              "      <td>5.600000</td>\n",
              "      <td>0.000000</td>\n",
              "    </tr>\n",
              "    <tr>\n",
              "      <th>50%</th>\n",
              "      <td>84692.000000</td>\n",
              "      <td>1.810880e-02</td>\n",
              "      <td>6.548556e-02</td>\n",
              "      <td>1.798463e-01</td>\n",
              "      <td>-1.984653e-02</td>\n",
              "      <td>-5.433583e-02</td>\n",
              "      <td>-2.741871e-01</td>\n",
              "      <td>4.010308e-02</td>\n",
              "      <td>2.235804e-02</td>\n",
              "      <td>-5.142873e-02</td>\n",
              "      <td>...</td>\n",
              "      <td>-2.945017e-02</td>\n",
              "      <td>6.781943e-03</td>\n",
              "      <td>-1.119293e-02</td>\n",
              "      <td>4.097606e-02</td>\n",
              "      <td>1.659350e-02</td>\n",
              "      <td>-5.213911e-02</td>\n",
              "      <td>1.342146e-03</td>\n",
              "      <td>1.124383e-02</td>\n",
              "      <td>22.000000</td>\n",
              "      <td>0.000000</td>\n",
              "    </tr>\n",
              "    <tr>\n",
              "      <th>75%</th>\n",
              "      <td>139320.500000</td>\n",
              "      <td>1.315642e+00</td>\n",
              "      <td>8.037239e-01</td>\n",
              "      <td>1.027196e+00</td>\n",
              "      <td>7.433413e-01</td>\n",
              "      <td>6.119264e-01</td>\n",
              "      <td>3.985649e-01</td>\n",
              "      <td>5.704361e-01</td>\n",
              "      <td>3.273459e-01</td>\n",
              "      <td>5.971390e-01</td>\n",
              "      <td>...</td>\n",
              "      <td>1.863772e-01</td>\n",
              "      <td>5.285536e-01</td>\n",
              "      <td>1.476421e-01</td>\n",
              "      <td>4.395266e-01</td>\n",
              "      <td>3.507156e-01</td>\n",
              "      <td>2.409522e-01</td>\n",
              "      <td>9.104512e-02</td>\n",
              "      <td>7.827995e-02</td>\n",
              "      <td>77.165000</td>\n",
              "      <td>0.000000</td>\n",
              "    </tr>\n",
              "    <tr>\n",
              "      <th>max</th>\n",
              "      <td>172792.000000</td>\n",
              "      <td>2.454930e+00</td>\n",
              "      <td>2.205773e+01</td>\n",
              "      <td>9.382558e+00</td>\n",
              "      <td>1.687534e+01</td>\n",
              "      <td>3.480167e+01</td>\n",
              "      <td>7.330163e+01</td>\n",
              "      <td>1.205895e+02</td>\n",
              "      <td>2.000721e+01</td>\n",
              "      <td>1.559499e+01</td>\n",
              "      <td>...</td>\n",
              "      <td>2.720284e+01</td>\n",
              "      <td>1.050309e+01</td>\n",
              "      <td>2.252841e+01</td>\n",
              "      <td>4.584549e+00</td>\n",
              "      <td>7.519589e+00</td>\n",
              "      <td>3.517346e+00</td>\n",
              "      <td>3.161220e+01</td>\n",
              "      <td>3.384781e+01</td>\n",
              "      <td>25691.160000</td>\n",
              "      <td>1.000000</td>\n",
              "    </tr>\n",
              "  </tbody>\n",
              "</table>\n",
              "<p>8 rows × 31 columns</p>\n",
              "</div>\n",
              "    <div class=\"colab-df-buttons\">\n",
              "\n",
              "  <div class=\"colab-df-container\">\n",
              "    <button class=\"colab-df-convert\" onclick=\"convertToInteractive('df-b9bdba19-cdb5-49de-ac69-29f6a26d536f')\"\n",
              "            title=\"Convert this dataframe to an interactive table.\"\n",
              "            style=\"display:none;\">\n",
              "\n",
              "  <svg xmlns=\"http://www.w3.org/2000/svg\" height=\"24px\" viewBox=\"0 -960 960 960\">\n",
              "    <path d=\"M120-120v-720h720v720H120Zm60-500h600v-160H180v160Zm220 220h160v-160H400v160Zm0 220h160v-160H400v160ZM180-400h160v-160H180v160Zm440 0h160v-160H620v160ZM180-180h160v-160H180v160Zm440 0h160v-160H620v160Z\"/>\n",
              "  </svg>\n",
              "    </button>\n",
              "\n",
              "  <style>\n",
              "    .colab-df-container {\n",
              "      display:flex;\n",
              "      gap: 12px;\n",
              "    }\n",
              "\n",
              "    .colab-df-convert {\n",
              "      background-color: #E8F0FE;\n",
              "      border: none;\n",
              "      border-radius: 50%;\n",
              "      cursor: pointer;\n",
              "      display: none;\n",
              "      fill: #1967D2;\n",
              "      height: 32px;\n",
              "      padding: 0 0 0 0;\n",
              "      width: 32px;\n",
              "    }\n",
              "\n",
              "    .colab-df-convert:hover {\n",
              "      background-color: #E2EBFA;\n",
              "      box-shadow: 0px 1px 2px rgba(60, 64, 67, 0.3), 0px 1px 3px 1px rgba(60, 64, 67, 0.15);\n",
              "      fill: #174EA6;\n",
              "    }\n",
              "\n",
              "    .colab-df-buttons div {\n",
              "      margin-bottom: 4px;\n",
              "    }\n",
              "\n",
              "    [theme=dark] .colab-df-convert {\n",
              "      background-color: #3B4455;\n",
              "      fill: #D2E3FC;\n",
              "    }\n",
              "\n",
              "    [theme=dark] .colab-df-convert:hover {\n",
              "      background-color: #434B5C;\n",
              "      box-shadow: 0px 1px 3px 1px rgba(0, 0, 0, 0.15);\n",
              "      filter: drop-shadow(0px 1px 2px rgba(0, 0, 0, 0.3));\n",
              "      fill: #FFFFFF;\n",
              "    }\n",
              "  </style>\n",
              "\n",
              "    <script>\n",
              "      const buttonEl =\n",
              "        document.querySelector('#df-b9bdba19-cdb5-49de-ac69-29f6a26d536f button.colab-df-convert');\n",
              "      buttonEl.style.display =\n",
              "        google.colab.kernel.accessAllowed ? 'block' : 'none';\n",
              "\n",
              "      async function convertToInteractive(key) {\n",
              "        const element = document.querySelector('#df-b9bdba19-cdb5-49de-ac69-29f6a26d536f');\n",
              "        const dataTable =\n",
              "          await google.colab.kernel.invokeFunction('convertToInteractive',\n",
              "                                                    [key], {});\n",
              "        if (!dataTable) return;\n",
              "\n",
              "        const docLinkHtml = 'Like what you see? Visit the ' +\n",
              "          '<a target=\"_blank\" href=https://colab.research.google.com/notebooks/data_table.ipynb>data table notebook</a>'\n",
              "          + ' to learn more about interactive tables.';\n",
              "        element.innerHTML = '';\n",
              "        dataTable['output_type'] = 'display_data';\n",
              "        await google.colab.output.renderOutput(dataTable, element);\n",
              "        const docLink = document.createElement('div');\n",
              "        docLink.innerHTML = docLinkHtml;\n",
              "        element.appendChild(docLink);\n",
              "      }\n",
              "    </script>\n",
              "  </div>\n",
              "\n",
              "\n",
              "<div id=\"df-2b216187-de8b-4fda-9e0a-f1f67b20b403\">\n",
              "  <button class=\"colab-df-quickchart\" onclick=\"quickchart('df-2b216187-de8b-4fda-9e0a-f1f67b20b403')\"\n",
              "            title=\"Suggest charts\"\n",
              "            style=\"display:none;\">\n",
              "\n",
              "<svg xmlns=\"http://www.w3.org/2000/svg\" height=\"24px\"viewBox=\"0 0 24 24\"\n",
              "     width=\"24px\">\n",
              "    <g>\n",
              "        <path d=\"M19 3H5c-1.1 0-2 .9-2 2v14c0 1.1.9 2 2 2h14c1.1 0 2-.9 2-2V5c0-1.1-.9-2-2-2zM9 17H7v-7h2v7zm4 0h-2V7h2v10zm4 0h-2v-4h2v4z\"/>\n",
              "    </g>\n",
              "</svg>\n",
              "  </button>\n",
              "\n",
              "<style>\n",
              "  .colab-df-quickchart {\n",
              "      --bg-color: #E8F0FE;\n",
              "      --fill-color: #1967D2;\n",
              "      --hover-bg-color: #E2EBFA;\n",
              "      --hover-fill-color: #174EA6;\n",
              "      --disabled-fill-color: #AAA;\n",
              "      --disabled-bg-color: #DDD;\n",
              "  }\n",
              "\n",
              "  [theme=dark] .colab-df-quickchart {\n",
              "      --bg-color: #3B4455;\n",
              "      --fill-color: #D2E3FC;\n",
              "      --hover-bg-color: #434B5C;\n",
              "      --hover-fill-color: #FFFFFF;\n",
              "      --disabled-bg-color: #3B4455;\n",
              "      --disabled-fill-color: #666;\n",
              "  }\n",
              "\n",
              "  .colab-df-quickchart {\n",
              "    background-color: var(--bg-color);\n",
              "    border: none;\n",
              "    border-radius: 50%;\n",
              "    cursor: pointer;\n",
              "    display: none;\n",
              "    fill: var(--fill-color);\n",
              "    height: 32px;\n",
              "    padding: 0;\n",
              "    width: 32px;\n",
              "  }\n",
              "\n",
              "  .colab-df-quickchart:hover {\n",
              "    background-color: var(--hover-bg-color);\n",
              "    box-shadow: 0 1px 2px rgba(60, 64, 67, 0.3), 0 1px 3px 1px rgba(60, 64, 67, 0.15);\n",
              "    fill: var(--button-hover-fill-color);\n",
              "  }\n",
              "\n",
              "  .colab-df-quickchart-complete:disabled,\n",
              "  .colab-df-quickchart-complete:disabled:hover {\n",
              "    background-color: var(--disabled-bg-color);\n",
              "    fill: var(--disabled-fill-color);\n",
              "    box-shadow: none;\n",
              "  }\n",
              "\n",
              "  .colab-df-spinner {\n",
              "    border: 2px solid var(--fill-color);\n",
              "    border-color: transparent;\n",
              "    border-bottom-color: var(--fill-color);\n",
              "    animation:\n",
              "      spin 1s steps(1) infinite;\n",
              "  }\n",
              "\n",
              "  @keyframes spin {\n",
              "    0% {\n",
              "      border-color: transparent;\n",
              "      border-bottom-color: var(--fill-color);\n",
              "      border-left-color: var(--fill-color);\n",
              "    }\n",
              "    20% {\n",
              "      border-color: transparent;\n",
              "      border-left-color: var(--fill-color);\n",
              "      border-top-color: var(--fill-color);\n",
              "    }\n",
              "    30% {\n",
              "      border-color: transparent;\n",
              "      border-left-color: var(--fill-color);\n",
              "      border-top-color: var(--fill-color);\n",
              "      border-right-color: var(--fill-color);\n",
              "    }\n",
              "    40% {\n",
              "      border-color: transparent;\n",
              "      border-right-color: var(--fill-color);\n",
              "      border-top-color: var(--fill-color);\n",
              "    }\n",
              "    60% {\n",
              "      border-color: transparent;\n",
              "      border-right-color: var(--fill-color);\n",
              "    }\n",
              "    80% {\n",
              "      border-color: transparent;\n",
              "      border-right-color: var(--fill-color);\n",
              "      border-bottom-color: var(--fill-color);\n",
              "    }\n",
              "    90% {\n",
              "      border-color: transparent;\n",
              "      border-bottom-color: var(--fill-color);\n",
              "    }\n",
              "  }\n",
              "</style>\n",
              "\n",
              "  <script>\n",
              "    async function quickchart(key) {\n",
              "      const quickchartButtonEl =\n",
              "        document.querySelector('#' + key + ' button');\n",
              "      quickchartButtonEl.disabled = true;  // To prevent multiple clicks.\n",
              "      quickchartButtonEl.classList.add('colab-df-spinner');\n",
              "      try {\n",
              "        const charts = await google.colab.kernel.invokeFunction(\n",
              "            'suggestCharts', [key], {});\n",
              "      } catch (error) {\n",
              "        console.error('Error during call to suggestCharts:', error);\n",
              "      }\n",
              "      quickchartButtonEl.classList.remove('colab-df-spinner');\n",
              "      quickchartButtonEl.classList.add('colab-df-quickchart-complete');\n",
              "    }\n",
              "    (() => {\n",
              "      let quickchartButtonEl =\n",
              "        document.querySelector('#df-2b216187-de8b-4fda-9e0a-f1f67b20b403 button');\n",
              "      quickchartButtonEl.style.display =\n",
              "        google.colab.kernel.accessAllowed ? 'block' : 'none';\n",
              "    })();\n",
              "  </script>\n",
              "</div>\n",
              "\n",
              "    </div>\n",
              "  </div>\n"
            ],
            "application/vnd.google.colaboratory.intrinsic+json": {
              "type": "dataframe"
            }
          },
          "metadata": {},
          "execution_count": 6
        }
      ],
      "source": [
        "data.describe()"
      ]
    },
    {
      "cell_type": "code",
      "execution_count": null,
      "id": "4249aaba",
      "metadata": {
        "colab": {
          "base_uri": "https://localhost:8080/"
        },
        "id": "4249aaba",
        "outputId": "a3d07956-bd64-4b36-df01-35c30ae1ddeb"
      },
      "outputs": [
        {
          "output_type": "execute_result",
          "data": {
            "text/plain": [
              "Index(['Time', 'V1', 'V2', 'V3', 'V4', 'V5', 'V6', 'V7', 'V8', 'V9', 'V10',\n",
              "       'V11', 'V12', 'V13', 'V14', 'V15', 'V16', 'V17', 'V18', 'V19', 'V20',\n",
              "       'V21', 'V22', 'V23', 'V24', 'V25', 'V26', 'V27', 'V28', 'Amount',\n",
              "       'Class'],\n",
              "      dtype='object')"
            ]
          },
          "metadata": {},
          "execution_count": 7
        }
      ],
      "source": [
        "data.columns"
      ]
    },
    {
      "cell_type": "code",
      "execution_count": null,
      "id": "42b6f3ab",
      "metadata": {
        "colab": {
          "base_uri": "https://localhost:8080/"
        },
        "id": "42b6f3ab",
        "outputId": "bcfb8ae0-39ce-48b2-b351-9a3c2dc1d438"
      },
      "outputs": [
        {
          "output_type": "stream",
          "name": "stdout",
          "text": [
            "<class 'pandas.core.frame.DataFrame'>\n",
            "RangeIndex: 284807 entries, 0 to 284806\n",
            "Data columns (total 31 columns):\n",
            " #   Column  Non-Null Count   Dtype  \n",
            "---  ------  --------------   -----  \n",
            " 0   Time    284807 non-null  float64\n",
            " 1   V1      284807 non-null  float64\n",
            " 2   V2      284807 non-null  float64\n",
            " 3   V3      284807 non-null  float64\n",
            " 4   V4      284807 non-null  float64\n",
            " 5   V5      284807 non-null  float64\n",
            " 6   V6      284807 non-null  float64\n",
            " 7   V7      284807 non-null  float64\n",
            " 8   V8      284807 non-null  float64\n",
            " 9   V9      284807 non-null  float64\n",
            " 10  V10     284807 non-null  float64\n",
            " 11  V11     284807 non-null  float64\n",
            " 12  V12     284807 non-null  float64\n",
            " 13  V13     284807 non-null  float64\n",
            " 14  V14     284807 non-null  float64\n",
            " 15  V15     284807 non-null  float64\n",
            " 16  V16     284807 non-null  float64\n",
            " 17  V17     284807 non-null  float64\n",
            " 18  V18     284807 non-null  float64\n",
            " 19  V19     284807 non-null  float64\n",
            " 20  V20     284807 non-null  float64\n",
            " 21  V21     284807 non-null  float64\n",
            " 22  V22     284807 non-null  float64\n",
            " 23  V23     284807 non-null  float64\n",
            " 24  V24     284807 non-null  float64\n",
            " 25  V25     284807 non-null  float64\n",
            " 26  V26     284807 non-null  float64\n",
            " 27  V27     284807 non-null  float64\n",
            " 28  V28     284807 non-null  float64\n",
            " 29  Amount  284807 non-null  float64\n",
            " 30  Class   284807 non-null  int64  \n",
            "dtypes: float64(30), int64(1)\n",
            "memory usage: 67.4 MB\n"
          ]
        }
      ],
      "source": [
        "data.info()"
      ]
    },
    {
      "cell_type": "code",
      "execution_count": null,
      "id": "801acbb1",
      "metadata": {
        "colab": {
          "base_uri": "https://localhost:8080/"
        },
        "id": "801acbb1",
        "outputId": "afcc6e50-910b-471b-872e-25b7081e7dad"
      },
      "outputs": [
        {
          "output_type": "execute_result",
          "data": {
            "text/plain": [
              "0"
            ]
          },
          "metadata": {},
          "execution_count": 9
        }
      ],
      "source": [
        "data.isnull().values.sum()"
      ]
    },
    {
      "cell_type": "code",
      "execution_count": null,
      "id": "b391b7d3",
      "metadata": {
        "colab": {
          "base_uri": "https://localhost:8080/"
        },
        "id": "b391b7d3",
        "outputId": "8490f44a-f16f-4037-9e9b-37324ddda035"
      },
      "outputs": [
        {
          "output_type": "execute_result",
          "data": {
            "text/plain": [
              "Time      0\n",
              "V1        0\n",
              "V2        0\n",
              "V3        0\n",
              "V4        0\n",
              "V5        0\n",
              "V6        0\n",
              "V7        0\n",
              "V8        0\n",
              "V9        0\n",
              "V10       0\n",
              "V11       0\n",
              "V12       0\n",
              "V13       0\n",
              "V14       0\n",
              "V15       0\n",
              "V16       0\n",
              "V17       0\n",
              "V18       0\n",
              "V19       0\n",
              "V20       0\n",
              "V21       0\n",
              "V22       0\n",
              "V23       0\n",
              "V24       0\n",
              "V25       0\n",
              "V26       0\n",
              "V27       0\n",
              "V28       0\n",
              "Amount    0\n",
              "Class     0\n",
              "dtype: int64"
            ]
          },
          "metadata": {},
          "execution_count": 10
        }
      ],
      "source": [
        "#CHECK MISSING DATA\n",
        "data.isnull().sum()"
      ]
    },
    {
      "cell_type": "code",
      "execution_count": null,
      "id": "082a7ae8",
      "metadata": {
        "colab": {
          "base_uri": "https://localhost:8080/"
        },
        "id": "082a7ae8",
        "outputId": "fdbb5c3c-bf3d-421d-8e5f-5d8a7d3dd7c7"
      },
      "outputs": [
        {
          "output_type": "execute_result",
          "data": {
            "text/plain": [
              "1854"
            ]
          },
          "metadata": {},
          "execution_count": 11
        }
      ],
      "source": [
        "data.duplicated(keep=False).sum()"
      ]
    },
    {
      "cell_type": "code",
      "execution_count": null,
      "id": "90706cde",
      "metadata": {
        "colab": {
          "base_uri": "https://localhost:8080/"
        },
        "id": "90706cde",
        "outputId": "44f8c818-8e9d-4fb1-8732-60887804e51d"
      },
      "outputs": [
        {
          "output_type": "execute_result",
          "data": {
            "text/plain": [
              "count    284807.000000\n",
              "mean          0.001727\n",
              "std           0.041527\n",
              "min           0.000000\n",
              "25%           0.000000\n",
              "50%           0.000000\n",
              "75%           0.000000\n",
              "max           1.000000\n",
              "Name: Class, dtype: float64"
            ]
          },
          "metadata": {},
          "execution_count": 12
        }
      ],
      "source": [
        "data[\"Class\"].describe()"
      ]
    },
    {
      "cell_type": "code",
      "execution_count": null,
      "id": "988ef6df",
      "metadata": {
        "colab": {
          "base_uri": "https://localhost:8080/",
          "height": 589
        },
        "id": "988ef6df",
        "outputId": "14dd646a-bc6a-4690-a1e6-23832850f393"
      },
      "outputs": [
        {
          "output_type": "display_data",
          "data": {
            "text/plain": [
              "<Figure size 600x600 with 1 Axes>"
            ],
            "image/png": "[encoded data removed]"
          },
          "metadata": {}
        },
        {
          "output_type": "stream",
          "name": "stdout",
          "text": [
            "Class\n",
            "0    284315\n",
            "1       492\n",
            "Name: count, dtype: int64\n"
          ]
        }
      ],
      "source": [
        "plt.title('fraudulent vs non-fraudulent ')\n",
        "data['Class'].value_counts().plot(kind='pie', autopct=\"%.2f%%\",\n",
        "                                        startangle = 90, colors = ['Purple','white'], figsize=(6,6))\n",
        "plt.show();\n",
        "print(data.Class.value_counts())"
      ]
    },
    {
      "cell_type": "code",
      "execution_count": null,
      "id": "e6d910d3",
      "metadata": {
        "colab": {
          "base_uri": "https://localhost:8080/"
        },
        "id": "e6d910d3",
        "outputId": "7933bdcd-0ae0-4b82-cb49-3a09192b4266"
      },
      "outputs": [
        {
          "output_type": "stream",
          "name": "stdout",
          "text": [
            "The outlier fraction is : 0.1727485630620034\n",
            "The valid transactions are : 284315\n",
            "The fraud transactions are : 492\n"
          ]
        }
      ],
      "source": [
        "# DETERMINE NUMBER OF VALID,FRAUD\n",
        "valid = len(data[data['Class'] == 0])\n",
        "fraud = len(data[data['Class'] == 1])\n",
        "\n",
        "Outlier_Fraction = (fraud/(valid+fraud)) * 100\n",
        "\n",
        "print('The outlier fraction is :' , Outlier_Fraction)\n",
        "print('The valid transactions are :'  , valid )\n",
        "print('The fraud transactions are :'  , fraud )"
      ]
    },
    {
      "cell_type": "code",
      "execution_count": null,
      "id": "49279eba",
      "metadata": {
        "colab": {
          "base_uri": "https://localhost:8080/",
          "height": 542
        },
        "id": "49279eba",
        "outputId": "ae936e25-8d2f-48ec-f946-4296b17824e9"
      },
      "outputs": [
        {
          "output_type": "display_data",
          "data": {
            "application/vnd.plotly.v1+json": {
              "data": [
                {
                  "marker": {
                    "color": "Purple"
                  },
                  "name": "Credit Card Fraud Class - data unbalance (Not fraud = 0, Fraud = 1)",
                  "text": [
                    284315,
                    492
                  ],
                  "x": [
                    0,
                    1
                  ],
                  "y": [
                    284315,
                    492
                  ],
                  "type": "bar"
                }
              ],
              "layout": {
                "hovermode": "closest",
                "template": {
                  "data": {
                    "barpolar": [
                      {
                        "marker": {
                          "line": {
                            "color": "#E5ECF6",
                            "width": 0.5
                          },
                          "pattern": {
                            "fillmode": "overlay",
                            "size": 10,
                            "solidity": 0.2
                          }
                        },
                        "type": "barpolar"
                      }
                    ],
                    "bar": [
                      {
                        "error_x": {
                          "color": "#2a3f5f"
                        },
                        "error_y": {
                          "color": "#2a3f5f"
                        },
                        "marker": {
                          "line": {
                            "color": "#E5ECF6",
                            "width": 0.5
                          },
                          "pattern": {
                            "fillmode": "overlay",
                            "size": 10,
                            "solidity": 0.2
                          }
                        },
                        "type": "bar"
                      }
                    ],
                    "carpet": [
                      {
                        "aaxis": {
                          "endlinecolor": "#2a3f5f",
                          "gridcolor": "white",
                          "linecolor": "white",
                          "minorgridcolor": "white",
                          "startlinecolor": "#2a3f5f"
                        },
                        "baxis": {
                          "endlinecolor": "#2a3f5f",
                          "gridcolor": "white",
                          "linecolor": "white",
                          "minorgridcolor": "white",
                          "startlinecolor": "#2a3f5f"
                        },
                        "type": "carpet"
                      }
                    ],
                    "choropleth": [
                      {
                        "colorbar": {
                          "outlinewidth": 0,
                          "ticks": ""
                        },
                        "type": "choropleth"
                      }
                    ],
                    "contourcarpet": [
                      {
                        "colorbar": {
                          "outlinewidth": 0,
                          "ticks": ""
                        },
                        "type": "contourcarpet"
                      }
                    ],
                    "contour": [
                      {
                        "colorbar": {
                          "outlinewidth": 0,
                          "ticks": ""
                        },
                        "colorscale": [
                          [
                            0,
                            "#0d0887"
                          ],
                          [
                            0.1111111111111111,
                            "#46039f"
                          ],
                          [
                            0.2222222222222222,
                            "#7201a8"
                          ],
                          [
                            0.3333333333333333,
                            "#9c179e"
                          ],
                          [
                            0.4444444444444444,
                            "#bd3786"
                          ],
                          [
                            0.5555555555555556,
                            "#d8576b"
                          ],
                          [
                            0.6666666666666666,
                            "#ed7953"
                          ],
                          [
                            0.7777777777777778,
                            "#fb9f3a"
                          ],
                          [
                            0.8888888888888888,
                            "#fdca26"
                          ],
                          [
                            1,
                            "#f0f921"
                          ]
                        ],
                        "type": "contour"
                      }
                    ],
                    "heatmapgl": [
                      {
                        "colorbar": {
                          "outlinewidth": 0,
                          "ticks": ""
                        },
                        "colorscale": [
                          [
                            0,
                            "#0d0887"
                          ],
                          [
                            0.1111111111111111,
                            "#46039f"
                          ],
                          [
                            0.2222222222222222,
                            "#7201a8"
                          ],
                          [
                            0.3333333333333333,
                            "#9c179e"
                          ],
                          [
                            0.4444444444444444,
                            "#bd3786"
                          ],
                          [
                            0.5555555555555556,
                            "#d8576b"
                          ],
                          [
                            0.6666666666666666,
                            "#ed7953"
                          ],
                          [
                            0.7777777777777778,
                            "#fb9f3a"
                          ],
                          [
                            0.8888888888888888,
                            "#fdca26"
                          ],
                          [
                            1,
                            "#f0f921"
                          ]
                        ],
                        "type": "heatmapgl"
                      }
                    ],
                    "heatmap": [
                      {
                        "colorbar": {
                          "outlinewidth": 0,
                          "ticks": ""
                        },
                        "colorscale": [
                          [
                            0,
                            "#0d0887"
                          ],
                          [
                            0.1111111111111111,
                            "#46039f"
                          ],
                          [
                            0.2222222222222222,
                            "#7201a8"
                          ],
                          [
                            0.3333333333333333,
                            "#9c179e"
                          ],
                          [
                            0.4444444444444444,
                            "#bd3786"
                          ],
                          [
                            0.5555555555555556,
                            "#d8576b"
                          ],
                          [
                            0.6666666666666666,
                            "#ed7953"
                          ],
                          [
                            0.7777777777777778,
                            "#fb9f3a"
                          ],
                          [
                            0.8888888888888888,
                            "#fdca26"
                          ],
                          [
                            1,
                            "#f0f921"
                          ]
                        ],
                        "type": "heatmap"
                      }
                    ],
                    "histogram2dcontour": [
                      {
                        "colorbar": {
                          "outlinewidth": 0,
                          "ticks": ""
                        },
                        "colorscale": [
                          [
                            0,
                            "#0d0887"
                          ],
                          [
                            0.1111111111111111,
                            "#46039f"
                          ],
                          [
                            0.2222222222222222,
                            "#7201a8"
                          ],
                          [
                            0.3333333333333333,
                            "#9c179e"
                          ],
                          [
                            0.4444444444444444,
                            "#bd3786"
                          ],
                          [
                            0.5555555555555556,
                            "#d8576b"
                          ],
                          [
                            0.6666666666666666,
                            "#ed7953"
                          ],
                          [
                            0.7777777777777778,
                            "#fb9f3a"
                          ],
                          [
                            0.8888888888888888,
                            "#fdca26"
                          ],
                          [
                            1,
                            "#f0f921"
                          ]
                        ],
                        "type": "histogram2dcontour"
                      }
                    ],
                    "histogram2d": [
                      {
                        "colorbar": {
                          "outlinewidth": 0,
                          "ticks": ""
                        },
                        "colorscale": [
                          [
                            0,
                            "#0d0887"
                          ],
                          [
                            0.1111111111111111,
                            "#46039f"
                          ],
                          [
                            0.2222222222222222,
                            "#7201a8"
                          ],
                          [
                            0.3333333333333333,
                            "#9c179e"
                          ],
                          [
                            0.4444444444444444,
                            "#bd3786"
                          ],
                          [
                            0.5555555555555556,
                            "#d8576b"
                          ],
                          [
                            0.6666666666666666,
                            "#ed7953"
                          ],
                          [
                            0.7777777777777778,
                            "#fb9f3a"
                          ],
                          [
                            0.8888888888888888,
                            "#fdca26"
                          ],
                          [
                            1,
                            "#f0f921"
                          ]
                        ],
                        "type": "histogram2d"
                      }
                    ],
                    "histogram": [
                      {
                        "marker": {
                          "pattern": {
                            "fillmode": "overlay",
                            "size": 10,
                            "solidity": 0.2
                          }
                        },
                        "type": "histogram"
                      }
                    ],
                    "mesh3d": [
                      {
                        "colorbar": {
                          "outlinewidth": 0,
                          "ticks": ""
                        },
                        "type": "mesh3d"
                      }
                    ],
                    "parcoords": [
                      {
                        "line": {
                          "colorbar": {
                            "outlinewidth": 0,
                            "ticks": ""
                          }
                        },
                        "type": "parcoords"
                      }
                    ],
                    "pie": [
                      {
                        "automargin": true,
                        "type": "pie"
                      }
                    ],
                    "scatter3d": [
                      {
                        "line": {
                          "colorbar": {
                            "outlinewidth": 0,
                            "ticks": ""
                          }
                        },
                        "marker": {
                          "colorbar": {
                            "outlinewidth": 0,
                            "ticks": ""
                          }
                        },
                        "type": "scatter3d"
                      }
                    ],
                    "scattercarpet": [
                      {
                        "marker": {
                          "colorbar": {
                            "outlinewidth": 0,
                            "ticks": ""
                          }
                        },
                        "type": "scattercarpet"
                      }
                    ],
                    "scattergeo": [
                      {
                        "marker": {
                          "colorbar": {
                            "outlinewidth": 0,
                            "ticks": ""
                          }
                        },
                        "type": "scattergeo"
                      }
                    ],
                    "scattergl": [
                      {
                        "marker": {
                          "colorbar": {
                            "outlinewidth": 0,
                            "ticks": ""
                          }
                        },
                        "type": "scattergl"
                      }
                    ],
                    "scattermapbox": [
                      {
                        "marker": {
                          "colorbar": {
                            "outlinewidth": 0,
                            "ticks": ""
                          }
                        },
                        "type": "scattermapbox"
                      }
                    ],
                    "scatterpolargl": [
                      {
                        "marker": {
                          "colorbar": {
                            "outlinewidth": 0,
                            "ticks": ""
                          }
                        },
                        "type": "scatterpolargl"
                      }
                    ],
                    "scatterpolar": [
                      {
                        "marker": {
                          "colorbar": {
                            "outlinewidth": 0,
                            "ticks": ""
                          }
                        },
                        "type": "scatterpolar"
                      }
                    ],
                    "scatter": [
                      {
                        "fillpattern": {
                          "fillmode": "overlay",
                          "size": 10,
                          "solidity": 0.2
                        },
                        "type": "scatter"
                      }
                    ],
                    "scatterternary": [
                      {
                        "marker": {
                          "colorbar": {
                            "outlinewidth": 0,
                            "ticks": ""
                          }
                        },
                        "type": "scatterternary"
                      }
                    ],
                    "surface": [
                      {
                        "colorbar": {
                          "outlinewidth": 0,
                          "ticks": ""
                        },
                        "colorscale": [
                          [
                            0,
                            "#0d0887"
                          ],
                          [
                            0.1111111111111111,
                            "#46039f"
                          ],
                          [
                            0.2222222222222222,
                            "#7201a8"
                          ],
                          [
                            0.3333333333333333,
                            "#9c179e"
                          ],
                          [
                            0.4444444444444444,
                            "#bd3786"
                          ],
                          [
                            0.5555555555555556,
                            "#d8576b"
                          ],
                          [
                            0.6666666666666666,
                            "#ed7953"
                          ],
                          [
                            0.7777777777777778,
                            "#fb9f3a"
                          ],
                          [
                            0.8888888888888888,
                            "#fdca26"
                          ],
                          [
                            1,
                            "#f0f921"
                          ]
                        ],
                        "type": "surface"
                      }
                    ],
                    "table": [
                      {
                        "cells": {
                          "fill": {
                            "color": "#EBF0F8"
                          },
                          "line": {
                            "color": "white"
                          }
                        },
                        "header": {
                          "fill": {
                            "color": "#C8D4E3"
                          },
                          "line": {
                            "color": "white"
                          }
                        },
                        "type": "table"
                      }
                    ]
                  },
                  "layout": {
                    "annotationdefaults": {
                      "arrowcolor": "#2a3f5f",
                      "arrowhead": 0,
                      "arrowwidth": 1
                    },
                    "autotypenumbers": "strict",
                    "coloraxis": {
                      "colorbar": {
                        "outlinewidth": 0,
                        "ticks": ""
                      }
                    },
                    "colorscale": {
                      "diverging": [
                        [
                          0,
                          "#8e0152"
                        ],
                        [
                          0.1,
                          "#c51b7d"
                        ],
                        [
                          0.2,
                          "#de77ae"
                        ],
                        [
                          0.3,
                          "#f1b6da"
                        ],
                        [
                          0.4,
                          "#fde0ef"
                        ],
                        [
                          0.5,
                          "#f7f7f7"
                        ],
                        [
                          0.6,
                          "#e6f5d0"
                        ],
                        [
                          0.7,
                          "#b8e186"
                        ],
                        [
                          0.8,
                          "#7fbc41"
                        ],
                        [
                          0.9,
                          "#4d9221"
                        ],
                        [
                          1,
                          "#276419"
                        ]
                      ],
                      "sequential": [
                        [
                          0,
                          "#0d0887"
                        ],
                        [
                          0.1111111111111111,
                          "#46039f"
                        ],
                        [
                          0.2222222222222222,
                          "#7201a8"
                        ],
                        [
                          0.3333333333333333,
                          "#9c179e"
                        ],
                        [
                          0.4444444444444444,
                          "#bd3786"
                        ],
                        [
                          0.5555555555555556,
                          "#d8576b"
                        ],
                        [
                          0.6666666666666666,
                          "#ed7953"
                        ],
                        [
                          0.7777777777777778,
                          "#fb9f3a"
                        ],
                        [
                          0.8888888888888888,
                          "#fdca26"
                        ],
                        [
                          1,
                          "#f0f921"
                        ]
                      ],
                      "sequentialminus": [
                        [
                          0,
                          "#0d0887"
                        ],
                        [
                          0.1111111111111111,
                          "#46039f"
                        ],
                        [
                          0.2222222222222222,
                          "#7201a8"
                        ],
                        [
                          0.3333333333333333,
                          "#9c179e"
                        ],
                        [
                          0.4444444444444444,
                          "#bd3786"
                        ],
                        [
                          0.5555555555555556,
                          "#d8576b"
                        ],
                        [
                          0.6666666666666666,
                          "#ed7953"
                        ],
                        [
                          0.7777777777777778,
                          "#fb9f3a"
                        ],
                        [
                          0.8888888888888888,
                          "#fdca26"
                        ],
                        [
                          1,
                          "#f0f921"
                        ]
                      ]
                    },
                    "colorway": [
                      "#636efa",
                      "#EF553B",
                      "#00cc96",
                      "#ab63fa",
                      "#FFA15A",
                      "#19d3f3",
                      "#FF6692",
                      "#B6E880",
                      "#FF97FF",
                      "#FECB52"
                    ],
                    "font": {
                      "color": "#2a3f5f"
                    },
                    "geo": {
                      "bgcolor": "white",
                      "lakecolor": "white",
                      "landcolor": "#E5ECF6",
                      "showlakes": true,
                      "showland": true,
                      "subunitcolor": "white"
                    },
                    "hoverlabel": {
                      "align": "left"
                    },
                    "hovermode": "closest",
                    "mapbox": {
                      "style": "light"
                    },
                    "paper_bgcolor": "white",
                    "plot_bgcolor": "#E5ECF6",
                    "polar": {
                      "angularaxis": {
                        "gridcolor": "white",
                        "linecolor": "white",
                        "ticks": ""
                      },
                      "bgcolor": "#E5ECF6",
                      "radialaxis": {
                        "gridcolor": "white",
                        "linecolor": "white",
                        "ticks": ""
                      }
                    },
                    "scene": {
                      "xaxis": {
                        "backgroundcolor": "#E5ECF6",
                        "gridcolor": "white",
                        "gridwidth": 2,
                        "linecolor": "white",
                        "showbackground": true,
                        "ticks": "",
                        "zerolinecolor": "white"
                      },
                      "yaxis": {
                        "backgroundcolor": "#E5ECF6",
                        "gridcolor": "white",
                        "gridwidth": 2,
                        "linecolor": "white",
                        "showbackground": true,
                        "ticks": "",
                        "zerolinecolor": "white"
                      },
                      "zaxis": {
                        "backgroundcolor": "#E5ECF6",
                        "gridcolor": "white",
                        "gridwidth": 2,
                        "linecolor": "white",
                        "showbackground": true,
                        "ticks": "",
                        "zerolinecolor": "white"
                      }
                    },
                    "shapedefaults": {
                      "line": {
                        "color": "#2a3f5f"
                      }
                    },
                    "ternary": {
                      "aaxis": {
                        "gridcolor": "white",
                        "linecolor": "white",
                        "ticks": ""
                      },
                      "baxis": {
                        "gridcolor": "white",
                        "linecolor": "white",
                        "ticks": ""
                      },
                      "bgcolor": "#E5ECF6",
                      "caxis": {
                        "gridcolor": "white",
                        "linecolor": "white",
                        "ticks": ""
                      }
                    },
                    "title": {
                      "x": 0.05
                    },
                    "xaxis": {
                      "automargin": true,
                      "gridcolor": "white",
                      "linecolor": "white",
                      "ticks": "",
                      "title": {
                        "standoff": 15
                      },
                      "zerolinecolor": "white",
                      "zerolinewidth": 2
                    },
                    "yaxis": {
                      "automargin": true,
                      "gridcolor": "white",
                      "linecolor": "white",
                      "ticks": "",
                      "title": {
                        "standoff": 15
                      },
                      "zerolinecolor": "white",
                      "zerolinewidth": 2
                    }
                  }
                },
                "title": {
                  "text": "Credit Card Fraud Class - data unbalance (Not fraud = 0, Fraud = 1)"
                },
                "width": 600,
                "xaxis": {
                  "showticklabels": true,
                  "title": {
                    "text": "Class"
                  }
                },
                "yaxis": {
                  "title": {
                    "text": "Number of transactions"
                  }
                }
              },
              "config": {
                "showLink": false,
                "linkText": "Export to plot.ly",
                "plotlyServerURL": "https://plot.ly"
              }
            },
            "text/html": [
              "<div>                            <div id=\"8607b387-9847-41c7-b406-5f5c24b1d1bd\" class=\"plotly-graph-div\" style=\"height:525px; width:600px;\"></div>            <script type=\"text/javascript\">                require([\"plotly\"], function(Plotly) {                    window.PLOTLYENV=window.PLOTLYENV || {};                                    if (document.getElementById(\"8607b387-9847-41c7-b406-5f5c24b1d1bd\")) {                    Plotly.newPlot(                        \"8607b387-9847-41c7-b406-5f5c24b1d1bd\",                        [{\"marker\":{\"color\":\"Purple\"},\"name\":\"Credit Card Fraud Class - data unbalance (Not fraud = 0, Fraud = 1)\",\"text\":[284315.0,492.0],\"x\":[0,1],\"y\":[284315,492],\"type\":\"bar\"}],                        {\"hovermode\":\"closest\",\"template\":{\"data\":{\"barpolar\":[{\"marker\":{\"line\":{\"color\":\"#E5ECF6\",\"width\":0.5},\"pattern\":{\"fillmode\":\"overlay\",\"size\":10,\"solidity\":0.2}},\"type\":\"barpolar\"}],\"bar\":[{\"error_x\":{\"color\":\"#2a3f5f\"},\"error_y\":{\"color\":\"#2a3f5f\"},\"marker\":{\"line\":{\"color\":\"#E5ECF6\",\"width\":0.5},\"pattern\":{\"fillmode\":\"overlay\",\"size\":10,\"solidity\":0.2}},\"type\":\"bar\"}],\"carpet\":[{\"aaxis\":{\"endlinecolor\":\"#2a3f5f\",\"gridcolor\":\"white\",\"linecolor\":\"white\",\"minorgridcolor\":\"white\",\"startlinecolor\":\"#2a3f5f\"},\"baxis\":{\"endlinecolor\":\"#2a3f5f\",\"gridcolor\":\"white\",\"linecolor\":\"white\",\"minorgridcolor\":\"white\",\"startlinecolor\":\"#2a3f5f\"},\"type\":\"carpet\"}],\"choropleth\":[{\"colorbar\":{\"outlinewidth\":0,\"ticks\":\"\"},\"type\":\"choropleth\"}],\"contourcarpet\":[{\"colorbar\":{\"outlinewidth\":0,\"ticks\":\"\"},\"type\":\"contourcarpet\"}],\"contour\":[{\"colorbar\":{\"outlinewidth\":0,\"ticks\":\"\"},\"colorscale\":[[0.0,\"#0d0887\"],[0.1111111111111111,\"#46039f\"],[0.2222222222222222,\"#7201a8\"],[0.3333333333333333,\"#9c179e\"],[0.4444444444444444,\"#bd3786\"],[0.5555555555555556,\"#d8576b\"],[0.6666666666666666,\"#ed7953\"],[0.7777777777777778,\"#fb9f3a\"],[0.8888888888888888,\"#fdca26\"],[1.0,\"#f0f921\"]],\"type\":\"contour\"}],\"heatmapgl\":[{\"colorbar\":{\"outlinewidth\":0,\"ticks\":\"\"},\"colorscale\":[[0.0,\"#0d0887\"],[0.1111111111111111,\"#46039f\"],[0.2222222222222222,\"#7201a8\"],[0.3333333333333333,\"#9c179e\"],[0.4444444444444444,\"#bd3786\"],[0.5555555555555556,\"#d8576b\"],[0.6666666666666666,\"#ed7953\"],[0.7777777777777778,\"#fb9f3a\"],[0.8888888888888888,\"#fdca26\"],[1.0,\"#f0f921\"]],\"type\":\"heatmapgl\"}],\"heatmap\":[{\"colorbar\":{\"outlinewidth\":0,\"ticks\":\"\"},\"colorscale\":[[0.0,\"#0d0887\"],[0.1111111111111111,\"#46039f\"],[0.2222222222222222,\"#7201a8\"],[0.3333333333333333,\"#9c179e\"],[0.4444444444444444,\"#bd3786\"],[0.5555555555555556,\"#d8576b\"],[0.6666666666666666,\"#ed7953\"],[0.7777777777777778,\"#fb9f3a\"],[0.8888888888888888,\"#fdca26\"],[1.0,\"#f0f921\"]],\"type\":\"heatmap\"}],\"histogram2dcontour\":[{\"colorbar\":{\"outlinewidth\":0,\"ticks\":\"\"},\"colorscale\":[[0.0,\"#0d0887\"],[0.1111111111111111,\"#46039f\"],[0.2222222222222222,\"#7201a8\"],[0.3333333333333333,\"#9c179e\"],[0.4444444444444444,\"#bd3786\"],[0.5555555555555556,\"#d8576b\"],[0.6666666666666666,\"#ed7953\"],[0.7777777777777778,\"#fb9f3a\"],[0.8888888888888888,\"#fdca26\"],[1.0,\"#f0f921\"]],\"type\":\"histogram2dcontour\"}],\"histogram2d\":[{\"colorbar\":{\"outlinewidth\":0,\"ticks\":\"\"},\"colorscale\":[[0.0,\"#0d0887\"],[0.1111111111111111,\"#46039f\"],[0.2222222222222222,\"#7201a8\"],[0.3333333333333333,\"#9c179e\"],[0.4444444444444444,\"#bd3786\"],[0.5555555555555556,\"#d8576b\"],[0.6666666666666666,\"#ed7953\"],[0.7777777777777778,\"#fb9f3a\"],[0.8888888888888888,\"#fdca26\"],[1.0,\"#f0f921\"]],\"type\":\"histogram2d\"}],\"histogram\":[{\"marker\":{\"pattern\":{\"fillmode\":\"overlay\",\"size\":10,\"solidity\":0.2}},\"type\":\"histogram\"}],\"mesh3d\":[{\"colorbar\":{\"outlinewidth\":0,\"ticks\":\"\"},\"type\":\"mesh3d\"}],\"parcoords\":[{\"line\":{\"colorbar\":{\"outlinewidth\":0,\"ticks\":\"\"}},\"type\":\"parcoords\"}],\"pie\":[{\"automargin\":true,\"type\":\"pie\"}],\"scatter3d\":[{\"line\":{\"colorbar\":{\"outlinewidth\":0,\"ticks\":\"\"}},\"marker\":{\"colorbar\":{\"outlinewidth\":0,\"ticks\":\"\"}},\"type\":\"scatter3d\"}],\"scattercarpet\":[{\"marker\":{\"colorbar\":{\"outlinewidth\":0,\"ticks\":\"\"}},\"type\":\"scattercarpet\"}],\"scattergeo\":[{\"marker\":{\"colorbar\":{\"outlinewidth\":0,\"ticks\":\"\"}},\"type\":\"scattergeo\"}],\"scattergl\":[{\"marker\":{\"colorbar\":{\"outlinewidth\":0,\"ticks\":\"\"}},\"type\":\"scattergl\"}],\"scattermapbox\":[{\"marker\":{\"colorbar\":{\"outlinewidth\":0,\"ticks\":\"\"}},\"type\":\"scattermapbox\"}],\"scatterpolargl\":[{\"marker\":{\"colorbar\":{\"outlinewidth\":0,\"ticks\":\"\"}},\"type\":\"scatterpolargl\"}],\"scatterpolar\":[{\"marker\":{\"colorbar\":{\"outlinewidth\":0,\"ticks\":\"\"}},\"type\":\"scatterpolar\"}],\"scatter\":[{\"fillpattern\":{\"fillmode\":\"overlay\",\"size\":10,\"solidity\":0.2},\"type\":\"scatter\"}],\"scatterternary\":[{\"marker\":{\"colorbar\":{\"outlinewidth\":0,\"ticks\":\"\"}},\"type\":\"scatterternary\"}],\"surface\":[{\"colorbar\":{\"outlinewidth\":0,\"ticks\":\"\"},\"colorscale\":[[0.0,\"#0d0887\"],[0.1111111111111111,\"#46039f\"],[0.2222222222222222,\"#7201a8\"],[0.3333333333333333,\"#9c179e\"],[0.4444444444444444,\"#bd3786\"],[0.5555555555555556,\"#d8576b\"],[0.6666666666666666,\"#ed7953\"],[0.7777777777777778,\"#fb9f3a\"],[0.8888888888888888,\"#fdca26\"],[1.0,\"#f0f921\"]],\"type\":\"surface\"}],\"table\":[{\"cells\":{\"fill\":{\"color\":\"#EBF0F8\"},\"line\":{\"color\":\"white\"}},\"header\":{\"fill\":{\"color\":\"#C8D4E3\"},\"line\":{\"color\":\"white\"}},\"type\":\"table\"}]},\"layout\":{\"annotationdefaults\":{\"arrowcolor\":\"#2a3f5f\",\"arrowhead\":0,\"arrowwidth\":1},\"autotypenumbers\":\"strict\",\"coloraxis\":{\"colorbar\":{\"outlinewidth\":0,\"ticks\":\"\"}},\"colorscale\":{\"diverging\":[[0,\"#8e0152\"],[0.1,\"#c51b7d\"],[0.2,\"#de77ae\"],[0.3,\"#f1b6da\"],[0.4,\"#fde0ef\"],[0.5,\"#f7f7f7\"],[0.6,\"#e6f5d0\"],[0.7,\"#b8e186\"],[0.8,\"#7fbc41\"],[0.9,\"#4d9221\"],[1,\"#276419\"]],\"sequential\":[[0.0,\"#0d0887\"],[0.1111111111111111,\"#46039f\"],[0.2222222222222222,\"#7201a8\"],[0.3333333333333333,\"#9c179e\"],[0.4444444444444444,\"#bd3786\"],[0.5555555555555556,\"#d8576b\"],[0.6666666666666666,\"#ed7953\"],[0.7777777777777778,\"#fb9f3a\"],[0.8888888888888888,\"#fdca26\"],[1.0,\"#f0f921\"]],\"sequentialminus\":[[0.0,\"#0d0887\"],[0.1111111111111111,\"#46039f\"],[0.2222222222222222,\"#7201a8\"],[0.3333333333333333,\"#9c179e\"],[0.4444444444444444,\"#bd3786\"],[0.5555555555555556,\"#d8576b\"],[0.6666666666666666,\"#ed7953\"],[0.7777777777777778,\"#fb9f3a\"],[0.8888888888888888,\"#fdca26\"],[1.0,\"#f0f921\"]]},\"colorway\":[\"#636efa\",\"#EF553B\",\"#00cc96\",\"#ab63fa\",\"#FFA15A\",\"#19d3f3\",\"#FF6692\",\"#B6E880\",\"#FF97FF\",\"#FECB52\"],\"font\":{\"color\":\"#2a3f5f\"},\"geo\":{\"bgcolor\":\"white\",\"lakecolor\":\"white\",\"landcolor\":\"#E5ECF6\",\"showlakes\":true,\"showland\":true,\"subunitcolor\":\"white\"},\"hoverlabel\":{\"align\":\"left\"},\"hovermode\":\"closest\",\"mapbox\":{\"style\":\"light\"},\"paper_bgcolor\":\"white\",\"plot_bgcolor\":\"#E5ECF6\",\"polar\":{\"angularaxis\":{\"gridcolor\":\"white\",\"linecolor\":\"white\",\"ticks\":\"\"},\"bgcolor\":\"#E5ECF6\",\"radialaxis\":{\"gridcolor\":\"white\",\"linecolor\":\"white\",\"ticks\":\"\"}},\"scene\":{\"xaxis\":{\"backgroundcolor\":\"#E5ECF6\",\"gridcolor\":\"white\",\"gridwidth\":2,\"linecolor\":\"white\",\"showbackground\":true,\"ticks\":\"\",\"zerolinecolor\":\"white\"},\"yaxis\":{\"backgroundcolor\":\"#E5ECF6\",\"gridcolor\":\"white\",\"gridwidth\":2,\"linecolor\":\"white\",\"showbackground\":true,\"ticks\":\"\",\"zerolinecolor\":\"white\"},\"zaxis\":{\"backgroundcolor\":\"#E5ECF6\",\"gridcolor\":\"white\",\"gridwidth\":2,\"linecolor\":\"white\",\"showbackground\":true,\"ticks\":\"\",\"zerolinecolor\":\"white\"}},\"shapedefaults\":{\"line\":{\"color\":\"#2a3f5f\"}},\"ternary\":{\"aaxis\":{\"gridcolor\":\"white\",\"linecolor\":\"white\",\"ticks\":\"\"},\"baxis\":{\"gridcolor\":\"white\",\"linecolor\":\"white\",\"ticks\":\"\"},\"bgcolor\":\"#E5ECF6\",\"caxis\":{\"gridcolor\":\"white\",\"linecolor\":\"white\",\"ticks\":\"\"}},\"title\":{\"x\":0.05},\"xaxis\":{\"automargin\":true,\"gridcolor\":\"white\",\"linecolor\":\"white\",\"ticks\":\"\",\"title\":{\"standoff\":15},\"zerolinecolor\":\"white\",\"zerolinewidth\":2},\"yaxis\":{\"automargin\":true,\"gridcolor\":\"white\",\"linecolor\":\"white\",\"ticks\":\"\",\"title\":{\"standoff\":15},\"zerolinecolor\":\"white\",\"zerolinewidth\":2}}},\"title\":{\"text\":\"Credit Card Fraud Class - data unbalance (Not fraud = 0, Fraud = 1)\"},\"width\":600,\"xaxis\":{\"showticklabels\":true,\"title\":{\"text\":\"Class\"}},\"yaxis\":{\"title\":{\"text\":\"Number of transactions\"}}},                        {\"responsive\": true}                    ).then(function(){\n",
              "                            \n",
              "var gd = document.getElementById('8607b387-9847-41c7-b406-5f5c24b1d1bd');\n",
              "var x = new MutationObserver(function (mutations, observer) {{\n",
              "        var display = window.getComputedStyle(gd).display;\n",
              "        if (!display || display === 'none') {{\n",
              "            console.log([gd, 'removed!']);\n",
              "            Plotly.purge(gd);\n",
              "            observer.disconnect();\n",
              "        }}\n",
              "}});\n",
              "\n",
              "// Listen for the removal of the full notebook cells\n",
              "var notebookContainer = gd.closest('#notebook-container');\n",
              "if (notebookContainer) {{\n",
              "    x.observe(notebookContainer, {childList: true});\n",
              "}}\n",
              "\n",
              "// Listen for the clearing of the current output cell\n",
              "var outputEl = gd.closest('.output');\n",
              "if (outputEl) {{\n",
              "    x.observe(outputEl, {childList: true});\n",
              "}}\n",
              "\n",
              "                        })                };                });            </script>        </div>"
            ]
          },
          "metadata": {}
        }
      ],
      "source": [
        "# DATA UNBALENCE\n",
        "temp = data[\"Class\"].value_counts()\n",
        "df = pd.DataFrame({'Class': temp.index,'values': temp.values})\n",
        "\n",
        "trace = go.Bar(\n",
        "    x = df['Class'],y = df['values'],\n",
        "    name=\"Credit Card Fraud Class - data unbalance (Not fraud = 0, Fraud = 1)\",\n",
        "    marker=dict(color=\"Purple\"),\n",
        "    text=df['values']\n",
        ")\n",
        "data_df = [trace]\n",
        "layout = dict(title = 'Credit Card Fraud Class - data unbalance (Not fraud = 0, Fraud = 1)',\n",
        "          xaxis = dict(title = 'Class', showticklabels=True),\n",
        "          yaxis = dict(title = 'Number of transactions'),\n",
        "          hovermode = 'closest',width=600\n",
        "         )\n",
        "fig = dict(data=data_df, layout=layout)\n",
        "iplot(fig, filename='class')"
      ]
    },
    {
      "cell_type": "code",
      "execution_count": null,
      "id": "1756a9d2",
      "metadata": {
        "colab": {
          "base_uri": "https://localhost:8080/",
          "height": 410
        },
        "id": "1756a9d2",
        "outputId": "eaeaca03-d258-4ce4-fe67-b6b3fa55fb13"
      },
      "outputs": [
        {
          "output_type": "display_data",
          "data": {
            "text/plain": [
              "<Figure size 1200x400 with 2 Axes>"
            ],
            "image/png": "[encoded data removed]"
          },
          "metadata": {}
        }
      ],
      "source": [
        "#Histrogram for feature Time\n",
        "f, (ax1, ax2) = plt.subplots(2, 1, sharex=True, figsize=(12,4))\n",
        "\n",
        "ax1.hist(data[\"Time\"][data[\"Class\"] == 1], bins = 50,color=\"Purple\")\n",
        "ax1.set_title('Fraudulent')\n",
        "\n",
        "ax2.hist(data[\"Time\"][data[\"Class\"] == 0], bins = 50,color=\"Purple\")\n",
        "ax2.set_title('Genuine')\n",
        "\n",
        "plt.xlabel('Seconds after transaction number zero')\n",
        "plt.ylabel('Number of Transactions')\n",
        "plt.show()"
      ]
    },
    {
      "cell_type": "code",
      "execution_count": null,
      "id": "4714825c",
      "metadata": {
        "colab": {
          "base_uri": "https://localhost:8080/",
          "height": 542
        },
        "id": "4714825c",
        "outputId": "f8ef9b83-e824-4d7c-9f5b-df38fc4b101a"
      },
      "outputs": [
        {
          "output_type": "display_data",
          "data": {
            "application/vnd.plotly.v1+json": {
              "data": [
                {
                  "legendgroup": "Not Fraud",
                  "marker": {
                    "color": "rgb(31, 119, 180)"
                  },
                  "mode": "lines",
                  "name": "Not Fraud",
                  "showlegend": true,
                  "x": [
                    0,
                    345.584,
                    691.168,
                    1036.752,
                    1382.336,
                    1727.92,
                    2073.504,
                    2419.088,
                    2764.672,
                    3110.256,
                    3455.84,
                    3801.424,
                    4147.008,
                    4492.592,
                    4838.176,
                    5183.76,
                    5529.344,
                    5874.928,
                    6220.512,
                    6566.096,
                    6911.68,
                    7257.264,
                    7602.848,
                    7948.432,
                    8294.016,
                    8639.6,
                    8985.184,
                    9330.768,
                    9676.352,
                    10021.936,
                    10367.52,
                    10713.104,
                    11058.688,
                    11404.272,
                    11749.856,
                    12095.44,
                    12441.024,
                    12786.608,
                    13132.192,
                    13477.776,
                    13823.36,
                    14168.944,
                    14514.528,
                    14860.112,
                    15205.696,
                    15551.28,
                    15896.864,
                    16242.448,
                    16588.032,
                    16933.616,
                    17279.2,
                    17624.784,
                    17970.368,
                    18315.952,
                    18661.536,
                    19007.12,
                    19352.704,
                    19698.288,
                    20043.872,
                    20389.456,
                    20735.04,
                    21080.624,
                    21426.208,
                    21771.792,
                    22117.376,
                    22462.96,
                    22808.544,
                    23154.128,
                    23499.712,
                    23845.296,
                    24190.88,
                    24536.464,
                    24882.048,
                    25227.632,
                    25573.216,
                    25918.8,
                    26264.384,
                    26609.968,
                    26955.552,
                    27301.136,
                    27646.72,
                    27992.304,
                    28337.888,
                    28683.472,
                    29029.056,
                    29374.64,
                    29720.224,
                    30065.808,
                    30411.392,
                    30756.976,
                    31102.56,
                    31448.144,
                    31793.728,
                    32139.312,
                    32484.896,
                    32830.48,
                    33176.064,
                    33521.648,
                    33867.232,
                    34212.816,
                    34558.4,
                    34903.984,
                    35249.568,
                    35595.152,
                    35940.736,
                    36286.32,
                    36631.904,
                    36977.488,
                    37323.072,
                    37668.656,
                    38014.24,
                    38359.824,
                    38705.408,
                    39050.992,
                    39396.576,
                    39742.16,
                    40087.744,
                    40433.328,
                    40778.912,
                    41124.496,
                    41470.08,
                    41815.664,
                    42161.248,
                    42506.832,
                    42852.416,
                    43198,
                    43543.584,
                    43889.168,
                    44234.752,
                    44580.336,
                    44925.92,
                    45271.504,
                    45617.088,
                    45962.672,
                    46308.256,
                    46653.84,
                    46999.424,
                    47345.008,
                    47690.592,
                    48036.176,
                    48381.76,
                    48727.344,
                    49072.928,
                    49418.512,
                    49764.096,
                    50109.68,
                    50455.264,
                    50800.848,
                    51146.432,
                    51492.016,
                    51837.6,
                    52183.184,
                    52528.768,
                    52874.352,
                    53219.936,
                    53565.52,
                    53911.104,
                    54256.688,
                    54602.272,
                    54947.856,
                    55293.44,
                    55639.024,
                    55984.608,
                    56330.192,
                    56675.776,
                    57021.36,
                    57366.944,
                    57712.528,
                    58058.112,
                    58403.696,
                    58749.28,
                    59094.864,
                    59440.448,
                    59786.032,
                    60131.616,
                    60477.2,
                    60822.784,
                    61168.368,
                    61513.952,
                    61859.536,
                    62205.12,
                    62550.704,
                    62896.288,
                    63241.872,
                    63587.456,
                    63933.04,
                    64278.624,
                    64624.208,
                    64969.792,
                    65315.376,
                    65660.96,
                    66006.544,
                    66352.128,
                    66697.712,
                    67043.296,
                    67388.88,
                    67734.464,
                    68080.048,
                    68425.632,
                    68771.216,
                    69116.8,
                    69462.384,
                    69807.968,
                    70153.552,
                    70499.136,
                    70844.72,
                    71190.304,
                    71535.888,
                    71881.472,
                    72227.056,
                    72572.64,
                    72918.224,
                    73263.808,
                    73609.392,
                    73954.976,
                    74300.56,
                    74646.144,
                    74991.728,
                    75337.312,
                    75682.896,
                    76028.48,
                    76374.064,
                    76719.648,
                    77065.232,
                    77410.816,
                    77756.4,
                    78101.984,
                    78447.568,
                    78793.152,
                    79138.736,
                    79484.32,
                    79829.904,
                    80175.488,
                    80521.072,
                    80866.656,
                    81212.24,
                    81557.824,
                    81903.408,
                    82248.992,
                    82594.576,
                    82940.16,
                    83285.744,
                    83631.328,
                    83976.912,
                    84322.496,
                    84668.08,
                    85013.664,
                    85359.248,
                    85704.832,
                    86050.416,
                    86396,
                    86741.584,
                    87087.168,
                    87432.752,
                    87778.336,
                    88123.92,
                    88469.504,
                    88815.088,
                    89160.672,
                    89506.256,
                    89851.84,
                    90197.424,
                    90543.008,
                    90888.592,
                    91234.176,
                    91579.76,
                    91925.344,
                    92270.928,
                    92616.512,
                    92962.096,
                    93307.68,
                    93653.264,
                    93998.848,
                    94344.432,
                    94690.016,
                    95035.6,
                    95381.184,
                    95726.768,
                    96072.352,
                    96417.936,
                    96763.52,
                    97109.104,
                    97454.688,
                    97800.272,
                    98145.856,
                    98491.44,
                    98837.024,
                    99182.608,
                    99528.192,
                    99873.776,
                    100219.36,
                    100564.944,
                    100910.528,
                    101256.112,
                    101601.696,
                    101947.28,
                    102292.864,
                    102638.448,
                    102984.032,
                    103329.616,
                    103675.2,
                    104020.784,
                    104366.368,
                    104711.952,
                    105057.536,
                    105403.12,
                    105748.704,
                    106094.288,
                    106439.872,
                    106785.456,
                    107131.04,
                    107476.624,
                    107822.208,
                    108167.792,
                    108513.376,
                    108858.96,
                    109204.544,
                    109550.128,
                    109895.712,
                    110241.296,
                    110586.88,
                    110932.464,
                    111278.048,
                    111623.632,
                    111969.216,
                    112314.8,
                    112660.384,
                    113005.968,
                    113351.552,
                    113697.136,
                    114042.72,
                    114388.304,
                    114733.888,
                    115079.472,
                    115425.056,
                    115770.64,
                    116116.224,
                    116461.808,
                    116807.392,
                    117152.976,
                    117498.56,
                    117844.144,
                    118189.728,
                    118535.312,
                    118880.896,
                    119226.48,
                    119572.064,
                    119917.648,
                    120263.232,
                    120608.816,
                    120954.4,
                    121299.984,
                    121645.568,
                    121991.152,
                    122336.736,
                    122682.32,
                    123027.904,
                    123373.488,
                    123719.072,
                    124064.656,
                    124410.24,
                    124755.824,
                    125101.408,
                    125446.992,
                    125792.576,
                    126138.16,
                    126483.744,
                    126829.328,
                    127174.912,
                    127520.496,
                    127866.08,
                    128211.664,
                    128557.248,
                    128902.832,
                    129248.416,
                    129594,
                    129939.584,
                    130285.168,
                    130630.752,
                    130976.336,
                    131321.92,
                    131667.504,
                    132013.088,
                    132358.672,
                    132704.256,
                    133049.84,
                    133395.424,
                    133741.008,
                    134086.592,
                    134432.176,
                    134777.76,
                    135123.344,
                    135468.928,
                    135814.512,
                    136160.096,
                    136505.68,
                    136851.264,
                    137196.848,
                    137542.432,
                    137888.016,
                    138233.6,
                    138579.184,
                    138924.768,
                    139270.352,
                    139615.936,
                    139961.52,
                    140307.104,
                    140652.688,
                    140998.272,
                    141343.856,
                    141689.44,
                    142035.024,
                    142380.608,
                    142726.192,
                    143071.776,
                    143417.36,
                    143762.944,
                    144108.528,
                    144454.112,
                    144799.696,
                    145145.28,
                    145490.864,
                    145836.448,
                    146182.032,
                    146527.616,
                    146873.2,
                    147218.784,
                    147564.368,
                    147909.952,
                    148255.536,
                    148601.12,
                    148946.704,
                    149292.288,
                    149637.872,
                    149983.456,
                    150329.04,
                    150674.624,
                    151020.208,
                    151365.792,
                    151711.376,
                    152056.96,
                    152402.544,
                    152748.128,
                    153093.712,
                    153439.296,
                    153784.88,
                    154130.464,
                    154476.048,
                    154821.632,
                    155167.216,
                    155512.8,
                    155858.384,
                    156203.968,
                    156549.552,
                    156895.136,
                    157240.72,
                    157586.304,
                    157931.888,
                    158277.472,
                    158623.056,
                    158968.64,
                    159314.224,
                    159659.808,
                    160005.392,
                    160350.976,
                    160696.56,
                    161042.144,
                    161387.728,
                    161733.312,
                    162078.896,
                    162424.48,
                    162770.064,
                    163115.648,
                    163461.232,
                    163806.816,
                    164152.4,
                    164497.984,
                    164843.568,
                    165189.152,
                    165534.736,
                    165880.32,
                    166225.904,
                    166571.488,
                    166917.072,
                    167262.656,
                    167608.24,
                    167953.824,
                    168299.408,
                    168644.992,
                    168990.576,
                    169336.16,
                    169681.744,
                    170027.328,
                    170372.912,
                    170718.496,
                    171064.08,
                    171409.664,
                    171755.248,
                    172100.832,
                    172446.416
                  ],
                  "xaxis": "x",
                  "y": [
                    0.0000016973474560862259,
                    0.0000017892406860838062,
                    0.0000018751066622895056,
                    0.0000019539240211315813,
                    0.0000020248147874841946,
                    0.00000208707000017282,
                    0.0000021401693523158417,
                    0.0000021837939471416962,
                    0.0000022178316034665916,
                    0.0000022423745117613394,
                    0.000002257709419619406,
                    0.0000022643008918188018,
                    0.000002262768523405099,
                    0.0000022538592651662714,
                    0.00000223841623407746,
                    0.0000022173455159802657,
                    0.0000021915825183281395,
                    0.000002162059397021128,
                    0.0000021296749680386746,
                    0.0000020952683311934044,
                    0.0000020595971930317096,
                    0.000002023321594571912,
                    0.0000019869934446533327,
                    0.000001951051949066508,
                    0.0000019158247265701045,
                    0.0000018815341310018958,
                    0.000001848308067129258,
                    0.0000018161944068400582,
                    0.0000017851779885078937,
                    0.0000017551991191213407,
                    0.0000017261724957825176,
                    0.0000016980055169883943,
                    0.0000016706150584078139,
                    0.0000016439419340972,
                    0.0000016179624420037478,
                    0.0000015926965909610427,
                    0.0000015682128135695861,
                    0.0000015446291740589583,
                    0.0000015221112719306263,
                    0.0000015008672116659287,
                    0.0000014811401484836664,
                    0.0000014631990243977308,
                    0.000001447328174052436,
                    0.0000014338165045343553,
                    0.0000014229469381475868,
                    0.0000014149867545429202,
                    0.0000014101793829092122,
                    0.0000014087380819813371,
                    0.0000014108418124353673,
                    0.000001416633460726771,
                    0.0000014262204239961593,
                    0.0000014396774207779602,
                    0.000001457051260044798,
                    0.0000014783671889174081,
                    0.000001503636353303531,
                    0.0000015328638503405982,
                    0.0000015660568294637841,
                    0.0000016032321108015962,
                    0.000001644422833837486,
                    0.0000016896837222361372,
                    0.000001739094646910135,
                    0.000001792762281809424,
                    0.0000018508197675565137,
                    0.00000191342441852153,
                    0.0000019807536210243026,
                    0.000002052999166716722,
                    0.000002130360339872763,
                    0.0000022130361262110283,
                    0.0000023012169320790753,
                    0.000002395076196709398,
                    0.000002494762249423483,
                    0.0000026003907126324243,
                    0.000002712037686308532,
                    0.0000028297338772311622,
                    0.0000029534597639182693,
                    0.000003083141822512351,
                    0.000003218649785632445,
                    0.0000033597948693886394,
                    0.000003506328885405064,
                    0.000003657944154693155,
                    0.0000038142741563072298,
                    0.000003974894871817512,
                    0.000004139326821281706,
                    0.000004307037821357344,
                    0.000004477446525210012,
                    0.0000046499268212931555,
                    0.0000048238131696183875,
                    0.000004998406937320514,
                    0.000005172983759820726,
                    0.000005346801901645486,
                    0.0000055191115259867515,
                    0.000005689164710128654,
                    0.000005856225971804275,
                    0.000006019583006720394,
                    0.000006178557286896823,
                    0.000006332514139090871,
                    0.000006480871916741138,
                    0.000006623109899729849,
                    0.000006758774603685427,
                    0.000006887484251983716,
                    0.00000700893125439331,
                    0.000007122882640061901,
                    0.00000722917850178734,
                    0.0000073277286152218586,
                    0.000007418507493160351,
                    0.0000075015482143994335,
                    0.000007576935423367105,
                    0.000007644797927105632,
                    0.000007705301318490016,
                    0.0000077586410291506,
                    0.000007805036164694746,
                    0.000007844724402420198,
                    0.000007877958143023881,
                    0.000007905002009088233,
                    0.00000792613168088056,
                    0.000007941633960959931,
                    0.00000795180786947959,
                    0.000007956966497383278,
                    0.000007957439289376495,
                    0.00000795357439583249,
                    0.00000794574072435943,
                    0.000007934329337960002,
                    0.000007919753886306888,
                    0.00000790244981707093,
                    0.000007882872191586451,
                    0.000007861492018651875,
                    0.000007838791116317143,
                    0.000007815255608175426,
                    0.000007791368252068974,
                    0.000007767599879605556,
                    0.00000774440028967119,
                    0.000007722188984437176,
                    0.000007701346159669052,
                    0.000007682204361436707,
                    0.000007665041198951464,
                    0.000007650073460067832,
                    0.000007637452914970819,
                    0.000007627264018689673,
                    0.0000076195236389617255,
                    0.000007614182847393351,
                    0.000007611130723686314,
                    0.0000076102000392217365,
                    0.000007611174611300588,
                    0.0000076137980557732675,
                    0.000007617783615693652,
                    0.000007622824708287957,
                    0.0000076286058123309786,
                    0.000007634813312831111,
                    0.000007641145929061617,
                    0.00000764732437441587,
                    0.000007653099931106341,
                    0.000007658261667941963,
                    0.000007662642083793556,
                    0.000007666121021265785,
                    0.000007668627762522012,
                    0.000007670141290160325,
                    0.000007670688767914207,
                    0.000007670342366006723,
                    0.000007669214621200134,
                    0.00000766745257869281,
                    0.000007665231008939393,
                    0.00000766274502428096,
                    0.000007660202435730384,
                    0.000007657816187892284,
                    0.000007655797189368887,
                    0.00000765434781807384,
                    0.00000765365632767947,
                    0.000007653892316465036,
                    0.000007655203347519249,
                    0.000007657712734803746,
                    0.000007661518438616225,
                    0.000007666692951868364,
                    0.000007673284010222381,
                    0.000007681315928223042,
                    0.000007690791352390222,
                    0.00000770169323139863,
                    0.000007713986831543374,
                    0.000007727621669694343,
                    0.000007742533291007232,
                    0.000007758644879036125,
                    0.000007775868744871467,
                    0.000007794107793011539,
                    0.00000781325709872003,
                    0.000007833205749804441,
                    0.000007853839101993095,
                    0.000007875041570289478,
                    0.000007896700030201668,
                    0.000007918707836091313,
                    0.000007940969384640012,
                    0.000007963405066766165,
                    0.00000798595636928918,
                    0.00000800859081649445,
                    0.000008031306389214003,
                    0.000008054135031363682,
                    0.000008077144855419425,
                    0.000008100440690962874,
                    0.00000812416268335992,
                    0.00000814848273946242,
                    0.000008173598728157818,
                    0.00000819972646813879,
                    0.000008227089664610317,
                    0.000008255908081986767,
                    0.000008286384352227616,
                    0.00000831868991113144,
                    0.000008352950622010562,
                    0.000008389232684289148,
                    0.000008427529432517213,
                    0.000008467749609997757,
                    0.000008509707653467902,
                    0.000008553116455128338,
                    0.000008597582980705839,
                    0.000008642607022227293,
                    0.00000868758325670654,
                    0.000008731806671225048,
                    0.000008774481304367475,
                    0.000008814732146393526,
                    0.000008851619937765274,
                    0.000008884158509418366,
                    0.00000891133421989988,
                    0.000008932126965959692,
                    0.000008945532176540064,
                    0.000008950583148096047,
                    0.000008946373044910828,
                    0.000008932075875017866,
                    0.000008906965763680843,
                    0.00000887043388472915,
                    0.000008822002476833976,
                    0.00000876133546686096,
                    0.00000868824534357329,
                    0.000008602696067955025,
                    0.00000850480196490831,
                    0.000008394822707027363,
                    0.000008273154665238245,
                    0.000008140319053533444,
                    0.00000799694742632507,
                    0.000007843765188647897,
                    0.000007681573845069685,
                    0.000007511232738581265,
                    0.000007333641014717291,
                    0.000007149720490327961,
                    0.000006960400015284132,
                    0.000006766601795741939,
                    0.000006569230008025072,
                    0.000006369161882344764,
                    0.000006167241285296684,
                    0.000005964274688715282,
                    0.000005761029288153016,
                    0.000005558232933420788,
                    0.000005356575460667157,
                    0.0000051567109726574455,
                    0.000004959260601368872,
                    0.000004764815303057653,
                    0.000004573938277349004,
                    0.000004387166664290929,
                    0.0000042050122516839715,
                    0.000004027961014003513,
                    0.0000038564713985995435,
                    0.000003690971369618424,
                    0.000003531854310764003,
                    0.0000033794739707040138,
                    0.0000032341387063642476,
                    0.000003096105336894178,
                    0.0000029655729626549326,
                    0.0000028426771276871017,
                    0.0000027274847098051116,
                    0.000002619989909357816,
                    0.0000025201116760150914,
                    0.000002427692863569818,
                    0.000002342501337296397,
                    0.0000022642331792465925,
                    0.0000021925180471487467,
                    0.0000021269266461765223,
                    0.0000020669801742745354,
                    0.0000020121615058942538,
                    0.000001961927791024422,
                    0.0000019157240712834853,
                    0.0000018729974570884043,
                    0.0000018332113732540548,
                    0.000001795859367380199,
                    0.0000017604779872841184,
                    0.0000017266582702356212,
                    0.000001694055445992838,
                    0.0000016623965343016342,
                    0.0000016314856110536921,
                    0.000001601206620175707,
                    0.0000015715237145407149,
                    0.0000015424792126083196,
                    0.0000015141893523611356,
                    0.000001486838105392346,
                    0.0000014606693777951221,
                    0.0000014359779681991326,
                    0.0000014130996757281784,
                    0.0000013924009520549695,
                    0.0000013742684736943766,
                    0.0000013590989758662613,
                    0.0000013472896412160879,
                    0.0000013392292794638088,
                    0.0000013352904719533148,
                    0.0000013358227923195593,
                    0.000001341147154951963,
                    0.0000013515512899463585,
                    0.0000013672862993904201,
                    0.00000138856421690328,
                    0.0000014155564712147404,
                    0.0000014483931452166285,
                    0.0000014871629234741587,
                    0.0000015319136320143348,
                    0.0000015826532920302118,
                    0.0000016393516311859588,
                    0.000001701942019429746,
                    0.0000017703238174880959,
                    0.0000018443651425656368,
                    0.000001923906064645726,
                    0.0000020087622462564432,
                    0.0000020987290275195534,
                    0.000002193585936646045,
                    0.000002293101574710356,
                    0.0000023970387845923002,
                    0.0000025051599704428932,
                    0.0000026172323897750874,
                    0.000002733033199748673,
                    0.0000028523540070366512,
                    0.0000029750046513343276,
                    0.0000031008159500099942,
                    0.0000032296411484896127,
                    0.0000033613558593164233,
                    0.0000034958563323563754,
                    0.0000036330559775247656,
                    0.00000377288015605973,
                    0.0000039152593615044,
                    0.000004060121020560155,
                    0.000004207380249287429,
                    0.000004356929993860338,
                    0.000004508631059529285,
                    0.000004662302579861024,
                    0.000004817713495387057,
                    0.0000049745755932158186,
                    0.000005132538606064661,
                    0.0000052911877821493745,
                    0.000005450044220727479,
                    0.0000056085681283196825,
                    0.000005766164996283173,
                    0.000005922194541198146,
                    0.000006075982095987883,
                    0.000006226832001933773,
                    0.000006374042439169823,
                    0.000006516921053370935,
                    0.000006654800694581853,
                    0.000006787054583109832,
                    0.000006913110256888787,
                    0.000007032461731690978,
                    0.0000071446794142477474,
                    0.000007249417441023877,
                    0.000007346418262603218,
                    0.000007435514445358034,
                    0.000007516627808025069,
                    0.0000075897661416846225,
                    0.00000765501786938152,
                    0.000007712545080304947,
                    0.000007762575419365271,
                    0.00000780539332511169,
                    0.000007841331088565962,
                    0.000007870760156336688,
                    0.000007894083028920024,
                    0.00000791172601610593,
                    0.000007924133013618904,
                    0.000007931760366075151,
                    0.000007935072788425499,
                    0.00000793454023728267,
                    0.000007930635559896009,
                    0.00000792383270505102,
                    0.000007914605258270497,
                    0.000007903425063041484,
                    0.00000789076070846611,
                    0.000007877075698645939,
                    0.000007862826166202865,
                    0.000007848458047158576,
                    0.000007834403692290486,
                    0.000007821077946804908,
                    0.00000780887378194564,
                    0.000007798157606035699,
                    0.000007789264416363822,
                    0.000007782492976151726,
                    0.000007778101212259413,
                    0.000007776302029754052,
                    0.000007777259729962857,
                    0.000007781087200522526,
                    0.000007787844020759936,
                    0.000007797535595084239,
                    0.000007810113392411537,
                    0.000007825476332418606,
                    0.000007843473320742813,
                    0.000007863906896333366,
                    0.000007886537915928428,
                    0.000007911091164212856,
                    0.00000793726174456668,
                    0.00000796472207570354,
                    0.000007993129295076794,
                    0.000008022132851958381,
                    0.00000805138206285166,
                    0.000008080533400309721,
                    0.000008109257294159882,
                    0.000008137244241794072,
                    0.000008164210051465267,
                    0.00000818990007848241,
                    0.000008214092357438601,
                    0.000008236599582026856,
                    0.000008257269934935495,
                    0.000008275986820935608,
                    0.000008292667603341442,
                    0.000008307261484600059,
                    0.000008319746703096491,
                    0.000008330127238270169,
                    0.000008338429223485022,
                    0.000008344697260356949,
                    0.000008348990810121108,
                    0.000008351380808722838,
                    0.000008351946615214959,
                    0.000008350773361117175,
                    0.000008347949725304513,
                    0.000008343566118802327,
                    0.000008337713230093593,
                    0.000008330480857437744,
                    0.000008321956942328976,
                    0.000008312226718654153,
                    0.000008301371904984086,
                    0.000008289469891130868,
                    0.000008276592901670648,
                    0.000008262807154751018,
                    0.000008248172069643047,
                    0.0000082327396065285,
                    0.000008216553842656704,
                    0.000008199650896786164,
                    0.000008182059306530184,
                    0.000008163800940243861,
                    0.000008144892487442374,
                    0.000008125347522248064,
                    0.000008105179077168387,
                    0.000008084402605008575,
                    0.000008063039150737186,
                    0.000008041118508591434,
                    0.000008018682107831947,
                    0.000007995785357477927,
                    0.000007972499188554671,
                    0.00000794891056241773,
                    0.000007925121764271025,
                    0.000007901248368810247,
                    0.00000787741584516872,
                    0.00000785375485515137,
                    0.0000078303953856032,
                    0.000007807459936140135,
                    0.000007785056051576899,
                    0.000007763268539232143,
                    0.000007742151741544886,
                    0.00000772172224223311,
                    0.000007701952369437008,
                    0.000007682764823383584,
                    0.000007664028701862064,
                    0.000007645557128088684,
                    0.000007627106606879591,
                    0.000007608378151350864,
                    0.000007589020138440522,
                    0.000007568632772026174,
                    0.000007546773961324195,
                    0.000007522966363070491,
                    0.0000074967052913752445,
                    0.000007467467171099347,
                    0.000007434718200257148,
                    0.000007397922894775451,
                    0.000007356552214556367,
                    0.000007310091012100789,
                    0.000007258044602058904,
                    0.000007199944319248213,
                    0.000007135352010448095,
                    0.000007063863487342655,
                    0.0000069851110494468006,
                    0.000006898765261308995,
                    0.000006804536232139009,
                    0.000006702174692783647,
                    0.000006591473189773045,
                    0.000006472267715052264,
                    0.000006344440060579499,
                    0.000006207921128630459,
                    0.0000060626953430227955,
                    0.00000590880619752802,
                    0.000005746362851759729,
                    0.000005575547550174991,
                    0.000005396623506475825,
                    0.000005209942774562269,
                    0.0000050159535292632225,
                    0.000004815206115540973,
                    0.000004608357202072422,
                    0.000004396171399757071,
                    0.000004179519780059323,
                    0.0000039593748505984624,
                    0.0000037368017104920415,
                    0.0000035129453063020974,
                    0.0000032890139285170296,
                    0.0000030662593135147833,
                    0.000002845953930965842
                  ],
                  "yaxis": "y",
                  "type": "scatter"
                },
                {
                  "legendgroup": "Fraud",
                  "marker": {
                    "color": "rgb(255, 127, 14)"
                  },
                  "mode": "lines",
                  "name": "Fraud",
                  "showlegend": true,
                  "x": [
                    406,
                    745.884,
                    1085.768,
                    1425.652,
                    1765.536,
                    2105.42,
                    2445.304,
                    2785.188,
                    3125.072,
                    3464.956,
                    3804.84,
                    4144.724,
                    4484.608,
                    4824.492,
                    5164.376,
                    5504.26,
                    5844.144,
                    6184.028,
                    6523.912,
                    6863.796,
                    7203.68,
                    7543.564,
                    7883.448,
                    8223.332,
                    8563.216,
                    8903.1,
                    9242.984,
                    9582.868,
                    9922.752,
                    10262.636,
                    10602.52,
                    10942.404,
                    11282.288,
                    11622.172,
                    11962.056,
                    12301.94,
                    12641.824,
                    12981.708,
                    13321.592,
                    13661.476,
                    14001.36,
                    14341.244,
                    14681.128,
                    15021.012,
                    15360.896,
                    15700.78,
                    16040.664,
                    16380.548,
                    16720.432,
                    17060.316,
                    17400.2,
                    17740.084,
                    18079.968,
                    18419.852,
                    18759.736,
                    19099.62,
                    19439.504,
                    19779.388,
                    20119.272,
                    20459.156,
                    20799.04,
                    21138.924,
                    21478.808,
                    21818.692,
                    22158.576,
                    22498.46,
                    22838.344,
                    23178.228,
                    23518.112,
                    23857.996,
                    24197.88,
                    24537.764,
                    24877.648,
                    25217.532,
                    25557.416,
                    25897.3,
                    26237.184,
                    26577.068,
                    26916.952,
                    27256.836,
                    27596.72,
                    27936.604,
                    28276.488,
                    28616.372,
                    28956.256,
                    29296.14,
                    29636.024,
                    29975.908,
                    30315.792,
                    30655.676,
                    30995.56,
                    31335.444,
                    31675.328,
                    32015.212,
                    32355.096,
                    32694.98,
                    33034.864,
                    33374.748,
                    33714.632,
                    34054.516,
                    34394.4,
                    34734.284,
                    35074.168,
                    35414.052,
                    35753.936,
                    36093.82,
                    36433.704,
                    36773.588,
                    37113.472,
                    37453.356,
                    37793.24,
                    38133.124,
                    38473.008,
                    38812.892,
                    39152.776,
                    39492.66,
                    39832.544,
                    40172.428,
                    40512.312,
                    40852.196,
                    41192.08,
                    41531.964,
                    41871.848,
                    42211.732,
                    42551.616,
                    42891.5,
                    43231.384,
                    43571.268,
                    43911.152,
                    44251.036,
                    44590.92,
                    44930.804,
                    45270.688,
                    45610.572,
                    45950.456,
                    46290.34,
                    46630.224,
                    46970.108,
                    47309.992,
                    47649.876,
                    47989.76,
                    48329.644,
                    48669.528,
                    49009.412,
                    49349.296,
                    49689.18,
                    50029.064,
                    50368.948,
                    50708.832,
                    51048.716,
                    51388.6,
                    51728.484,
                    52068.368,
                    52408.252,
                    52748.136,
                    53088.02,
                    53427.904,
                    53767.788,
                    54107.672,
                    54447.556,
                    54787.44,
                    55127.324,
                    55467.208,
                    55807.092,
                    56146.976,
                    56486.86,
                    56826.744,
                    57166.628,
                    57506.512,
                    57846.396,
                    58186.28,
                    58526.164,
                    58866.048,
                    59205.932,
                    59545.816,
                    59885.7,
                    60225.584,
                    60565.468,
                    60905.352,
                    61245.236,
                    61585.12,
                    61925.004,
                    62264.888,
                    62604.772,
                    62944.656,
                    63284.54,
                    63624.424,
                    63964.308,
                    64304.192,
                    64644.076,
                    64983.96,
                    65323.844,
                    65663.728,
                    66003.612,
                    66343.496,
                    66683.38,
                    67023.264,
                    67363.148,
                    67703.032,
                    68042.916,
                    68382.8,
                    68722.684,
                    69062.568,
                    69402.452,
                    69742.336,
                    70082.22,
                    70422.104,
                    70761.988,
                    71101.872,
                    71441.756,
                    71781.64,
                    72121.524,
                    72461.408,
                    72801.292,
                    73141.176,
                    73481.06,
                    73820.944,
                    74160.828,
                    74500.712,
                    74840.596,
                    75180.48,
                    75520.364,
                    75860.248,
                    76200.132,
                    76540.016,
                    76879.9,
                    77219.784,
                    77559.668,
                    77899.552,
                    78239.436,
                    78579.32,
                    78919.204,
                    79259.088,
                    79598.972,
                    79938.856,
                    80278.74,
                    80618.624,
                    80958.508,
                    81298.392,
                    81638.276,
                    81978.16,
                    82318.044,
                    82657.928,
                    82997.812,
                    83337.696,
                    83677.58,
                    84017.464,
                    84357.348,
                    84697.232,
                    85037.116,
                    85377,
                    85716.884,
                    86056.768,
                    86396.652,
                    86736.536,
                    87076.42,
                    87416.304,
                    87756.188,
                    88096.072,
                    88435.956,
                    88775.84,
                    89115.724,
                    89455.608,
                    89795.492,
                    90135.376,
                    90475.26,
                    90815.144,
                    91155.028,
                    91494.912,
                    91834.796,
                    92174.68,
                    92514.564,
                    92854.448,
                    93194.332,
                    93534.216,
                    93874.1,
                    94213.984,
                    94553.868,
                    94893.752,
                    95233.636,
                    95573.52,
                    95913.404,
                    96253.288,
                    96593.172,
                    96933.056,
                    97272.94,
                    97612.824,
                    97952.708,
                    98292.592,
                    98632.476,
                    98972.36,
                    99312.244,
                    99652.128,
                    99992.012,
                    100331.896,
                    100671.78,
                    101011.664,
                    101351.548,
                    101691.432,
                    102031.316,
                    102371.2,
                    102711.084,
                    103050.968,
                    103390.852,
                    103730.736,
                    104070.62,
                    104410.504,
                    104750.388,
                    105090.272,
                    105430.156,
                    105770.04,
                    106109.924,
                    106449.808,
                    106789.692,
                    107129.576,
                    107469.46,
                    107809.344,
                    108149.228,
                    108489.112,
                    108828.996,
                    109168.88,
                    109508.764,
                    109848.648,
                    110188.532,
                    110528.416,
                    110868.3,
                    111208.184,
                    111548.068,
                    111887.952,
                    112227.836,
                    112567.72,
                    112907.604,
                    113247.488,
                    113587.372,
                    113927.256,
                    114267.14,
                    114607.024,
                    114946.908,
                    115286.792,
                    115626.676,
                    115966.56,
                    116306.444,
                    116646.328,
                    116986.212,
                    117326.096,
                    117665.98,
                    118005.864,
                    118345.748,
                    118685.632,
                    119025.516,
                    119365.4,
                    119705.284,
                    120045.168,
                    120385.052,
                    120724.936,
                    121064.82,
                    121404.704,
                    121744.588,
                    122084.472,
                    122424.356,
                    122764.24,
                    123104.124,
                    123444.008,
                    123783.892,
                    124123.776,
                    124463.66,
                    124803.544,
                    125143.428,
                    125483.312,
                    125823.196,
                    126163.08,
                    126502.964,
                    126842.848,
                    127182.732,
                    127522.616,
                    127862.5,
                    128202.384,
                    128542.268,
                    128882.152,
                    129222.036,
                    129561.92,
                    129901.804,
                    130241.688,
                    130581.572,
                    130921.456,
                    131261.34,
                    131601.224,
                    131941.108,
                    132280.992,
                    132620.876,
                    132960.76,
                    133300.644,
                    133640.528,
                    133980.412,
                    134320.296,
                    134660.18,
                    135000.064,
                    135339.948,
                    135679.832,
                    136019.716,
                    136359.6,
                    136699.484,
                    137039.368,
                    137379.252,
                    137719.136,
                    138059.02,
                    138398.904,
                    138738.788,
                    139078.672,
                    139418.556,
                    139758.44,
                    140098.324,
                    140438.208,
                    140778.092,
                    141117.976,
                    141457.86,
                    141797.744,
                    142137.628,
                    142477.512,
                    142817.396,
                    143157.28,
                    143497.164,
                    143837.048,
                    144176.932,
                    144516.816,
                    144856.7,
                    145196.584,
                    145536.468,
                    145876.352,
                    146216.236,
                    146556.12,
                    146896.004,
                    147235.888,
                    147575.772,
                    147915.656,
                    148255.54,
                    148595.424,
                    148935.308,
                    149275.192,
                    149615.076,
                    149954.96,
                    150294.844,
                    150634.728,
                    150974.612,
                    151314.496,
                    151654.38,
                    151994.264,
                    152334.148,
                    152674.032,
                    153013.916,
                    153353.8,
                    153693.684,
                    154033.568,
                    154373.452,
                    154713.336,
                    155053.22,
                    155393.104,
                    155732.988,
                    156072.872,
                    156412.756,
                    156752.64,
                    157092.524,
                    157432.408,
                    157772.292,
                    158112.176,
                    158452.06,
                    158791.944,
                    159131.828,
                    159471.712,
                    159811.596,
                    160151.48,
                    160491.364,
                    160831.248,
                    161171.132,
                    161511.016,
                    161850.9,
                    162190.784,
                    162530.668,
                    162870.552,
                    163210.436,
                    163550.32,
                    163890.204,
                    164230.088,
                    164569.972,
                    164909.856,
                    165249.74,
                    165589.624,
                    165929.508,
                    166269.392,
                    166609.276,
                    166949.16,
                    167289.044,
                    167628.928,
                    167968.812,
                    168308.696,
                    168648.58,
                    168988.464,
                    169328.348,
                    169668.232,
                    170008.116
                  ],
                  "xaxis": "x",
                  "y": [
                    0.0000025725270199184186,
                    0.0000026310058058129387,
                    0.0000026897686304363113,
                    0.000002748786647363209,
                    0.0000028080309928186174,
                    0.000002867472852442724,
                    0.0000029270835279276285,
                    0.0000029868345032672523,
                    0.0000030466975103604765,
                    0.000003106644593707739,
                    0.0000031666481739421243,
                    0.000003226681109938766,
                    0.000003286716759249754,
                    0.0000033467290366169334,
                    0.0000034066924703207853,
                    0.0000034665822561312507,
                    0.0000035263743086346612,
                    0.000003586045309720728,
                    0.000003645572754024372,
                    0.000003704934991128807,
                    0.000003764111264349628,
                    0.000003823081745932931,
                    0.0000038818275685156236,
                    0.000003940330852711665,
                    0.000003998574730703818,
                    0.000004056543365738183,
                    0.000004114221967435876,
                    0.000004171596802854251,
                    0.00000422865520324932,
                    0.0000042853855665086814,
                    0.000004341777355244726,
                    0.000004397821090555966,
                    0.000004453508341484275,
                    0.000004508831710215101,
                    0.000004563784813086301,
                    0.000004618362257490829,
                    0.000004672559614776593,
                    0.000004726373389264856,
                    0.000004779800983526774,
                    0.000004832840660073917,
                    0.000004885491499635645,
                    0.000004937753356211278,
                    0.000004989626809100186,
                    0.000005041113112126349,
                    0.000005092214140287206,
                    0.000005142932334068027,
                    0.000005193270641674183,
                    0.0000052432324594427434,
                    0.000005292821570703958,
                    0.000005342042083369238,
                    0.000005390898366529313,
                    0.000005439394986349832,
                    0.000005487536641555415,
                    0.00000553532809879497,
                    0.0000055827741281816,
                    0.000005629879439299518,
                    0.000005676648617968544,
                    0.0000057230860640530265,
                    0.000005769195930597303,
                    0.000005814982064563845,
                    0.000005860447949442463,
                    0.000005905596649991412,
                    0.0000059504307593597875,
                    0.0000059949523488313795,
                    0.000006039162920417333,
                    0.000006083063362511553,
                    0.000006126653908809835,
                    0.000006169934100677941,
                    0.000006212902753138355,
                    0.000006255557924628919,
                    0.000006297896890669667,
                    0.000006339916121555686,
                    0.000006381611264176304,
                    0.000006422977128041518,
                    0.000006464007675577934,
                    0.000006504696016736774,
                    0.000006545034407937353,
                    0.00000658501425534952,
                    0.0000066246261224990165,
                    0.000006663859742160641,
                    0.000006702704032484233,
                    0.0000067411471172800726,
                    0.000006779176350371274,
                    0.000006816778343903149,
                    0.00000685393900048132,
                    0.000006890643548994117,
                    0.000006926876583958109,
                    0.000006962622108210547,
                    0.000006997863578757841,
                    0.000007032583955575589,
                    0.000007066765753143316,
                    0.000007100391094485444,
                    0.000007133441767479521,
                    0.000007165899283183914,
                    0.000007197744935928864,
                    0.000007228959864908297,
                    0.0000072595251170041,
                    0.000007289421710570782,
                    0.000007318630699905537,
                    0.00000734713324012691,
                    0.0000073749106521859724,
                    0.000007401944487734288,
                    0.0000074282165935761576,
                    0.000007453709175436183,
                    0.000007478404860778613,
                    0.0000075022867604211935,
                    0.000007525338528694,
                    0.000007547544421902763,
                    0.000007568889354865974,
                    0.000007589358955305964,
                    0.000007608939615886946,
                    0.000007627618543704963,
                    0.000007645383807049724,
                    0.000007662224379271767,
                    0.000007678130179605082,
                    0.000007693092110809927,
                    0.000007707102093518341,
                    0.000007720153097180765,
                    0.00000773223916753028,
                    0.00000774335545049777,
                    0.000007753498212529612,
                    0.000007762664857276409,
                    0.000007770853938639618,
                    0.000007778065170179878,
                    0.000007784299430908184,
                    0.000007789558767497564,
                    0.000007793846392970039,
                    0.000007797166681927951,
                    0.000007799525162415758,
                    0.000007800928504511102,
                    0.000007801384505758749,
                    0.000007800902073572754,
                    0.00000779949120474543,
                    0.00000779716296221043,
                    0.000007793929449219127,
                    0.0000077898037810964,
                    0.000007784800054750648,
                    0.000007778933316118147,
                    0.000007772219525727596,
                    0.000007764675522574616,
                    0.000007756318986497791,
                    0.000007747168399250415,
                    0.000007737243004461252,
                    0.000007726562766677174,
                    0.000007715148329678113,
                    0.000007703020974251558,
                    0.000007690202575608856,
                    0.000007676715560620782,
                    0.000007662582865042436,
                    0.000007647827890890533,
                    0.000007632474464127642,
                    0.00000761654679279824,
                    0.000007600069425751879,
                    0.000007583067212077928,
                    0.000007565565261364993,
                    0.000007547588904886183,
                    0.000007529163657799741,
                    0.0000075103151824412315,
                    0.000007491069252771464,
                    0.000007471451720031028,
                    0.000007451488479639303,
                    0.000007431205439363627,
                    0.000007410628488770476,
                    0.0000073897834699591784,
                    0.000007368696149565698,
                    0.000007347392192012734,
                    0.000007325897133970946,
                    0.000007304236359985557,
                    0.000007282435079212542,
                    0.000007260518303199248,
                    0.000007238510824635932,
                    0.00000721643719699678,
                    0.000007194321714982593,
                    0.000007172188395671026,
                    0.000007150060960275749,
                    0.000007127962816411894,
                    0.000007105917040762377,
                    0.000007083946362037864,
                    0.000007062073144122659,
                    0.0000070403193692987845,
                    0.000007018706621442342,
                    0.000006997256069088543,
                    0.00000697598844826533,
                    0.000006954924045000071,
                    0.000006934082677409289,
                    0.0000069134836772881055,
                    0.0000068931458711228284,
                    0.000006873087560459115,
                    0.000006853326501566601,
                    0.0000068338798843506185,
                    0.0000068147643104725706,
                    0.000006795995770650812,
                    0.000006777589621125901,
                    0.000006759560559286023,
                    0.0000067419225984606654,
                    0.000006724689041902918,
                    0.000006707872455994472,
                    0.000006691484642719272,
                    0.0000066755366114657315,
                    0.000006660038550229452,
                    0.000006644999796301856,
                    0.000006630428806542278,
                    0.0000066163331273431365,
                    0.0000066027193644101595,
                    0.000006589593152489993,
                    0.000006576959125189143,
                    0.000006564820885037666,
                    0.000006553180973960314,
                    0.000006542040844326773,
                    0.000006531400830759609,
                    0.000006521260122885778,
                    0.000006511616739222865,
                    0.000006502467502396012,
                    0.000006493808015884789,
                    0.000006485632642502066,
                    0.000006477934484807597,
                    0.000006470705367659421,
                    0.000006463935823104735,
                    0.000006457615077809518,
                    0.000006451731043222338,
                    0.000006446270308662629,
                    0.000006441218137517905,
                    0.000006436558466726337,
                    0.00000643227390971253,
                    0.000006428345762934643,
                    0.000006424754016189529,
                    0.000006421477366810481,
                    0.000006418493237878816,
                    0.000006415777800556126,
                    0.000006413306000628759,
                    0.000006411051589339758,
                    0.0000064089871585665144,
                    0.000006407084180384329,
                    0.000006405313051037887,
                    0.0000064036431393233005,
                    0.000006402042839363785,
                    0.000006400479627742148,
                    0.000006398920124932859,
                    0.000006397330160956058,
                    0.000006395674845154956,
                    0.00000639391863997806,
                    0.00000639202543862633,
                    0.000006389958646405969,
                    0.000006387681265607016,
                    0.000006385155983708637,
                    0.000006382345264692885,
                    0.000006379211443230841,
                    0.000006375716821486896,
                    0.000006371823768270628,
                    0.000006367494820249904,
                    0.000006362692784924034,
                    0.000006357380845042474,
                    0.00000635152266414181,
                    0.000006345082492863204,
                    0.000006338025275702306,
                    0.0000063303167578356885,
                    0.000006321923591660976,
                    0.000006312813442682563,
                    0.000006302955094371124,
                    0.000006292318551623298,
                    0.0000062808751424471336,
                    0.000006268597617500529,
                    0.000006255460247112576,
                    0.0000062414389154223915,
                    0.000006226511211276388,
                    0.000006210656515532497,
                    0.000006193856084429971,
                    0.000006176093128693818,
                    0.000006157352888056185,
                    0.000006137622700890802,
                    0.0000061168920686722895,
                    0.00000609515271498915,
                    0.000006072398638857374,
                    0.000006048626162101344,
                    0.000006023833970588854,
                    0.000005998023149129176,
                    0.0000059711972098654,
                    0.000005943362114015652,
                    0.000005914526286842006,
                    0.000005884700625750639,
                    0.000005853898501451925,
                    0.000005822135752134672,
                    0.000005789430670634891,
                    0.0000057558039846049595,
                    0.000005721278829715634,
                    0.000005685880715948575,
                    0.000005649637487063373,
                    0.000005612579273347978,
                    0.00000557473843778623,
                    0.000005536149515800898,
                    0.000005496849148753551,
                    0.0000054568760114060885,
                    0.000005416270733570009,
                    0.000005375075816190753,
                    0.0000053333355421342156,
                    0.000005291095881960869,
                    0.000005248404394990799,
                    0.000005205310125978372,
                    0.000005161863497730502,
                    0.00000511811620001525,
                    0.000005074121075119355,
                    0.000005029932000423423,
                    0.000004985603768372087,
                    0.000004941191964223304,
                    0.000004896752841966395,
                    0.000004852343198802163,
                    0.00000480802024858019,
                    0.000004763841494589364,
                    0.000004719864602095872,
                    0.000004676147271020594,
                    0.000004632747109143137,
                    0.000004589721506214108,
                    0.00000454712750934956,
                    0.000004505021700072855,
                    0.000004463460073358999,
                    0.0000044224979190248335,
                    0.000004382189705795714,
                    0.000004342588968365246,
                    0.000004303748197749749,
                    0.000004265718735222607,
                    0.0000042285506700970366,
                    0.000004192292741607468,
                    0.000004156992245121313,
                    0.000004122694942893465,
                    0.000004089444979555857,
                    0.000004057284802514109,
                    0.0000040262550874025305,
                    0.000003996394668727529,
                    0.000003967740475808403,
                    0.000003940327474103151,
                    0.000003914188611985556,
                    0.000003889354773018637,
                    0.000003865854733748631,
                    0.000003843715127022968,
                    0.000003822960410815291,
                    0.000003803612842520981,
                    0.000003785692458667051,
                    0.000003769217059961994,
                    0.000003754202201592923,
                    0.000003740661188660427,
                    0.000003728605076625153,
                    0.000003718042676624745,
                    0.000003708980565505328,
                    0.000003701423100398431,
                    0.000003695372437661674,
                    0.000003690828555990535,
                    0.000003687789283498205,
                    0.000003686250328551705,
                    0.000003686205314144638,
                    0.0000036876458155803848,
                    0.0000036905614012342003,
                    0.0000036949396761586572,
                    0.0000037007663282937523,
                    0.0000037080251770415623,
                    0.000003716698223964658,
                    0.0000037267657053682896,
                    0.000003738206146528158,
                    0.000003750996417328554,
                    0.000003765111789079822,
                    0.0000037805259922891007,
                    0.00000379721127516457,
                    0.000003815138462640425,
                    0.000003834277015717924,
                    0.000003854595090926631,
                    0.000003876059599719658,
                    0.000003898636267627168,
                    0.0000039222896930032995,
                    0.000003946983405213358,
                    0.0000039726799221203845,
                    0.000003999340806742459,
                    0.000004026926722965422,
                    0.000004055397490208564,
                    0.0000040847121369544435,
                    0.000004114828953067467,
                    0.000004145705540839358,
                    0.0000041772988647133245,
                    0.000004209565299651934,
                    0.00000424246067812716,
                    0.000004275940335723666,
                    0.0000043099591553593355,
                    0.000004344471610138979,
                    0.00000437943180486875,
                    0.000004414793516270265,
                    0.0000044505102319434324,
                    0.000004486535188137168,
                    0.000004522821406396072,
                    0.000004559321729159453,
                    0.000004595988854396513,
                    0.000004632775369368175,
                    0.000004669633783611572,
                    0.000004706516561248101,
                    0.000004743376152719513,
                    0.000004780165026059656,
                    0.000004816835697810894,
                    0.000004853340763695297,
                    0.000004889632929150574,
                    0.000004925665039839297,
                    0.00000496139011223806,
                    0.000004996761364410149,
                    0.000005031732247060995,
                    0.000005066256474971184,
                    0.000005100288058895631,
                    0.000005133781338011263,
                    0.000005166691012987884,
                    0.000005198972179749111,
                    0.000005230580363981222,
                    0.0000052614715564386395,
                    0.000005291602249084776,
                    0.000005320929472096579,
                    0.000005349410831750429,
                    0.000005377004549195869,
                    0.000005403669500112425,
                    0.000005429365255233112,
                    0.000005454052121706752,
                    0.0000054776911852595815,
                    0.00000550024435310493,
                    0.00000552167439753864,
                    0.00000554194500014637,
                    0.00000556102079653823,
                    0.00000557886742151579,
                    0.0000055954515545659165,
                    0.000005610740965567116,
                    0.000005624704560584351,
                    0.000005637312427620307,
                    0.000005648535882183501,
                    0.000005658347512526509,
                    0.0000056667212244016785,
                    0.000005673632285176339,
                    0.000005679057367145257,
                    0.000005682974589874615,
                    0.000005685363561409189,
                    0.000005686205418173047,
                    0.000005685482863393368,
                    0.000005683180203877498,
                    0.000005679283384974735,
                    0.00000567378002355672,
                    0.000005666659438853749,
                    0.000005657912680988523,
                    0.0000056475325570542406,
                    0.00000563551365459,
                    0.000005621852362313588,
                    0.0000056065468879795106,
                    0.000005589597273238927,
                    0.000005571005405387349,
                    0.000005550775025896204,
                    0.00000552891173563508,
                    0.0000055054229967025865,
                    0.000005480318130795819,
                    0.000005453608314060394,
                    0.000005425306568375872,
                    0.00000539542774904404,
                    0.000005363988528860968,
                    0.000005331007378566766,
                    0.000005296504543680577,
                    0.000005260502017741649,
                    0.000005223023511990749,
                    0.000005184094421539269,
                    0.000005143741788086644,
                    0.000005101994259259249,
                    0.000005058882044656463,
                    0.000005014436868701738,
                    0.0000049686919204079945,
                    0.000004921681800177756,
                    0.0000048734424637691154,
                    0.000004824011163568485,
                    0.000004773426387320355,
                    0.000004721727794472898,
                    0.000004668956150306303,
                    0.000004615153258017566,
                    0.0000045603618889420855,
                    0.000004504625711097862,
                    0.000004447989216242832,
                    0.000004390497645639763,
                    0.0000043321969147263505,
                    0.000004273133536890291,
                    0.000004213354546550479,
                    0.00000415290742174628,
                    0.000004091840006436423,
                    0.000004030200432708103,
                    0.0000039680370430951275,
                    0.000003905398313201445,
                    0.000003842332774823004,
                    0.000003778888939757001,
                    0.0000037151152244830654,
                    0.000003651059875895513,
                    0.0000035867708982600224,
                    0.0000035222959815618254,
                    0.000003457682431405479,
                    0.0000033929771006189404,
                    0.000003328226322707073,
                    0.000003263475847291374,
                    0.0000031987707776643135,
                    0.0000031341555105780307,
                    0.000003069673678378031,
                    0.000003005368093583345,
                    0.0000029412806960054633,
                    0.00000287745250248868,
                    0.0000028139235593453085,
                    0.000002750732897549392,
                    0.0000026879184907434168
                  ],
                  "yaxis": "y",
                  "type": "scatter"
                }
              ],
              "layout": {
                "barmode": "overlay",
                "hovermode": "closest",
                "legend": {
                  "traceorder": "reversed"
                },
                "template": {
                  "data": {
                    "barpolar": [
                      {
                        "marker": {
                          "line": {
                            "color": "#E5ECF6",
                            "width": 0.5
                          },
                          "pattern": {
                            "fillmode": "overlay",
                            "size": 10,
                            "solidity": 0.2
                          }
                        },
                        "type": "barpolar"
                      }
                    ],
                    "bar": [
                      {
                        "error_x": {
                          "color": "#2a3f5f"
                        },
                        "error_y": {
                          "color": "#2a3f5f"
                        },
                        "marker": {
                          "line": {
                            "color": "#E5ECF6",
                            "width": 0.5
                          },
                          "pattern": {
                            "fillmode": "overlay",
                            "size": 10,
                            "solidity": 0.2
                          }
                        },
                        "type": "bar"
                      }
                    ],
                    "carpet": [
                      {
                        "aaxis": {
                          "endlinecolor": "#2a3f5f",
                          "gridcolor": "white",
                          "linecolor": "white",
                          "minorgridcolor": "white",
                          "startlinecolor": "#2a3f5f"
                        },
                        "baxis": {
                          "endlinecolor": "#2a3f5f",
                          "gridcolor": "white",
                          "linecolor": "white",
                          "minorgridcolor": "white",
                          "startlinecolor": "#2a3f5f"
                        },
                        "type": "carpet"
                      }
                    ],
                    "choropleth": [
                      {
                        "colorbar": {
                          "outlinewidth": 0,
                          "ticks": ""
                        },
                        "type": "choropleth"
                      }
                    ],
                    "contourcarpet": [
                      {
                        "colorbar": {
                          "outlinewidth": 0,
                          "ticks": ""
                        },
                        "type": "contourcarpet"
                      }
                    ],
                    "contour": [
                      {
                        "colorbar": {
                          "outlinewidth": 0,
                          "ticks": ""
                        },
                        "colorscale": [
                          [
                            0,
                            "#0d0887"
                          ],
                          [
                            0.1111111111111111,
                            "#46039f"
                          ],
                          [
                            0.2222222222222222,
                            "#7201a8"
                          ],
                          [
                            0.3333333333333333,
                            "#9c179e"
                          ],
                          [
                            0.4444444444444444,
                            "#bd3786"
                          ],
                          [
                            0.5555555555555556,
                            "#d8576b"
                          ],
                          [
                            0.6666666666666666,
                            "#ed7953"
                          ],
                          [
                            0.7777777777777778,
                            "#fb9f3a"
                          ],
                          [
                            0.8888888888888888,
                            "#fdca26"
                          ],
                          [
                            1,
                            "#f0f921"
                          ]
                        ],
                        "type": "contour"
                      }
                    ],
                    "heatmapgl": [
                      {
                        "colorbar": {
                          "outlinewidth": 0,
                          "ticks": ""
                        },
                        "colorscale": [
                          [
                            0,
                            "#0d0887"
                          ],
                          [
                            0.1111111111111111,
                            "#46039f"
                          ],
                          [
                            0.2222222222222222,
                            "#7201a8"
                          ],
                          [
                            0.3333333333333333,
                            "#9c179e"
                          ],
                          [
                            0.4444444444444444,
                            "#bd3786"
                          ],
                          [
                            0.5555555555555556,
                            "#d8576b"
                          ],
                          [
                            0.6666666666666666,
                            "#ed7953"
                          ],
                          [
                            0.7777777777777778,
                            "#fb9f3a"
                          ],
                          [
                            0.8888888888888888,
                            "#fdca26"
                          ],
                          [
                            1,
                            "#f0f921"
                          ]
                        ],
                        "type": "heatmapgl"
                      }
                    ],
                    "heatmap": [
                      {
                        "colorbar": {
                          "outlinewidth": 0,
                          "ticks": ""
                        },
                        "colorscale": [
                          [
                            0,
                            "#0d0887"
                          ],
                          [
                            0.1111111111111111,
                            "#46039f"
                          ],
                          [
                            0.2222222222222222,
                            "#7201a8"
                          ],
                          [
                            0.3333333333333333,
                            "#9c179e"
                          ],
                          [
                            0.4444444444444444,
                            "#bd3786"
                          ],
                          [
                            0.5555555555555556,
                            "#d8576b"
                          ],
                          [
                            0.6666666666666666,
                            "#ed7953"
                          ],
                          [
                            0.7777777777777778,
                            "#fb9f3a"
                          ],
                          [
                            0.8888888888888888,
                            "#fdca26"
                          ],
                          [
                            1,
                            "#f0f921"
                          ]
                        ],
                        "type": "heatmap"
                      }
                    ],
                    "histogram2dcontour": [
                      {
                        "colorbar": {
                          "outlinewidth": 0,
                          "ticks": ""
                        },
                        "colorscale": [
                          [
                            0,
                            "#0d0887"
                          ],
                          [
                            0.1111111111111111,
                            "#46039f"
                          ],
                          [
                            0.2222222222222222,
                            "#7201a8"
                          ],
                          [
                            0.3333333333333333,
                            "#9c179e"
                          ],
                          [
                            0.4444444444444444,
                            "#bd3786"
                          ],
                          [
                            0.5555555555555556,
                            "#d8576b"
                          ],
                          [
                            0.6666666666666666,
                            "#ed7953"
                          ],
                          [
                            0.7777777777777778,
                            "#fb9f3a"
                          ],
                          [
                            0.8888888888888888,
                            "#fdca26"
                          ],
                          [
                            1,
                            "#f0f921"
                          ]
                        ],
                        "type": "histogram2dcontour"
                      }
                    ],
                    "histogram2d": [
                      {
                        "colorbar": {
                          "outlinewidth": 0,
                          "ticks": ""
                        },
                        "colorscale": [
                          [
                            0,
                            "#0d0887"
                          ],
                          [
                            0.1111111111111111,
                            "#46039f"
                          ],
                          [
                            0.2222222222222222,
                            "#7201a8"
                          ],
                          [
                            0.3333333333333333,
                            "#9c179e"
                          ],
                          [
                            0.4444444444444444,
                            "#bd3786"
                          ],
                          [
                            0.5555555555555556,
                            "#d8576b"
                          ],
                          [
                            0.6666666666666666,
                            "#ed7953"
                          ],
                          [
                            0.7777777777777778,
                            "#fb9f3a"
                          ],
                          [
                            0.8888888888888888,
                            "#fdca26"
                          ],
                          [
                            1,
                            "#f0f921"
                          ]
                        ],
                        "type": "histogram2d"
                      }
                    ],
                    "histogram": [
                      {
                        "marker": {
                          "pattern": {
                            "fillmode": "overlay",
                            "size": 10,
                            "solidity": 0.2
                          }
                        },
                        "type": "histogram"
                      }
                    ],
                    "mesh3d": [
                      {
                        "colorbar": {
                          "outlinewidth": 0,
                          "ticks": ""
                        },
                        "type": "mesh3d"
                      }
                    ],
                    "parcoords": [
                      {
                        "line": {
                          "colorbar": {
                            "outlinewidth": 0,
                            "ticks": ""
                          }
                        },
                        "type": "parcoords"
                      }
                    ],
                    "pie": [
                      {
                        "automargin": true,
                        "type": "pie"
                      }
                    ],
                    "scatter3d": [
                      {
                        "line": {
                          "colorbar": {
                            "outlinewidth": 0,
                            "ticks": ""
                          }
                        },
                        "marker": {
                          "colorbar": {
                            "outlinewidth": 0,
                            "ticks": ""
                          }
                        },
                        "type": "scatter3d"
                      }
                    ],
                    "scattercarpet": [
                      {
                        "marker": {
                          "colorbar": {
                            "outlinewidth": 0,
                            "ticks": ""
                          }
                        },
                        "type": "scattercarpet"
                      }
                    ],
                    "scattergeo": [
                      {
                        "marker": {
                          "colorbar": {
                            "outlinewidth": 0,
                            "ticks": ""
                          }
                        },
                        "type": "scattergeo"
                      }
                    ],
                    "scattergl": [
                      {
                        "marker": {
                          "colorbar": {
                            "outlinewidth": 0,
                            "ticks": ""
                          }
                        },
                        "type": "scattergl"
                      }
                    ],
                    "scattermapbox": [
                      {
                        "marker": {
                          "colorbar": {
                            "outlinewidth": 0,
                            "ticks": ""
                          }
                        },
                        "type": "scattermapbox"
                      }
                    ],
                    "scatterpolargl": [
                      {
                        "marker": {
                          "colorbar": {
                            "outlinewidth": 0,
                            "ticks": ""
                          }
                        },
                        "type": "scatterpolargl"
                      }
                    ],
                    "scatterpolar": [
                      {
                        "marker": {
                          "colorbar": {
                            "outlinewidth": 0,
                            "ticks": ""
                          }
                        },
                        "type": "scatterpolar"
                      }
                    ],
                    "scatter": [
                      {
                        "fillpattern": {
                          "fillmode": "overlay",
                          "size": 10,
                          "solidity": 0.2
                        },
                        "type": "scatter"
                      }
                    ],
                    "scatterternary": [
                      {
                        "marker": {
                          "colorbar": {
                            "outlinewidth": 0,
                            "ticks": ""
                          }
                        },
                        "type": "scatterternary"
                      }
                    ],
                    "surface": [
                      {
                        "colorbar": {
                          "outlinewidth": 0,
                          "ticks": ""
                        },
                        "colorscale": [
                          [
                            0,
                            "#0d0887"
                          ],
                          [
                            0.1111111111111111,
                            "#46039f"
                          ],
                          [
                            0.2222222222222222,
                            "#7201a8"
                          ],
                          [
                            0.3333333333333333,
                            "#9c179e"
                          ],
                          [
                            0.4444444444444444,
                            "#bd3786"
                          ],
                          [
                            0.5555555555555556,
                            "#d8576b"
                          ],
                          [
                            0.6666666666666666,
                            "#ed7953"
                          ],
                          [
                            0.7777777777777778,
                            "#fb9f3a"
                          ],
                          [
                            0.8888888888888888,
                            "#fdca26"
                          ],
                          [
                            1,
                            "#f0f921"
                          ]
                        ],
                        "type": "surface"
                      }
                    ],
                    "table": [
                      {
                        "cells": {
                          "fill": {
                            "color": "#EBF0F8"
                          },
                          "line": {
                            "color": "white"
                          }
                        },
                        "header": {
                          "fill": {
                            "color": "#C8D4E3"
                          },
                          "line": {
                            "color": "white"
                          }
                        },
                        "type": "table"
                      }
                    ]
                  },
                  "layout": {
                    "annotationdefaults": {
                      "arrowcolor": "#2a3f5f",
                      "arrowhead": 0,
                      "arrowwidth": 1
                    },
                    "autotypenumbers": "strict",
                    "coloraxis": {
                      "colorbar": {
                        "outlinewidth": 0,
                        "ticks": ""
                      }
                    },
                    "colorscale": {
                      "diverging": [
                        [
                          0,
                          "#8e0152"
                        ],
                        [
                          0.1,
                          "#c51b7d"
                        ],
                        [
                          0.2,
                          "#de77ae"
                        ],
                        [
                          0.3,
                          "#f1b6da"
                        ],
                        [
                          0.4,
                          "#fde0ef"
                        ],
                        [
                          0.5,
                          "#f7f7f7"
                        ],
                        [
                          0.6,
                          "#e6f5d0"
                        ],
                        [
                          0.7,
                          "#b8e186"
                        ],
                        [
                          0.8,
                          "#7fbc41"
                        ],
                        [
                          0.9,
                          "#4d9221"
                        ],
                        [
                          1,
                          "#276419"
                        ]
                      ],
                      "sequential": [
                        [
                          0,
                          "#0d0887"
                        ],
                        [
                          0.1111111111111111,
                          "#46039f"
                        ],
                        [
                          0.2222222222222222,
                          "#7201a8"
                        ],
                        [
                          0.3333333333333333,
                          "#9c179e"
                        ],
                        [
                          0.4444444444444444,
                          "#bd3786"
                        ],
                        [
                          0.5555555555555556,
                          "#d8576b"
                        ],
                        [
                          0.6666666666666666,
                          "#ed7953"
                        ],
                        [
                          0.7777777777777778,
                          "#fb9f3a"
                        ],
                        [
                          0.8888888888888888,
                          "#fdca26"
                        ],
                        [
                          1,
                          "#f0f921"
                        ]
                      ],
                      "sequentialminus": [
                        [
                          0,
                          "#0d0887"
                        ],
                        [
                          0.1111111111111111,
                          "#46039f"
                        ],
                        [
                          0.2222222222222222,
                          "#7201a8"
                        ],
                        [
                          0.3333333333333333,
                          "#9c179e"
                        ],
                        [
                          0.4444444444444444,
                          "#bd3786"
                        ],
                        [
                          0.5555555555555556,
                          "#d8576b"
                        ],
                        [
                          0.6666666666666666,
                          "#ed7953"
                        ],
                        [
                          0.7777777777777778,
                          "#fb9f3a"
                        ],
                        [
                          0.8888888888888888,
                          "#fdca26"
                        ],
                        [
                          1,
                          "#f0f921"
                        ]
                      ]
                    },
                    "colorway": [
                      "#636efa",
                      "#EF553B",
                      "#00cc96",
                      "#ab63fa",
                      "#FFA15A",
                      "#19d3f3",
                      "#FF6692",
                      "#B6E880",
                      "#FF97FF",
                      "#FECB52"
                    ],
                    "font": {
                      "color": "#2a3f5f"
                    },
                    "geo": {
                      "bgcolor": "white",
                      "lakecolor": "white",
                      "landcolor": "#E5ECF6",
                      "showlakes": true,
                      "showland": true,
                      "subunitcolor": "white"
                    },
                    "hoverlabel": {
                      "align": "left"
                    },
                    "hovermode": "closest",
                    "mapbox": {
                      "style": "light"
                    },
                    "paper_bgcolor": "white",
                    "plot_bgcolor": "#E5ECF6",
                    "polar": {
                      "angularaxis": {
                        "gridcolor": "white",
                        "linecolor": "white",
                        "ticks": ""
                      },
                      "bgcolor": "#E5ECF6",
                      "radialaxis": {
                        "gridcolor": "white",
                        "linecolor": "white",
                        "ticks": ""
                      }
                    },
                    "scene": {
                      "xaxis": {
                        "backgroundcolor": "#E5ECF6",
                        "gridcolor": "white",
                        "gridwidth": 2,
                        "linecolor": "white",
                        "showbackground": true,
                        "ticks": "",
                        "zerolinecolor": "white"
                      },
                      "yaxis": {
                        "backgroundcolor": "#E5ECF6",
                        "gridcolor": "white",
                        "gridwidth": 2,
                        "linecolor": "white",
                        "showbackground": true,
                        "ticks": "",
                        "zerolinecolor": "white"
                      },
                      "zaxis": {
                        "backgroundcolor": "#E5ECF6",
                        "gridcolor": "white",
                        "gridwidth": 2,
                        "linecolor": "white",
                        "showbackground": true,
                        "ticks": "",
                        "zerolinecolor": "white"
                      }
                    },
                    "shapedefaults": {
                      "line": {
                        "color": "#2a3f5f"
                      }
                    },
                    "ternary": {
                      "aaxis": {
                        "gridcolor": "white",
                        "linecolor": "white",
                        "ticks": ""
                      },
                      "baxis": {
                        "gridcolor": "white",
                        "linecolor": "white",
                        "ticks": ""
                      },
                      "bgcolor": "#E5ECF6",
                      "caxis": {
                        "gridcolor": "white",
                        "linecolor": "white",
                        "ticks": ""
                      }
                    },
                    "title": {
                      "x": 0.05
                    },
                    "xaxis": {
                      "automargin": true,
                      "gridcolor": "white",
                      "linecolor": "white",
                      "ticks": "",
                      "title": {
                        "standoff": 15
                      },
                      "zerolinecolor": "white",
                      "zerolinewidth": 2
                    },
                    "yaxis": {
                      "automargin": true,
                      "gridcolor": "white",
                      "linecolor": "white",
                      "ticks": "",
                      "title": {
                        "standoff": 15
                      },
                      "zerolinecolor": "white",
                      "zerolinewidth": 2
                    }
                  }
                },
                "title": {
                  "text": "Credit Card Transactions Time Density Plot"
                },
                "xaxis": {
                  "anchor": "y2",
                  "domain": [
                    0,
                    1
                  ],
                  "title": {
                    "text": "Time [s]"
                  },
                  "zeroline": false
                },
                "yaxis": {
                  "anchor": "free",
                  "domain": [
                    0,
                    1
                  ],
                  "position": 0
                }
              },
              "config": {
                "showLink": false,
                "linkText": "Export to plot.ly",
                "plotlyServerURL": "https://plot.ly"
              }
            },
            "text/html": [
              "<div>                            <div id=\"063ae8e1-48d1-42cb-9203-9b3dc5793ee7\" class=\"plotly-graph-div\" style=\"height:525px; width:100%;\"></div>            <script type=\"text/javascript\">                require([\"plotly\"], function(Plotly) {                    window.PLOTLYENV=window.PLOTLYENV || {};                                    if (document.getElementById(\"063ae8e1-48d1-42cb-9203-9b3dc5793ee7\")) {                    Plotly.newPlot(                        \"063ae8e1-48d1-42cb-9203-9b3dc5793ee7\",                        [{\"legendgroup\":\"Not Fraud\",\"marker\":{\"color\":\"rgb(31, 119, 180)\"},\"mode\":\"lines\",\"name\":\"Not Fraud\",\"showlegend\":true,\"x\":[0.0,345.584,691.168,1036.752,1382.336,1727.92,2073.504,2419.088,2764.672,3110.256,3455.84,3801.424,4147.008,4492.592,4838.176,5183.76,5529.344,5874.928,6220.512,6566.096,6911.68,7257.264,7602.848,7948.432,8294.016,8639.6,8985.184,9330.768,9676.352,10021.936,10367.52,10713.104,11058.688,11404.272,11749.856,12095.44,12441.024,12786.608,13132.192,13477.776,13823.36,14168.944,14514.528,14860.112,15205.696,15551.28,15896.864,16242.448,16588.032,16933.616,17279.2,17624.784,17970.368,18315.952,18661.536,19007.12,19352.704,19698.288,20043.872,20389.456,20735.04,21080.624,21426.208,21771.792,22117.376,22462.96,22808.544,23154.128,23499.712,23845.296,24190.88,24536.464,24882.048,25227.632,25573.216,25918.8,26264.384,26609.968,26955.552,27301.136,27646.72,27992.304,28337.888,28683.472,29029.056,29374.64,29720.224,30065.808,30411.392,30756.976,31102.56,31448.144,31793.728,32139.312,32484.896,32830.48,33176.064,33521.648,33867.232,34212.816,34558.4,34903.984,35249.568,35595.152,35940.736,36286.32,36631.904,36977.488,37323.072,37668.656,38014.24,38359.824,38705.408,39050.992,39396.576,39742.16,40087.744,40433.328,40778.912,41124.496,41470.08,41815.664,42161.248,42506.832,42852.416,43198.0,43543.584,43889.168,44234.752,44580.336,44925.92,45271.504,45617.088,45962.672,46308.256,46653.84,46999.424,47345.008,47690.592,48036.176,48381.76,48727.344,49072.928,49418.512,49764.096,50109.68,50455.264,50800.848,51146.432,51492.016,51837.6,52183.184,52528.768,52874.352,53219.936,53565.52,53911.104,54256.688,54602.272,54947.856,55293.44,55639.024,55984.608,56330.192,56675.776,57021.36,57366.944,57712.528,58058.112,58403.696,58749.28,59094.864,59440.448,59786.032,60131.616,60477.2,60822.784,61168.368,61513.952,61859.536,62205.12,62550.704,62896.288,63241.872,63587.456,63933.04,64278.624,64624.208,64969.792,65315.376,65660.96,66006.544,66352.128,66697.712,67043.296,67388.88,67734.464,68080.048,68425.632,68771.216,69116.8,69462.384,69807.968,70153.552,70499.136,70844.72,71190.304,71535.888,71881.472,72227.056,72572.64,72918.224,73263.808,73609.392,73954.976,74300.56,74646.144,74991.728,75337.312,75682.896,76028.48,76374.064,76719.648,77065.232,77410.816,77756.4,78101.984,78447.568,78793.152,79138.736,79484.32,79829.904,80175.488,80521.072,80866.656,81212.24,81557.824,81903.408,82248.992,82594.576,82940.16,83285.744,83631.328,83976.912,84322.496,84668.08,85013.664,85359.248,85704.832,86050.416,86396.0,86741.584,87087.168,87432.752,87778.336,88123.92,88469.504,88815.088,89160.672,89506.256,89851.84,90197.424,90543.008,90888.592,91234.176,91579.76,91925.344,92270.928,92616.512,92962.096,93307.68,93653.264,93998.848,94344.432,94690.016,95035.6,95381.184,95726.768,96072.352,96417.936,96763.52,97109.104,97454.688,97800.272,98145.856,98491.44,98837.024,99182.608,99528.192,99873.776,100219.36,100564.944,100910.528,101256.112,101601.696,101947.28,102292.864,102638.448,102984.032,103329.616,103675.2,104020.784,104366.368,104711.952,105057.536,105403.12,105748.704,106094.288,106439.872,106785.456,107131.04,107476.624,107822.208,108167.792,108513.376,108858.96,109204.544,109550.128,109895.712,110241.296,110586.88,110932.464,111278.048,111623.632,111969.216,112314.8,112660.384,113005.968,113351.552,113697.136,114042.72,114388.304,114733.888,115079.472,115425.056,115770.64,116116.224,116461.808,116807.392,117152.976,117498.56,117844.144,118189.728,118535.312,118880.896,119226.48,119572.064,119917.648,120263.232,120608.816,120954.4,121299.984,121645.568,121991.152,122336.736,122682.32,123027.904,123373.488,123719.072,124064.656,124410.24,124755.824,125101.408,125446.992,125792.576,126138.16,126483.744,126829.328,127174.912,127520.496,127866.08,128211.664,128557.248,128902.832,129248.416,129594.0,129939.584,130285.168,130630.752,130976.336,131321.92,131667.504,132013.088,132358.672,132704.256,133049.84,133395.424,133741.008,134086.592,134432.176,134777.76,135123.344,135468.928,135814.512,136160.096,136505.68,136851.264,137196.848,137542.432,137888.016,138233.6,138579.184,138924.768,139270.352,139615.936,139961.52,140307.104,140652.688,140998.272,141343.856,141689.44,142035.024,142380.608,142726.192,143071.776,143417.36,143762.944,144108.528,144454.112,144799.696,145145.28,145490.864,145836.448,146182.032,146527.616,146873.2,147218.784,147564.368,147909.952,148255.536,148601.12,148946.704,149292.288,149637.872,149983.456,150329.04,150674.624,151020.208,151365.792,151711.376,152056.96,152402.544,152748.128,153093.712,153439.296,153784.88,154130.464,154476.048,154821.632,155167.216,155512.8,155858.384,156203.968,156549.552,156895.136,157240.72,157586.304,157931.888,158277.472,158623.056,158968.64,159314.224,159659.808,160005.392,160350.976,160696.56,161042.144,161387.728,161733.312,162078.896,162424.48,162770.064,163115.648,163461.232,163806.816,164152.4,164497.984,164843.568,165189.152,165534.736,165880.32,166225.904,166571.488,166917.072,167262.656,167608.24,167953.824,168299.408,168644.992,168990.576,169336.16,169681.744,170027.328,170372.912,170718.496,171064.08,171409.664,171755.248,172100.832,172446.416],\"xaxis\":\"x\",\"y\":[1.6973474560862259e-06,1.7892406860838062e-06,1.8751066622895056e-06,1.9539240211315813e-06,2.0248147874841946e-06,2.08707000017282e-06,2.1401693523158417e-06,2.1837939471416962e-06,2.2178316034665916e-06,2.2423745117613394e-06,2.257709419619406e-06,2.2643008918188018e-06,2.262768523405099e-06,2.2538592651662714e-06,2.23841623407746e-06,2.2173455159802657e-06,2.1915825183281395e-06,2.162059397021128e-06,2.1296749680386746e-06,2.0952683311934044e-06,2.0595971930317096e-06,2.023321594571912e-06,1.9869934446533327e-06,1.951051949066508e-06,1.9158247265701045e-06,1.8815341310018958e-06,1.848308067129258e-06,1.8161944068400582e-06,1.7851779885078937e-06,1.7551991191213407e-06,1.7261724957825176e-06,1.6980055169883943e-06,1.6706150584078139e-06,1.6439419340972e-06,1.6179624420037478e-06,1.5926965909610427e-06,1.5682128135695861e-06,1.5446291740589583e-06,1.5221112719306263e-06,1.5008672116659287e-06,1.4811401484836664e-06,1.4631990243977308e-06,1.447328174052436e-06,1.4338165045343553e-06,1.4229469381475868e-06,1.4149867545429202e-06,1.4101793829092122e-06,1.4087380819813371e-06,1.4108418124353673e-06,1.416633460726771e-06,1.4262204239961593e-06,1.4396774207779602e-06,1.457051260044798e-06,1.4783671889174081e-06,1.503636353303531e-06,1.5328638503405982e-06,1.5660568294637841e-06,1.6032321108015962e-06,1.644422833837486e-06,1.6896837222361372e-06,1.739094646910135e-06,1.792762281809424e-06,1.8508197675565137e-06,1.91342441852153e-06,1.9807536210243026e-06,2.052999166716722e-06,2.130360339872763e-06,2.2130361262110283e-06,2.3012169320790753e-06,2.395076196709398e-06,2.494762249423483e-06,2.6003907126324243e-06,2.712037686308532e-06,2.8297338772311622e-06,2.9534597639182693e-06,3.083141822512351e-06,3.218649785632445e-06,3.3597948693886394e-06,3.506328885405064e-06,3.657944154693155e-06,3.8142741563072298e-06,3.974894871817512e-06,4.139326821281706e-06,4.307037821357344e-06,4.477446525210012e-06,4.6499268212931555e-06,4.8238131696183875e-06,4.998406937320514e-06,5.172983759820726e-06,5.346801901645486e-06,5.5191115259867515e-06,5.689164710128654e-06,5.856225971804275e-06,6.019583006720394e-06,6.178557286896823e-06,6.332514139090871e-06,6.480871916741138e-06,6.623109899729849e-06,6.758774603685427e-06,6.887484251983716e-06,7.00893125439331e-06,7.122882640061901e-06,7.22917850178734e-06,7.3277286152218586e-06,7.418507493160351e-06,7.5015482143994335e-06,7.576935423367105e-06,7.644797927105632e-06,7.705301318490016e-06,7.7586410291506e-06,7.805036164694746e-06,7.844724402420198e-06,7.877958143023881e-06,7.905002009088233e-06,7.92613168088056e-06,7.941633960959931e-06,7.95180786947959e-06,7.956966497383278e-06,7.957439289376495e-06,7.95357439583249e-06,7.94574072435943e-06,7.934329337960002e-06,7.919753886306888e-06,7.90244981707093e-06,7.882872191586451e-06,7.861492018651875e-06,7.838791116317143e-06,7.815255608175426e-06,7.791368252068974e-06,7.767599879605556e-06,7.74440028967119e-06,7.722188984437176e-06,7.701346159669052e-06,7.682204361436707e-06,7.665041198951464e-06,7.650073460067832e-06,7.637452914970819e-06,7.627264018689673e-06,7.6195236389617255e-06,7.614182847393351e-06,7.611130723686314e-06,7.6102000392217365e-06,7.611174611300588e-06,7.6137980557732675e-06,7.617783615693652e-06,7.622824708287957e-06,7.6286058123309786e-06,7.634813312831111e-06,7.641145929061617e-06,7.64732437441587e-06,7.653099931106341e-06,7.658261667941963e-06,7.662642083793556e-06,7.666121021265785e-06,7.668627762522012e-06,7.670141290160325e-06,7.670688767914207e-06,7.670342366006723e-06,7.669214621200134e-06,7.66745257869281e-06,7.665231008939393e-06,7.66274502428096e-06,7.660202435730384e-06,7.657816187892284e-06,7.655797189368887e-06,7.65434781807384e-06,7.65365632767947e-06,7.653892316465036e-06,7.655203347519249e-06,7.657712734803746e-06,7.661518438616225e-06,7.666692951868364e-06,7.673284010222381e-06,7.681315928223042e-06,7.690791352390222e-06,7.70169323139863e-06,7.713986831543374e-06,7.727621669694343e-06,7.742533291007232e-06,7.758644879036125e-06,7.775868744871467e-06,7.794107793011539e-06,7.81325709872003e-06,7.833205749804441e-06,7.853839101993095e-06,7.875041570289478e-06,7.896700030201668e-06,7.918707836091313e-06,7.940969384640012e-06,7.963405066766165e-06,7.98595636928918e-06,8.00859081649445e-06,8.031306389214003e-06,8.054135031363682e-06,8.077144855419425e-06,8.100440690962874e-06,8.12416268335992e-06,8.14848273946242e-06,8.173598728157818e-06,8.19972646813879e-06,8.227089664610317e-06,8.255908081986767e-06,8.286384352227616e-06,8.31868991113144e-06,8.352950622010562e-06,8.389232684289148e-06,8.427529432517213e-06,8.467749609997757e-06,8.509707653467902e-06,8.553116455128338e-06,8.597582980705839e-06,8.642607022227293e-06,8.68758325670654e-06,8.731806671225048e-06,8.774481304367475e-06,8.814732146393526e-06,8.851619937765274e-06,8.884158509418366e-06,8.91133421989988e-06,8.932126965959692e-06,8.945532176540064e-06,8.950583148096047e-06,8.946373044910828e-06,8.932075875017866e-06,8.906965763680843e-06,8.87043388472915e-06,8.822002476833976e-06,8.76133546686096e-06,8.68824534357329e-06,8.602696067955025e-06,8.50480196490831e-06,8.394822707027363e-06,8.273154665238245e-06,8.140319053533444e-06,7.99694742632507e-06,7.843765188647897e-06,7.681573845069685e-06,7.511232738581265e-06,7.333641014717291e-06,7.149720490327961e-06,6.960400015284132e-06,6.766601795741939e-06,6.569230008025072e-06,6.369161882344764e-06,6.167241285296684e-06,5.964274688715282e-06,5.761029288153016e-06,5.558232933420788e-06,5.356575460667157e-06,5.1567109726574455e-06,4.959260601368872e-06,4.764815303057653e-06,4.573938277349004e-06,4.387166664290929e-06,4.2050122516839715e-06,4.027961014003513e-06,3.8564713985995435e-06,3.690971369618424e-06,3.531854310764003e-06,3.3794739707040138e-06,3.2341387063642476e-06,3.096105336894178e-06,2.9655729626549326e-06,2.8426771276871017e-06,2.7274847098051116e-06,2.619989909357816e-06,2.5201116760150914e-06,2.427692863569818e-06,2.342501337296397e-06,2.2642331792465925e-06,2.1925180471487467e-06,2.1269266461765223e-06,2.0669801742745354e-06,2.0121615058942538e-06,1.961927791024422e-06,1.9157240712834853e-06,1.8729974570884043e-06,1.8332113732540548e-06,1.795859367380199e-06,1.7604779872841184e-06,1.7266582702356212e-06,1.694055445992838e-06,1.6623965343016342e-06,1.6314856110536921e-06,1.601206620175707e-06,1.5715237145407149e-06,1.5424792126083196e-06,1.5141893523611356e-06,1.486838105392346e-06,1.4606693777951221e-06,1.4359779681991326e-06,1.4130996757281784e-06,1.3924009520549695e-06,1.3742684736943766e-06,1.3590989758662613e-06,1.3472896412160879e-06,1.3392292794638088e-06,1.3352904719533148e-06,1.3358227923195593e-06,1.341147154951963e-06,1.3515512899463585e-06,1.3672862993904201e-06,1.38856421690328e-06,1.4155564712147404e-06,1.4483931452166285e-06,1.4871629234741587e-06,1.5319136320143348e-06,1.5826532920302118e-06,1.6393516311859588e-06,1.701942019429746e-06,1.7703238174880959e-06,1.8443651425656368e-06,1.923906064645726e-06,2.0087622462564432e-06,2.0987290275195534e-06,2.193585936646045e-06,2.293101574710356e-06,2.3970387845923002e-06,2.5051599704428932e-06,2.6172323897750874e-06,2.733033199748673e-06,2.8523540070366512e-06,2.9750046513343276e-06,3.1008159500099942e-06,3.2296411484896127e-06,3.3613558593164233e-06,3.4958563323563754e-06,3.6330559775247656e-06,3.77288015605973e-06,3.9152593615044e-06,4.060121020560155e-06,4.207380249287429e-06,4.356929993860338e-06,4.508631059529285e-06,4.662302579861024e-06,4.817713495387057e-06,4.9745755932158186e-06,5.132538606064661e-06,5.2911877821493745e-06,5.450044220727479e-06,5.6085681283196825e-06,5.766164996283173e-06,5.922194541198146e-06,6.075982095987883e-06,6.226832001933773e-06,6.374042439169823e-06,6.516921053370935e-06,6.654800694581853e-06,6.787054583109832e-06,6.913110256888787e-06,7.032461731690978e-06,7.1446794142477474e-06,7.249417441023877e-06,7.346418262603218e-06,7.435514445358034e-06,7.516627808025069e-06,7.5897661416846225e-06,7.65501786938152e-06,7.712545080304947e-06,7.762575419365271e-06,7.80539332511169e-06,7.841331088565962e-06,7.870760156336688e-06,7.894083028920024e-06,7.91172601610593e-06,7.924133013618904e-06,7.931760366075151e-06,7.935072788425499e-06,7.93454023728267e-06,7.930635559896009e-06,7.92383270505102e-06,7.914605258270497e-06,7.903425063041484e-06,7.89076070846611e-06,7.877075698645939e-06,7.862826166202865e-06,7.848458047158576e-06,7.834403692290486e-06,7.821077946804908e-06,7.80887378194564e-06,7.798157606035699e-06,7.789264416363822e-06,7.782492976151726e-06,7.778101212259413e-06,7.776302029754052e-06,7.777259729962857e-06,7.781087200522526e-06,7.787844020759936e-06,7.797535595084239e-06,7.810113392411537e-06,7.825476332418606e-06,7.843473320742813e-06,7.863906896333366e-06,7.886537915928428e-06,7.911091164212856e-06,7.93726174456668e-06,7.96472207570354e-06,7.993129295076794e-06,8.022132851958381e-06,8.05138206285166e-06,8.080533400309721e-06,8.109257294159882e-06,8.137244241794072e-06,8.164210051465267e-06,8.18990007848241e-06,8.214092357438601e-06,8.236599582026856e-06,8.257269934935495e-06,8.275986820935608e-06,8.292667603341442e-06,8.307261484600059e-06,8.319746703096491e-06,8.330127238270169e-06,8.338429223485022e-06,8.344697260356949e-06,8.348990810121108e-06,8.351380808722838e-06,8.351946615214959e-06,8.350773361117175e-06,8.347949725304513e-06,8.343566118802327e-06,8.337713230093593e-06,8.330480857437744e-06,8.321956942328976e-06,8.312226718654153e-06,8.301371904984086e-06,8.289469891130868e-06,8.276592901670648e-06,8.262807154751018e-06,8.248172069643047e-06,8.2327396065285e-06,8.216553842656704e-06,8.199650896786164e-06,8.182059306530184e-06,8.163800940243861e-06,8.144892487442374e-06,8.125347522248064e-06,8.105179077168387e-06,8.084402605008575e-06,8.063039150737186e-06,8.041118508591434e-06,8.018682107831947e-06,7.995785357477927e-06,7.972499188554671e-06,7.94891056241773e-06,7.925121764271025e-06,7.901248368810247e-06,7.87741584516872e-06,7.85375485515137e-06,7.8303953856032e-06,7.807459936140135e-06,7.785056051576899e-06,7.763268539232143e-06,7.742151741544886e-06,7.72172224223311e-06,7.701952369437008e-06,7.682764823383584e-06,7.664028701862064e-06,7.645557128088684e-06,7.627106606879591e-06,7.608378151350864e-06,7.589020138440522e-06,7.568632772026174e-06,7.546773961324195e-06,7.522966363070491e-06,7.4967052913752445e-06,7.467467171099347e-06,7.434718200257148e-06,7.397922894775451e-06,7.356552214556367e-06,7.310091012100789e-06,7.258044602058904e-06,7.199944319248213e-06,7.135352010448095e-06,7.063863487342655e-06,6.9851110494468006e-06,6.898765261308995e-06,6.804536232139009e-06,6.702174692783647e-06,6.591473189773045e-06,6.472267715052264e-06,6.344440060579499e-06,6.207921128630459e-06,6.0626953430227955e-06,5.90880619752802e-06,5.746362851759729e-06,5.575547550174991e-06,5.396623506475825e-06,5.209942774562269e-06,5.0159535292632225e-06,4.815206115540973e-06,4.608357202072422e-06,4.396171399757071e-06,4.179519780059323e-06,3.9593748505984624e-06,3.7368017104920415e-06,3.5129453063020974e-06,3.2890139285170296e-06,3.0662593135147833e-06,2.845953930965842e-06],\"yaxis\":\"y\",\"type\":\"scatter\"},{\"legendgroup\":\"Fraud\",\"marker\":{\"color\":\"rgb(255, 127, 14)\"},\"mode\":\"lines\",\"name\":\"Fraud\",\"showlegend\":true,\"x\":[406.0,745.884,1085.768,1425.652,1765.536,2105.42,2445.304,2785.188,3125.072,3464.956,3804.84,4144.724,4484.608,4824.492,5164.376,5504.26,5844.144,6184.028,6523.912,6863.796,7203.68,7543.564,7883.448,8223.332,8563.216,8903.1,9242.984,9582.868,9922.752,10262.636,10602.52,10942.404,11282.288,11622.172,11962.056,12301.94,12641.824,12981.708,13321.592,13661.476,14001.36,14341.244,14681.128,15021.012,15360.896,15700.78,16040.664,16380.548,16720.432,17060.316,17400.2,17740.084,18079.968,18419.852,18759.736,19099.62,19439.504,19779.388,20119.272,20459.156,20799.04,21138.924,21478.808,21818.692,22158.576,22498.46,22838.344,23178.228,23518.112,23857.996,24197.88,24537.764,24877.648,25217.532,25557.416,25897.3,26237.184,26577.068,26916.952,27256.836,27596.72,27936.604,28276.488,28616.372,28956.256,29296.14,29636.024,29975.908,30315.792,30655.676,30995.56,31335.444,31675.328,32015.212,32355.096,32694.98,33034.864,33374.748,33714.632,34054.516,34394.4,34734.284,35074.168,35414.052,35753.936,36093.82,36433.704,36773.588,37113.472,37453.356,37793.24,38133.124,38473.008,38812.892,39152.776,39492.66,39832.544,40172.428,40512.312,40852.196,41192.08,41531.964,41871.848,42211.732,42551.616,42891.5,43231.384,43571.268,43911.152,44251.036,44590.92,44930.804,45270.688,45610.572,45950.456,46290.34,46630.224,46970.108,47309.992,47649.876,47989.76,48329.644,48669.528,49009.412,49349.296,49689.18,50029.064,50368.948,50708.832,51048.716,51388.6,51728.484,52068.368,52408.252,52748.136,53088.02,53427.904,53767.788,54107.672,54447.556,54787.44,55127.324,55467.208,55807.092,56146.976,56486.86,56826.744,57166.628,57506.512,57846.396,58186.28,58526.164,58866.048,59205.932,59545.816,59885.7,60225.584,60565.468,60905.352,61245.236,61585.12,61925.004,62264.888,62604.772,62944.656,63284.54,63624.424,63964.308,64304.192,64644.076,64983.96,65323.844,65663.728,66003.612,66343.496,66683.38,67023.264,67363.148,67703.032,68042.916,68382.8,68722.684,69062.568,69402.452,69742.336,70082.22,70422.104,70761.988,71101.872,71441.756,71781.64,72121.524,72461.408,72801.292,73141.176,73481.06,73820.944,74160.828,74500.712,74840.596,75180.48,75520.364,75860.248,76200.132,76540.016,76879.9,77219.784,77559.668,77899.552,78239.436,78579.32,78919.204,79259.088,79598.972,79938.856,80278.74,80618.624,80958.508,81298.392,81638.276,81978.16,82318.044,82657.928,82997.812,83337.696,83677.58,84017.464,84357.348,84697.232,85037.116,85377.0,85716.884,86056.768,86396.652,86736.536,87076.42,87416.304,87756.188,88096.072,88435.956,88775.84,89115.724,89455.608,89795.492,90135.376,90475.26,90815.144,91155.028,91494.912,91834.796,92174.68,92514.564,92854.448,93194.332,93534.216,93874.1,94213.984,94553.868,94893.752,95233.636,95573.52,95913.404,96253.288,96593.172,96933.056,97272.94,97612.824,97952.708,98292.592,98632.476,98972.36,99312.244,99652.128,99992.012,100331.896,100671.78,101011.664,101351.548,101691.432,102031.316,102371.2,102711.084,103050.968,103390.852,103730.736,104070.62,104410.504,104750.388,105090.272,105430.156,105770.04,106109.924,106449.808,106789.692,107129.576,107469.46,107809.344,108149.228,108489.112,108828.996,109168.88,109508.764,109848.648,110188.532,110528.416,110868.3,111208.184,111548.068,111887.952,112227.836,112567.72,112907.604,113247.488,113587.372,113927.256,114267.14,114607.024,114946.908,115286.792,115626.676,115966.56,116306.444,116646.328,116986.212,117326.096,117665.98,118005.864,118345.748,118685.632,119025.516,119365.4,119705.284,120045.168,120385.052,120724.936,121064.82,121404.704,121744.588,122084.472,122424.356,122764.24,123104.124,123444.008,123783.892,124123.776,124463.66,124803.544,125143.428,125483.312,125823.196,126163.08,126502.964,126842.848,127182.732,127522.616,127862.5,128202.384,128542.268,128882.152,129222.036,129561.92,129901.804,130241.688,130581.572,130921.456,131261.34,131601.224,131941.108,132280.992,132620.876,132960.76,133300.644,133640.528,133980.412,134320.296,134660.18,135000.064,135339.948,135679.832,136019.716,136359.6,136699.484,137039.368,137379.252,137719.136,138059.02,138398.904,138738.788,139078.672,139418.556,139758.44,140098.324,140438.208,140778.092,141117.976,141457.86,141797.744,142137.628,142477.512,142817.396,143157.28,143497.164,143837.048,144176.932,144516.816,144856.7,145196.584,145536.468,145876.352,146216.236,146556.12,146896.004,147235.888,147575.772,147915.656,148255.54,148595.424,148935.308,149275.192,149615.076,149954.96,150294.844,150634.728,150974.612,151314.496,151654.38,151994.264,152334.148,152674.032,153013.916,153353.8,153693.684,154033.568,154373.452,154713.336,155053.22,155393.104,155732.988,156072.872,156412.756,156752.64,157092.524,157432.408,157772.292,158112.176,158452.06,158791.944,159131.828,159471.712,159811.596,160151.48,160491.364,160831.248,161171.132,161511.016,161850.9,162190.784,162530.668,162870.552,163210.436,163550.32,163890.204,164230.088,164569.972,164909.856,165249.74,165589.624,165929.508,166269.392,166609.276,166949.16,167289.044,167628.928,167968.812,168308.696,168648.58,168988.464,169328.348,169668.232,170008.116],\"xaxis\":\"x\",\"y\":[2.5725270199184186e-06,2.6310058058129387e-06,2.6897686304363113e-06,2.748786647363209e-06,2.8080309928186174e-06,2.867472852442724e-06,2.9270835279276285e-06,2.9868345032672523e-06,3.0466975103604765e-06,3.106644593707739e-06,3.1666481739421243e-06,3.226681109938766e-06,3.286716759249754e-06,3.3467290366169334e-06,3.4066924703207853e-06,3.4665822561312507e-06,3.5263743086346612e-06,3.586045309720728e-06,3.645572754024372e-06,3.704934991128807e-06,3.764111264349628e-06,3.823081745932931e-06,3.8818275685156236e-06,3.940330852711665e-06,3.998574730703818e-06,4.056543365738183e-06,4.114221967435876e-06,4.171596802854251e-06,4.22865520324932e-06,4.2853855665086814e-06,4.341777355244726e-06,4.397821090555966e-06,4.453508341484275e-06,4.508831710215101e-06,4.563784813086301e-06,4.618362257490829e-06,4.672559614776593e-06,4.726373389264856e-06,4.779800983526774e-06,4.832840660073917e-06,4.885491499635645e-06,4.937753356211278e-06,4.989626809100186e-06,5.041113112126349e-06,5.092214140287206e-06,5.142932334068027e-06,5.193270641674183e-06,5.2432324594427434e-06,5.292821570703958e-06,5.342042083369238e-06,5.390898366529313e-06,5.439394986349832e-06,5.487536641555415e-06,5.53532809879497e-06,5.5827741281816e-06,5.629879439299518e-06,5.676648617968544e-06,5.7230860640530265e-06,5.769195930597303e-06,5.814982064563845e-06,5.860447949442463e-06,5.905596649991412e-06,5.9504307593597875e-06,5.9949523488313795e-06,6.039162920417333e-06,6.083063362511553e-06,6.126653908809835e-06,6.169934100677941e-06,6.212902753138355e-06,6.255557924628919e-06,6.297896890669667e-06,6.339916121555686e-06,6.381611264176304e-06,6.422977128041518e-06,6.464007675577934e-06,6.504696016736774e-06,6.545034407937353e-06,6.58501425534952e-06,6.6246261224990165e-06,6.663859742160641e-06,6.702704032484233e-06,6.7411471172800726e-06,6.779176350371274e-06,6.816778343903149e-06,6.85393900048132e-06,6.890643548994117e-06,6.926876583958109e-06,6.962622108210547e-06,6.997863578757841e-06,7.032583955575589e-06,7.066765753143316e-06,7.100391094485444e-06,7.133441767479521e-06,7.165899283183914e-06,7.197744935928864e-06,7.228959864908297e-06,7.2595251170041e-06,7.289421710570782e-06,7.318630699905537e-06,7.34713324012691e-06,7.3749106521859724e-06,7.401944487734288e-06,7.4282165935761576e-06,7.453709175436183e-06,7.478404860778613e-06,7.5022867604211935e-06,7.525338528694e-06,7.547544421902763e-06,7.568889354865974e-06,7.589358955305964e-06,7.608939615886946e-06,7.627618543704963e-06,7.645383807049724e-06,7.662224379271767e-06,7.678130179605082e-06,7.693092110809927e-06,7.707102093518341e-06,7.720153097180765e-06,7.73223916753028e-06,7.74335545049777e-06,7.753498212529612e-06,7.762664857276409e-06,7.770853938639618e-06,7.778065170179878e-06,7.784299430908184e-06,7.789558767497564e-06,7.793846392970039e-06,7.797166681927951e-06,7.799525162415758e-06,7.800928504511102e-06,7.801384505758749e-06,7.800902073572754e-06,7.79949120474543e-06,7.79716296221043e-06,7.793929449219127e-06,7.7898037810964e-06,7.784800054750648e-06,7.778933316118147e-06,7.772219525727596e-06,7.764675522574616e-06,7.756318986497791e-06,7.747168399250415e-06,7.737243004461252e-06,7.726562766677174e-06,7.715148329678113e-06,7.703020974251558e-06,7.690202575608856e-06,7.676715560620782e-06,7.662582865042436e-06,7.647827890890533e-06,7.632474464127642e-06,7.61654679279824e-06,7.600069425751879e-06,7.583067212077928e-06,7.565565261364993e-06,7.547588904886183e-06,7.529163657799741e-06,7.5103151824412315e-06,7.491069252771464e-06,7.471451720031028e-06,7.451488479639303e-06,7.431205439363627e-06,7.410628488770476e-06,7.3897834699591784e-06,7.368696149565698e-06,7.347392192012734e-06,7.325897133970946e-06,7.304236359985557e-06,7.282435079212542e-06,7.260518303199248e-06,7.238510824635932e-06,7.21643719699678e-06,7.194321714982593e-06,7.172188395671026e-06,7.150060960275749e-06,7.127962816411894e-06,7.105917040762377e-06,7.083946362037864e-06,7.062073144122659e-06,7.0403193692987845e-06,7.018706621442342e-06,6.997256069088543e-06,6.97598844826533e-06,6.954924045000071e-06,6.934082677409289e-06,6.9134836772881055e-06,6.8931458711228284e-06,6.873087560459115e-06,6.853326501566601e-06,6.8338798843506185e-06,6.8147643104725706e-06,6.795995770650812e-06,6.777589621125901e-06,6.759560559286023e-06,6.7419225984606654e-06,6.724689041902918e-06,6.707872455994472e-06,6.691484642719272e-06,6.6755366114657315e-06,6.660038550229452e-06,6.644999796301856e-06,6.630428806542278e-06,6.6163331273431365e-06,6.6027193644101595e-06,6.589593152489993e-06,6.576959125189143e-06,6.564820885037666e-06,6.553180973960314e-06,6.542040844326773e-06,6.531400830759609e-06,6.521260122885778e-06,6.511616739222865e-06,6.502467502396012e-06,6.493808015884789e-06,6.485632642502066e-06,6.477934484807597e-06,6.470705367659421e-06,6.463935823104735e-06,6.457615077809518e-06,6.451731043222338e-06,6.446270308662629e-06,6.441218137517905e-06,6.436558466726337e-06,6.43227390971253e-06,6.428345762934643e-06,6.424754016189529e-06,6.421477366810481e-06,6.418493237878816e-06,6.415777800556126e-06,6.413306000628759e-06,6.411051589339758e-06,6.4089871585665144e-06,6.407084180384329e-06,6.405313051037887e-06,6.4036431393233005e-06,6.402042839363785e-06,6.400479627742148e-06,6.398920124932859e-06,6.397330160956058e-06,6.395674845154956e-06,6.39391863997806e-06,6.39202543862633e-06,6.389958646405969e-06,6.387681265607016e-06,6.385155983708637e-06,6.382345264692885e-06,6.379211443230841e-06,6.375716821486896e-06,6.371823768270628e-06,6.367494820249904e-06,6.362692784924034e-06,6.357380845042474e-06,6.35152266414181e-06,6.345082492863204e-06,6.338025275702306e-06,6.3303167578356885e-06,6.321923591660976e-06,6.312813442682563e-06,6.302955094371124e-06,6.292318551623298e-06,6.2808751424471336e-06,6.268597617500529e-06,6.255460247112576e-06,6.2414389154223915e-06,6.226511211276388e-06,6.210656515532497e-06,6.193856084429971e-06,6.176093128693818e-06,6.157352888056185e-06,6.137622700890802e-06,6.1168920686722895e-06,6.09515271498915e-06,6.072398638857374e-06,6.048626162101344e-06,6.023833970588854e-06,5.998023149129176e-06,5.9711972098654e-06,5.943362114015652e-06,5.914526286842006e-06,5.884700625750639e-06,5.853898501451925e-06,5.822135752134672e-06,5.789430670634891e-06,5.7558039846049595e-06,5.721278829715634e-06,5.685880715948575e-06,5.649637487063373e-06,5.612579273347978e-06,5.57473843778623e-06,5.536149515800898e-06,5.496849148753551e-06,5.4568760114060885e-06,5.416270733570009e-06,5.375075816190753e-06,5.3333355421342156e-06,5.291095881960869e-06,5.248404394990799e-06,5.205310125978372e-06,5.161863497730502e-06,5.11811620001525e-06,5.074121075119355e-06,5.029932000423423e-06,4.985603768372087e-06,4.941191964223304e-06,4.896752841966395e-06,4.852343198802163e-06,4.80802024858019e-06,4.763841494589364e-06,4.719864602095872e-06,4.676147271020594e-06,4.632747109143137e-06,4.589721506214108e-06,4.54712750934956e-06,4.505021700072855e-06,4.463460073358999e-06,4.4224979190248335e-06,4.382189705795714e-06,4.342588968365246e-06,4.303748197749749e-06,4.265718735222607e-06,4.2285506700970366e-06,4.192292741607468e-06,4.156992245121313e-06,4.122694942893465e-06,4.089444979555857e-06,4.057284802514109e-06,4.0262550874025305e-06,3.996394668727529e-06,3.967740475808403e-06,3.940327474103151e-06,3.914188611985556e-06,3.889354773018637e-06,3.865854733748631e-06,3.843715127022968e-06,3.822960410815291e-06,3.803612842520981e-06,3.785692458667051e-06,3.769217059961994e-06,3.754202201592923e-06,3.740661188660427e-06,3.728605076625153e-06,3.718042676624745e-06,3.708980565505328e-06,3.701423100398431e-06,3.695372437661674e-06,3.690828555990535e-06,3.687789283498205e-06,3.686250328551705e-06,3.686205314144638e-06,3.6876458155803848e-06,3.6905614012342003e-06,3.6949396761586572e-06,3.7007663282937523e-06,3.7080251770415623e-06,3.716698223964658e-06,3.7267657053682896e-06,3.738206146528158e-06,3.750996417328554e-06,3.765111789079822e-06,3.7805259922891007e-06,3.79721127516457e-06,3.815138462640425e-06,3.834277015717924e-06,3.854595090926631e-06,3.876059599719658e-06,3.898636267627168e-06,3.9222896930032995e-06,3.946983405213358e-06,3.9726799221203845e-06,3.999340806742459e-06,4.026926722965422e-06,4.055397490208564e-06,4.0847121369544435e-06,4.114828953067467e-06,4.145705540839358e-06,4.1772988647133245e-06,4.209565299651934e-06,4.24246067812716e-06,4.275940335723666e-06,4.3099591553593355e-06,4.344471610138979e-06,4.37943180486875e-06,4.414793516270265e-06,4.4505102319434324e-06,4.486535188137168e-06,4.522821406396072e-06,4.559321729159453e-06,4.595988854396513e-06,4.632775369368175e-06,4.669633783611572e-06,4.706516561248101e-06,4.743376152719513e-06,4.780165026059656e-06,4.816835697810894e-06,4.853340763695297e-06,4.889632929150574e-06,4.925665039839297e-06,4.96139011223806e-06,4.996761364410149e-06,5.031732247060995e-06,5.066256474971184e-06,5.100288058895631e-06,5.133781338011263e-06,5.166691012987884e-06,5.198972179749111e-06,5.230580363981222e-06,5.2614715564386395e-06,5.291602249084776e-06,5.320929472096579e-06,5.349410831750429e-06,5.377004549195869e-06,5.403669500112425e-06,5.429365255233112e-06,5.454052121706752e-06,5.4776911852595815e-06,5.50024435310493e-06,5.52167439753864e-06,5.54194500014637e-06,5.56102079653823e-06,5.57886742151579e-06,5.5954515545659165e-06,5.610740965567116e-06,5.624704560584351e-06,5.637312427620307e-06,5.648535882183501e-06,5.658347512526509e-06,5.6667212244016785e-06,5.673632285176339e-06,5.679057367145257e-06,5.682974589874615e-06,5.685363561409189e-06,5.686205418173047e-06,5.685482863393368e-06,5.683180203877498e-06,5.679283384974735e-06,5.67378002355672e-06,5.666659438853749e-06,5.657912680988523e-06,5.6475325570542406e-06,5.63551365459e-06,5.621852362313588e-06,5.6065468879795106e-06,5.589597273238927e-06,5.571005405387349e-06,5.550775025896204e-06,5.52891173563508e-06,5.5054229967025865e-06,5.480318130795819e-06,5.453608314060394e-06,5.425306568375872e-06,5.39542774904404e-06,5.363988528860968e-06,5.331007378566766e-06,5.296504543680577e-06,5.260502017741649e-06,5.223023511990749e-06,5.184094421539269e-06,5.143741788086644e-06,5.101994259259249e-06,5.058882044656463e-06,5.014436868701738e-06,4.9686919204079945e-06,4.921681800177756e-06,4.8734424637691154e-06,4.824011163568485e-06,4.773426387320355e-06,4.721727794472898e-06,4.668956150306303e-06,4.615153258017566e-06,4.5603618889420855e-06,4.504625711097862e-06,4.447989216242832e-06,4.390497645639763e-06,4.3321969147263505e-06,4.273133536890291e-06,4.213354546550479e-06,4.15290742174628e-06,4.091840006436423e-06,4.030200432708103e-06,3.9680370430951275e-06,3.905398313201445e-06,3.842332774823004e-06,3.778888939757001e-06,3.7151152244830654e-06,3.651059875895513e-06,3.5867708982600224e-06,3.5222959815618254e-06,3.457682431405479e-06,3.3929771006189404e-06,3.328226322707073e-06,3.263475847291374e-06,3.1987707776643135e-06,3.1341555105780307e-06,3.069673678378031e-06,3.005368093583345e-06,2.9412806960054633e-06,2.87745250248868e-06,2.8139235593453085e-06,2.750732897549392e-06,2.6879184907434168e-06],\"yaxis\":\"y\",\"type\":\"scatter\"}],                        {\"barmode\":\"overlay\",\"hovermode\":\"closest\",\"legend\":{\"traceorder\":\"reversed\"},\"template\":{\"data\":{\"barpolar\":[{\"marker\":{\"line\":{\"color\":\"#E5ECF6\",\"width\":0.5},\"pattern\":{\"fillmode\":\"overlay\",\"size\":10,\"solidity\":0.2}},\"type\":\"barpolar\"}],\"bar\":[{\"error_x\":{\"color\":\"#2a3f5f\"},\"error_y\":{\"color\":\"#2a3f5f\"},\"marker\":{\"line\":{\"color\":\"#E5ECF6\",\"width\":0.5},\"pattern\":{\"fillmode\":\"overlay\",\"size\":10,\"solidity\":0.2}},\"type\":\"bar\"}],\"carpet\":[{\"aaxis\":{\"endlinecolor\":\"#2a3f5f\",\"gridcolor\":\"white\",\"linecolor\":\"white\",\"minorgridcolor\":\"white\",\"startlinecolor\":\"#2a3f5f\"},\"baxis\":{\"endlinecolor\":\"#2a3f5f\",\"gridcolor\":\"white\",\"linecolor\":\"white\",\"minorgridcolor\":\"white\",\"startlinecolor\":\"#2a3f5f\"},\"type\":\"carpet\"}],\"choropleth\":[{\"colorbar\":{\"outlinewidth\":0,\"ticks\":\"\"},\"type\":\"choropleth\"}],\"contourcarpet\":[{\"colorbar\":{\"outlinewidth\":0,\"ticks\":\"\"},\"type\":\"contourcarpet\"}],\"contour\":[{\"colorbar\":{\"outlinewidth\":0,\"ticks\":\"\"},\"colorscale\":[[0.0,\"#0d0887\"],[0.1111111111111111,\"#46039f\"],[0.2222222222222222,\"#7201a8\"],[0.3333333333333333,\"#9c179e\"],[0.4444444444444444,\"#bd3786\"],[0.5555555555555556,\"#d8576b\"],[0.6666666666666666,\"#ed7953\"],[0.7777777777777778,\"#fb9f3a\"],[0.8888888888888888,\"#fdca26\"],[1.0,\"#f0f921\"]],\"type\":\"contour\"}],\"heatmapgl\":[{\"colorbar\":{\"outlinewidth\":0,\"ticks\":\"\"},\"colorscale\":[[0.0,\"#0d0887\"],[0.1111111111111111,\"#46039f\"],[0.2222222222222222,\"#7201a8\"],[0.3333333333333333,\"#9c179e\"],[0.4444444444444444,\"#bd3786\"],[0.5555555555555556,\"#d8576b\"],[0.6666666666666666,\"#ed7953\"],[0.7777777777777778,\"#fb9f3a\"],[0.8888888888888888,\"#fdca26\"],[1.0,\"#f0f921\"]],\"type\":\"heatmapgl\"}],\"heatmap\":[{\"colorbar\":{\"outlinewidth\":0,\"ticks\":\"\"},\"colorscale\":[[0.0,\"#0d0887\"],[0.1111111111111111,\"#46039f\"],[0.2222222222222222,\"#7201a8\"],[0.3333333333333333,\"#9c179e\"],[0.4444444444444444,\"#bd3786\"],[0.5555555555555556,\"#d8576b\"],[0.6666666666666666,\"#ed7953\"],[0.7777777777777778,\"#fb9f3a\"],[0.8888888888888888,\"#fdca26\"],[1.0,\"#f0f921\"]],\"type\":\"heatmap\"}],\"histogram2dcontour\":[{\"colorbar\":{\"outlinewidth\":0,\"ticks\":\"\"},\"colorscale\":[[0.0,\"#0d0887\"],[0.1111111111111111,\"#46039f\"],[0.2222222222222222,\"#7201a8\"],[0.3333333333333333,\"#9c179e\"],[0.4444444444444444,\"#bd3786\"],[0.5555555555555556,\"#d8576b\"],[0.6666666666666666,\"#ed7953\"],[0.7777777777777778,\"#fb9f3a\"],[0.8888888888888888,\"#fdca26\"],[1.0,\"#f0f921\"]],\"type\":\"histogram2dcontour\"}],\"histogram2d\":[{\"colorbar\":{\"outlinewidth\":0,\"ticks\":\"\"},\"colorscale\":[[0.0,\"#0d0887\"],[0.1111111111111111,\"#46039f\"],[0.2222222222222222,\"#7201a8\"],[0.3333333333333333,\"#9c179e\"],[0.4444444444444444,\"#bd3786\"],[0.5555555555555556,\"#d8576b\"],[0.6666666666666666,\"#ed7953\"],[0.7777777777777778,\"#fb9f3a\"],[0.8888888888888888,\"#fdca26\"],[1.0,\"#f0f921\"]],\"type\":\"histogram2d\"}],\"histogram\":[{\"marker\":{\"pattern\":{\"fillmode\":\"overlay\",\"size\":10,\"solidity\":0.2}},\"type\":\"histogram\"}],\"mesh3d\":[{\"colorbar\":{\"outlinewidth\":0,\"ticks\":\"\"},\"type\":\"mesh3d\"}],\"parcoords\":[{\"line\":{\"colorbar\":{\"outlinewidth\":0,\"ticks\":\"\"}},\"type\":\"parcoords\"}],\"pie\":[{\"automargin\":true,\"type\":\"pie\"}],\"scatter3d\":[{\"line\":{\"colorbar\":{\"outlinewidth\":0,\"ticks\":\"\"}},\"marker\":{\"colorbar\":{\"outlinewidth\":0,\"ticks\":\"\"}},\"type\":\"scatter3d\"}],\"scattercarpet\":[{\"marker\":{\"colorbar\":{\"outlinewidth\":0,\"ticks\":\"\"}},\"type\":\"scattercarpet\"}],\"scattergeo\":[{\"marker\":{\"colorbar\":{\"outlinewidth\":0,\"ticks\":\"\"}},\"type\":\"scattergeo\"}],\"scattergl\":[{\"marker\":{\"colorbar\":{\"outlinewidth\":0,\"ticks\":\"\"}},\"type\":\"scattergl\"}],\"scattermapbox\":[{\"marker\":{\"colorbar\":{\"outlinewidth\":0,\"ticks\":\"\"}},\"type\":\"scattermapbox\"}],\"scatterpolargl\":[{\"marker\":{\"colorbar\":{\"outlinewidth\":0,\"ticks\":\"\"}},\"type\":\"scatterpolargl\"}],\"scatterpolar\":[{\"marker\":{\"colorbar\":{\"outlinewidth\":0,\"ticks\":\"\"}},\"type\":\"scatterpolar\"}],\"scatter\":[{\"fillpattern\":{\"fillmode\":\"overlay\",\"size\":10,\"solidity\":0.2},\"type\":\"scatter\"}],\"scatterternary\":[{\"marker\":{\"colorbar\":{\"outlinewidth\":0,\"ticks\":\"\"}},\"type\":\"scatterternary\"}],\"surface\":[{\"colorbar\":{\"outlinewidth\":0,\"ticks\":\"\"},\"colorscale\":[[0.0,\"#0d0887\"],[0.1111111111111111,\"#46039f\"],[0.2222222222222222,\"#7201a8\"],[0.3333333333333333,\"#9c179e\"],[0.4444444444444444,\"#bd3786\"],[0.5555555555555556,\"#d8576b\"],[0.6666666666666666,\"#ed7953\"],[0.7777777777777778,\"#fb9f3a\"],[0.8888888888888888,\"#fdca26\"],[1.0,\"#f0f921\"]],\"type\":\"surface\"}],\"table\":[{\"cells\":{\"fill\":{\"color\":\"#EBF0F8\"},\"line\":{\"color\":\"white\"}},\"header\":{\"fill\":{\"color\":\"#C8D4E3\"},\"line\":{\"color\":\"white\"}},\"type\":\"table\"}]},\"layout\":{\"annotationdefaults\":{\"arrowcolor\":\"#2a3f5f\",\"arrowhead\":0,\"arrowwidth\":1},\"autotypenumbers\":\"strict\",\"coloraxis\":{\"colorbar\":{\"outlinewidth\":0,\"ticks\":\"\"}},\"colorscale\":{\"diverging\":[[0,\"#8e0152\"],[0.1,\"#c51b7d\"],[0.2,\"#de77ae\"],[0.3,\"#f1b6da\"],[0.4,\"#fde0ef\"],[0.5,\"#f7f7f7\"],[0.6,\"#e6f5d0\"],[0.7,\"#b8e186\"],[0.8,\"#7fbc41\"],[0.9,\"#4d9221\"],[1,\"#276419\"]],\"sequential\":[[0.0,\"#0d0887\"],[0.1111111111111111,\"#46039f\"],[0.2222222222222222,\"#7201a8\"],[0.3333333333333333,\"#9c179e\"],[0.4444444444444444,\"#bd3786\"],[0.5555555555555556,\"#d8576b\"],[0.6666666666666666,\"#ed7953\"],[0.7777777777777778,\"#fb9f3a\"],[0.8888888888888888,\"#fdca26\"],[1.0,\"#f0f921\"]],\"sequentialminus\":[[0.0,\"#0d0887\"],[0.1111111111111111,\"#46039f\"],[0.2222222222222222,\"#7201a8\"],[0.3333333333333333,\"#9c179e\"],[0.4444444444444444,\"#bd3786\"],[0.5555555555555556,\"#d8576b\"],[0.6666666666666666,\"#ed7953\"],[0.7777777777777778,\"#fb9f3a\"],[0.8888888888888888,\"#fdca26\"],[1.0,\"#f0f921\"]]},\"colorway\":[\"#636efa\",\"#EF553B\",\"#00cc96\",\"#ab63fa\",\"#FFA15A\",\"#19d3f3\",\"#FF6692\",\"#B6E880\",\"#FF97FF\",\"#FECB52\"],\"font\":{\"color\":\"#2a3f5f\"},\"geo\":{\"bgcolor\":\"white\",\"lakecolor\":\"white\",\"landcolor\":\"#E5ECF6\",\"showlakes\":true,\"showland\":true,\"subunitcolor\":\"white\"},\"hoverlabel\":{\"align\":\"left\"},\"hovermode\":\"closest\",\"mapbox\":{\"style\":\"light\"},\"paper_bgcolor\":\"white\",\"plot_bgcolor\":\"#E5ECF6\",\"polar\":{\"angularaxis\":{\"gridcolor\":\"white\",\"linecolor\":\"white\",\"ticks\":\"\"},\"bgcolor\":\"#E5ECF6\",\"radialaxis\":{\"gridcolor\":\"white\",\"linecolor\":\"white\",\"ticks\":\"\"}},\"scene\":{\"xaxis\":{\"backgroundcolor\":\"#E5ECF6\",\"gridcolor\":\"white\",\"gridwidth\":2,\"linecolor\":\"white\",\"showbackground\":true,\"ticks\":\"\",\"zerolinecolor\":\"white\"},\"yaxis\":{\"backgroundcolor\":\"#E5ECF6\",\"gridcolor\":\"white\",\"gridwidth\":2,\"linecolor\":\"white\",\"showbackground\":true,\"ticks\":\"\",\"zerolinecolor\":\"white\"},\"zaxis\":{\"backgroundcolor\":\"#E5ECF6\",\"gridcolor\":\"white\",\"gridwidth\":2,\"linecolor\":\"white\",\"showbackground\":true,\"ticks\":\"\",\"zerolinecolor\":\"white\"}},\"shapedefaults\":{\"line\":{\"color\":\"#2a3f5f\"}},\"ternary\":{\"aaxis\":{\"gridcolor\":\"white\",\"linecolor\":\"white\",\"ticks\":\"\"},\"baxis\":{\"gridcolor\":\"white\",\"linecolor\":\"white\",\"ticks\":\"\"},\"bgcolor\":\"#E5ECF6\",\"caxis\":{\"gridcolor\":\"white\",\"linecolor\":\"white\",\"ticks\":\"\"}},\"title\":{\"x\":0.05},\"xaxis\":{\"automargin\":true,\"gridcolor\":\"white\",\"linecolor\":\"white\",\"ticks\":\"\",\"title\":{\"standoff\":15},\"zerolinecolor\":\"white\",\"zerolinewidth\":2},\"yaxis\":{\"automargin\":true,\"gridcolor\":\"white\",\"linecolor\":\"white\",\"ticks\":\"\",\"title\":{\"standoff\":15},\"zerolinecolor\":\"white\",\"zerolinewidth\":2}}},\"title\":{\"text\":\"Credit Card Transactions Time Density Plot\"},\"xaxis\":{\"anchor\":\"y2\",\"domain\":[0.0,1.0],\"title\":{\"text\":\"Time [s]\"},\"zeroline\":false},\"yaxis\":{\"anchor\":\"free\",\"domain\":[0.0,1],\"position\":0.0}},                        {\"responsive\": true}                    ).then(function(){\n",
              "                            \n",
              "var gd = document.getElementById('063ae8e1-48d1-42cb-9203-9b3dc5793ee7');\n",
              "var x = new MutationObserver(function (mutations, observer) {{\n",
              "        var display = window.getComputedStyle(gd).display;\n",
              "        if (!display || display === 'none') {{\n",
              "            console.log([gd, 'removed!']);\n",
              "            Plotly.purge(gd);\n",
              "            observer.disconnect();\n",
              "        }}\n",
              "}});\n",
              "\n",
              "// Listen for the removal of the full notebook cells\n",
              "var notebookContainer = gd.closest('#notebook-container');\n",
              "if (notebookContainer) {{\n",
              "    x.observe(notebookContainer, {childList: true});\n",
              "}}\n",
              "\n",
              "// Listen for the clearing of the current output cell\n",
              "var outputEl = gd.closest('.output');\n",
              "if (outputEl) {{\n",
              "    x.observe(outputEl, {childList: true});\n",
              "}}\n",
              "\n",
              "                        })                };                });            </script>        </div>"
            ]
          },
          "metadata": {}
        }
      ],
      "source": [
        "# DATA EXPLORATION\n",
        "class_0 = data.loc[data['Class'] == 0][\"Time\"]\n",
        "class_1 = data.loc[data['Class'] == 1][\"Time\"]\n",
        "\n",
        "hist_data = [class_0, class_1]\n",
        "group_labels = ['Not Fraud', 'Fraud']\n",
        "\n",
        "fig = ff.create_distplot(hist_data, group_labels, show_hist=False, show_rug=False)\n",
        "fig['layout'].update(title='Credit Card Transactions Time Density Plot', xaxis=dict(title='Time [s]'))\n",
        "iplot(fig, filename='dist_only')"
      ]
    },
    {
      "cell_type": "code",
      "execution_count": null,
      "id": "relative-richardson",
      "metadata": {
        "execution": {
          "iopub.execute_input": "2021-04-01T11:04:30.668944Z",
          "iopub.status.busy": "2021-04-01T11:04:30.668010Z",
          "iopub.status.idle": "2021-04-01T11:04:31.317004Z",
          "shell.execute_reply": "2021-04-01T11:04:31.317495Z"
        },
        "papermill": {
          "duration": 0.74566,
          "end_time": "2021-04-01T11:04:31.317707",
          "exception": false,
          "start_time": "2021-04-01T11:04:30.572047",
          "status": "completed"
        },
        "tags": [],
        "colab": {
          "base_uri": "https://localhost:8080/",
          "height": 204
        },
        "id": "relative-richardson",
        "outputId": "e55bc50f-4d72-44f2-d2d4-15fed3e2e248"
      },
      "outputs": [
        {
          "output_type": "execute_result",
          "data": {
            "text/plain": [
              "   Hour  Class   Min      Max  Transactions        Sum        Mean   Median  \\\n",
              "0   0.0      0   0.0  7712.43          3961  256572.87   64.774772   12.990   \n",
              "1   0.0      1   0.0   529.00             2     529.00  264.500000  264.500   \n",
              "2   1.0      0   0.0  1769.69          2215  145806.76   65.826980   22.820   \n",
              "3   1.0      1  59.0   239.93             2     298.93  149.465000  149.465   \n",
              "4   2.0      0   0.0  4002.88          1555  106989.39   68.803466   17.900   \n",
              "\n",
              "             Var  \n",
              "0   45615.821201  \n",
              "1  139920.500000  \n",
              "2   20053.615770  \n",
              "3   16367.832450  \n",
              "4   45355.430437  "
            ],
            "text/html": [
              "\n",
              "  <div id=\"df-bf2a6e36-884a-41f8-8950-b165aacf40fa\" class=\"colab-df-container\">\n",
              "    <div>\n",
              "<style scoped>\n",
              "    .dataframe tbody tr th:only-of-type {\n",
              "        vertical-align: middle;\n",
              "    }\n",
              "\n",
              "    .dataframe tbody tr th {\n",
              "        vertical-align: top;\n",
              "    }\n",
              "\n",
              "    .dataframe thead th {\n",
              "        text-align: right;\n",
              "    }\n",
              "</style>\n",
              "<table border=\"1\" class=\"dataframe\">\n",
              "  <thead>\n",
              "    <tr style=\"text-align: right;\">\n",
              "      <th></th>\n",
              "      <th>Hour</th>\n",
              "      <th>Class</th>\n",
              "      <th>Min</th>\n",
              "      <th>Max</th>\n",
              "      <th>Transactions</th>\n",
              "      <th>Sum</th>\n",
              "      <th>Mean</th>\n",
              "      <th>Median</th>\n",
              "      <th>Var</th>\n",
              "    </tr>\n",
              "  </thead>\n",
              "  <tbody>\n",
              "    <tr>\n",
              "      <th>0</th>\n",
              "      <td>0.0</td>\n",
              "      <td>0</td>\n",
              "      <td>0.0</td>\n",
              "      <td>7712.43</td>\n",
              "      <td>3961</td>\n",
              "      <td>256572.87</td>\n",
              "      <td>64.774772</td>\n",
              "      <td>12.990</td>\n",
              "      <td>45615.821201</td>\n",
              "    </tr>\n",
              "    <tr>\n",
              "      <th>1</th>\n",
              "      <td>0.0</td>\n",
              "      <td>1</td>\n",
              "      <td>0.0</td>\n",
              "      <td>529.00</td>\n",
              "      <td>2</td>\n",
              "      <td>529.00</td>\n",
              "      <td>264.500000</td>\n",
              "      <td>264.500</td>\n",
              "      <td>139920.500000</td>\n",
              "    </tr>\n",
              "    <tr>\n",
              "      <th>2</th>\n",
              "      <td>1.0</td>\n",
              "      <td>0</td>\n",
              "      <td>0.0</td>\n",
              "      <td>1769.69</td>\n",
              "      <td>2215</td>\n",
              "      <td>145806.76</td>\n",
              "      <td>65.826980</td>\n",
              "      <td>22.820</td>\n",
              "      <td>20053.615770</td>\n",
              "    </tr>\n",
              "    <tr>\n",
              "      <th>3</th>\n",
              "      <td>1.0</td>\n",
              "      <td>1</td>\n",
              "      <td>59.0</td>\n",
              "      <td>239.93</td>\n",
              "      <td>2</td>\n",
              "      <td>298.93</td>\n",
              "      <td>149.465000</td>\n",
              "      <td>149.465</td>\n",
              "      <td>16367.832450</td>\n",
              "    </tr>\n",
              "    <tr>\n",
              "      <th>4</th>\n",
              "      <td>2.0</td>\n",
              "      <td>0</td>\n",
              "      <td>0.0</td>\n",
              "      <td>4002.88</td>\n",
              "      <td>1555</td>\n",
              "      <td>106989.39</td>\n",
              "      <td>68.803466</td>\n",
              "      <td>17.900</td>\n",
              "      <td>45355.430437</td>\n",
              "    </tr>\n",
              "  </tbody>\n",
              "</table>\n",
              "</div>\n",
              "    <div class=\"colab-df-buttons\">\n",
              "\n",
              "  <div class=\"colab-df-container\">\n",
              "    <button class=\"colab-df-convert\" onclick=\"convertToInteractive('df-bf2a6e36-884a-41f8-8950-b165aacf40fa')\"\n",
              "            title=\"Convert this dataframe to an interactive table.\"\n",
              "            style=\"display:none;\">\n",
              "\n",
              "  <svg xmlns=\"http://www.w3.org/2000/svg\" height=\"24px\" viewBox=\"0 -960 960 960\">\n",
              "    <path d=\"M120-120v-720h720v720H120Zm60-500h600v-160H180v160Zm220 220h160v-160H400v160Zm0 220h160v-160H400v160ZM180-400h160v-160H180v160Zm440 0h160v-160H620v160ZM180-180h160v-160H180v160Zm440 0h160v-160H620v160Z\"/>\n",
              "  </svg>\n",
              "    </button>\n",
              "\n",
              "  <style>\n",
              "    .colab-df-container {\n",
              "      display:flex;\n",
              "      gap: 12px;\n",
              "    }\n",
              "\n",
              "    .colab-df-convert {\n",
              "      background-color: #E8F0FE;\n",
              "      border: none;\n",
              "      border-radius: 50%;\n",
              "      cursor: pointer;\n",
              "      display: none;\n",
              "      fill: #1967D2;\n",
              "      height: 32px;\n",
              "      padding: 0 0 0 0;\n",
              "      width: 32px;\n",
              "    }\n",
              "\n",
              "    .colab-df-convert:hover {\n",
              "      background-color: #E2EBFA;\n",
              "      box-shadow: 0px 1px 2px rgba(60, 64, 67, 0.3), 0px 1px 3px 1px rgba(60, 64, 67, 0.15);\n",
              "      fill: #174EA6;\n",
              "    }\n",
              "\n",
              "    .colab-df-buttons div {\n",
              "      margin-bottom: 4px;\n",
              "    }\n",
              "\n",
              "    [theme=dark] .colab-df-convert {\n",
              "      background-color: #3B4455;\n",
              "      fill: #D2E3FC;\n",
              "    }\n",
              "\n",
              "    [theme=dark] .colab-df-convert:hover {\n",
              "      background-color: #434B5C;\n",
              "      box-shadow: 0px 1px 3px 1px rgba(0, 0, 0, 0.15);\n",
              "      filter: drop-shadow(0px 1px 2px rgba(0, 0, 0, 0.3));\n",
              "      fill: #FFFFFF;\n",
              "    }\n",
              "  </style>\n",
              "\n",
              "    <script>\n",
              "      const buttonEl =\n",
              "        document.querySelector('#df-bf2a6e36-884a-41f8-8950-b165aacf40fa button.colab-df-convert');\n",
              "      buttonEl.style.display =\n",
              "        google.colab.kernel.accessAllowed ? 'block' : 'none';\n",
              "\n",
              "      async function convertToInteractive(key) {\n",
              "        const element = document.querySelector('#df-bf2a6e36-884a-41f8-8950-b165aacf40fa');\n",
              "        const dataTable =\n",
              "          await google.colab.kernel.invokeFunction('convertToInteractive',\n",
              "                                                    [key], {});\n",
              "        if (!dataTable) return;\n",
              "\n",
              "        const docLinkHtml = 'Like what you see? Visit the ' +\n",
              "          '<a target=\"_blank\" href=https://colab.research.google.com/notebooks/data_table.ipynb>data table notebook</a>'\n",
              "          + ' to learn more about interactive tables.';\n",
              "        element.innerHTML = '';\n",
              "        dataTable['output_type'] = 'display_data';\n",
              "        await google.colab.output.renderOutput(dataTable, element);\n",
              "        const docLink = document.createElement('div');\n",
              "        docLink.innerHTML = docLinkHtml;\n",
              "        element.appendChild(docLink);\n",
              "      }\n",
              "    </script>\n",
              "  </div>\n",
              "\n",
              "\n",
              "<div id=\"df-5abb7057-a431-4442-80ff-6494a8ad9bad\">\n",
              "  <button class=\"colab-df-quickchart\" onclick=\"quickchart('df-5abb7057-a431-4442-80ff-6494a8ad9bad')\"\n",
              "            title=\"Suggest charts\"\n",
              "            style=\"display:none;\">\n",
              "\n",
              "<svg xmlns=\"http://www.w3.org/2000/svg\" height=\"24px\"viewBox=\"0 0 24 24\"\n",
              "     width=\"24px\">\n",
              "    <g>\n",
              "        <path d=\"M19 3H5c-1.1 0-2 .9-2 2v14c0 1.1.9 2 2 2h14c1.1 0 2-.9 2-2V5c0-1.1-.9-2-2-2zM9 17H7v-7h2v7zm4 0h-2V7h2v10zm4 0h-2v-4h2v4z\"/>\n",
              "    </g>\n",
              "</svg>\n",
              "  </button>\n",
              "\n",
              "<style>\n",
              "  .colab-df-quickchart {\n",
              "      --bg-color: #E8F0FE;\n",
              "      --fill-color: #1967D2;\n",
              "      --hover-bg-color: #E2EBFA;\n",
              "      --hover-fill-color: #174EA6;\n",
              "      --disabled-fill-color: #AAA;\n",
              "      --disabled-bg-color: #DDD;\n",
              "  }\n",
              "\n",
              "  [theme=dark] .colab-df-quickchart {\n",
              "      --bg-color: #3B4455;\n",
              "      --fill-color: #D2E3FC;\n",
              "      --hover-bg-color: #434B5C;\n",
              "      --hover-fill-color: #FFFFFF;\n",
              "      --disabled-bg-color: #3B4455;\n",
              "      --disabled-fill-color: #666;\n",
              "  }\n",
              "\n",
              "  .colab-df-quickchart {\n",
              "    background-color: var(--bg-color);\n",
              "    border: none;\n",
              "    border-radius: 50%;\n",
              "    cursor: pointer;\n",
              "    display: none;\n",
              "    fill: var(--fill-color);\n",
              "    height: 32px;\n",
              "    padding: 0;\n",
              "    width: 32px;\n",
              "  }\n",
              "\n",
              "  .colab-df-quickchart:hover {\n",
              "    background-color: var(--hover-bg-color);\n",
              "    box-shadow: 0 1px 2px rgba(60, 64, 67, 0.3), 0 1px 3px 1px rgba(60, 64, 67, 0.15);\n",
              "    fill: var(--button-hover-fill-color);\n",
              "  }\n",
              "\n",
              "  .colab-df-quickchart-complete:disabled,\n",
              "  .colab-df-quickchart-complete:disabled:hover {\n",
              "    background-color: var(--disabled-bg-color);\n",
              "    fill: var(--disabled-fill-color);\n",
              "    box-shadow: none;\n",
              "  }\n",
              "\n",
              "  .colab-df-spinner {\n",
              "    border: 2px solid var(--fill-color);\n",
              "    border-color: transparent;\n",
              "    border-bottom-color: var(--fill-color);\n",
              "    animation:\n",
              "      spin 1s steps(1) infinite;\n",
              "  }\n",
              "\n",
              "  @keyframes spin {\n",
              "    0% {\n",
              "      border-color: transparent;\n",
              "      border-bottom-color: var(--fill-color);\n",
              "      border-left-color: var(--fill-color);\n",
              "    }\n",
              "    20% {\n",
              "      border-color: transparent;\n",
              "      border-left-color: var(--fill-color);\n",
              "      border-top-color: var(--fill-color);\n",
              "    }\n",
              "    30% {\n",
              "      border-color: transparent;\n",
              "      border-left-color: var(--fill-color);\n",
              "      border-top-color: var(--fill-color);\n",
              "      border-right-color: var(--fill-color);\n",
              "    }\n",
              "    40% {\n",
              "      border-color: transparent;\n",
              "      border-right-color: var(--fill-color);\n",
              "      border-top-color: var(--fill-color);\n",
              "    }\n",
              "    60% {\n",
              "      border-color: transparent;\n",
              "      border-right-color: var(--fill-color);\n",
              "    }\n",
              "    80% {\n",
              "      border-color: transparent;\n",
              "      border-right-color: var(--fill-color);\n",
              "      border-bottom-color: var(--fill-color);\n",
              "    }\n",
              "    90% {\n",
              "      border-color: transparent;\n",
              "      border-bottom-color: var(--fill-color);\n",
              "    }\n",
              "  }\n",
              "</style>\n",
              "\n",
              "  <script>\n",
              "    async function quickchart(key) {\n",
              "      const quickchartButtonEl =\n",
              "        document.querySelector('#' + key + ' button');\n",
              "      quickchartButtonEl.disabled = true;  // To prevent multiple clicks.\n",
              "      quickchartButtonEl.classList.add('colab-df-spinner');\n",
              "      try {\n",
              "        const charts = await google.colab.kernel.invokeFunction(\n",
              "            'suggestCharts', [key], {});\n",
              "      } catch (error) {\n",
              "        console.error('Error during call to suggestCharts:', error);\n",
              "      }\n",
              "      quickchartButtonEl.classList.remove('colab-df-spinner');\n",
              "      quickchartButtonEl.classList.add('colab-df-quickchart-complete');\n",
              "    }\n",
              "    (() => {\n",
              "      let quickchartButtonEl =\n",
              "        document.querySelector('#df-5abb7057-a431-4442-80ff-6494a8ad9bad button');\n",
              "      quickchartButtonEl.style.display =\n",
              "        google.colab.kernel.accessAllowed ? 'block' : 'none';\n",
              "    })();\n",
              "  </script>\n",
              "</div>\n",
              "\n",
              "    </div>\n",
              "  </div>\n"
            ],
            "application/vnd.google.colaboratory.intrinsic+json": {
              "type": "dataframe",
              "variable_name": "df",
              "summary": "{\n  \"name\": \"df\",\n  \"rows\": 94,\n  \"fields\": [\n    {\n      \"column\": \"Hour\",\n      \"properties\": {\n        \"dtype\": \"number\",\n        \"std\": 14.041299348500088,\n        \"min\": 0.0,\n        \"max\": 47.0,\n        \"num_unique_values\": 48,\n        \"samples\": [\n          27.0,\n          40.0,\n          26.0\n        ],\n        \"semantic_type\": \"\",\n        \"description\": \"\"\n      }\n    },\n    {\n      \"column\": \"Class\",\n      \"properties\": {\n        \"dtype\": \"number\",\n        \"std\": 0,\n        \"min\": 0,\n        \"max\": 1,\n        \"num_unique_values\": 2,\n        \"samples\": [\n          1,\n          0\n        ],\n        \"semantic_type\": \"\",\n        \"description\": \"\"\n      }\n    },\n    {\n      \"column\": \"Min\",\n      \"properties\": {\n        \"dtype\": \"number\",\n        \"std\": 16.21290162461529,\n        \"min\": 0.0,\n        \"max\": 144.62,\n        \"num_unique_values\": 15,\n        \"samples\": [\n          0.2,\n          17.06\n        ],\n        \"semantic_type\": \"\",\n        \"description\": \"\"\n      }\n    },\n    {\n      \"column\": \"Max\",\n      \"properties\": {\n        \"dtype\": \"number\",\n        \"std\": 4609.849771732836,\n        \"min\": 7.57,\n        \"max\": 25691.16,\n        \"num_unique_values\": 94,\n        \"samples\": [\n          4642.2,\n          12910.93\n        ],\n        \"semantic_type\": \"\",\n        \"description\": \"\"\n      }\n    },\n    {\n      \"column\": \"Transactions\",\n      \"properties\": {\n        \"dtype\": \"number\",\n        \"std\": 3604,\n        \"min\": 1,\n        \"max\": 9881,\n        \"num_unique_values\": 68,\n        \"samples\": [\n          1110,\n          5\n        ],\n        \"semantic_type\": \"\",\n        \"description\": \"\"\n      }\n    },\n    {\n      \"column\": \"Sum\",\n      \"properties\": {\n        \"dtype\": \"number\",\n        \"std\": 342170.47554630047,\n        \"min\": 8.77,\n        \"max\": 961494.92,\n        \"num_unique_values\": 94,\n        \"samples\": [\n          686032.78,\n          961494.92\n        ],\n        \"semantic_type\": \"\",\n        \"description\": \"\"\n      }\n    },\n    {\n      \"column\": \"Mean\",\n      \"properties\": {\n        \"dtype\": \"number\",\n        \"std\": 72.02413771243448,\n        \"min\": 2.9233333333333333,\n        \"max\": 397.70625,\n        \"num_unique_values\": 94,\n        \"samples\": [\n          76.46375167186804,\n          113.46411611989616\n        ],\n        \"semantic_type\": \"\",\n        \"description\": \"\"\n      }\n    },\n    {\n      \"column\": \"Median\",\n      \"properties\": {\n        \"dtype\": \"number\",\n        \"std\": 57.56943981762479,\n        \"min\": 0.68,\n        \"max\": 319.36,\n        \"num_unique_values\": 80,\n        \"samples\": [\n          17.53,\n          12.99\n        ],\n        \"semantic_type\": \"\",\n        \"description\": \"\"\n      }\n    },\n    {\n      \"column\": \"Var\",\n      \"properties\": {\n        \"dtype\": \"number\",\n        \"std\": 87044.81767559267,\n        \"min\": 16.353633333333335,\n        \"max\": 739515.3117466666,\n        \"num_unique_values\": 93,\n        \"samples\": [\n          43162.36646595897,\n          98288.25348479065\n        ],\n        \"semantic_type\": \"\",\n        \"description\": \"\"\n      }\n    }\n  ]\n}"
            }
          },
          "metadata": {},
          "execution_count": 18
        }
      ],
      "source": [
        "data['Hour'] = data['Time'].apply(lambda x: np.floor(x / 3600))\n",
        "\n",
        "tmp = data.groupby(['Hour', 'Class'])['Amount'].aggregate(['min', 'max', 'count', 'sum', 'mean', 'median', 'var']).reset_index()\n",
        "df = pd.DataFrame(tmp)\n",
        "df.columns = ['Hour', 'Class', 'Min', 'Max', 'Transactions', 'Sum', 'Mean', 'Median', 'Var']\n",
        "df.head()"
      ]
    },
    {
      "cell_type": "code",
      "execution_count": null,
      "id": "breathing-marking",
      "metadata": {
        "execution": {
          "iopub.execute_input": "2021-04-01T11:04:31.531715Z",
          "iopub.status.busy": "2021-04-01T11:04:31.530989Z",
          "iopub.status.idle": "2021-04-01T11:04:31.840747Z",
          "shell.execute_reply": "2021-04-01T11:04:31.840185Z"
        },
        "papermill": {
          "duration": 0.427789,
          "end_time": "2021-04-01T11:04:31.840903",
          "exception": false,
          "start_time": "2021-04-01T11:04:31.413114",
          "status": "completed"
        },
        "tags": [],
        "colab": {
          "base_uri": "https://localhost:8080/",
          "height": 478
        },
        "id": "breathing-marking",
        "outputId": "b941212b-feff-4438-a8cd-08ca47328df2"
      },
      "outputs": [
        {
          "output_type": "display_data",
          "data": {
            "text/plain": [
              "<Figure size 1800x600 with 2 Axes>"
            ],
            "image/png": "[encoded data removed]"
          },
          "metadata": {}
        }
      ],
      "source": [
        " fig, (ax1, ax2) = plt.subplots(ncols=2, figsize=(18,6))\n",
        "s = sns.lineplot(ax = ax1, x=\"Hour\", y=\"Sum\", data=df.loc[df.Class==0])\n",
        "s = sns.lineplot(ax = ax2, x=\"Hour\", y=\"Sum\", data=df.loc[df.Class==1], color=\"Purple\")\n",
        "plt.suptitle(\"Total Amount\")\n",
        "plt.show();"
      ]
    },
    {
      "cell_type": "code",
      "execution_count": null,
      "id": "resident-exhaust",
      "metadata": {
        "execution": {
          "iopub.execute_input": "2021-04-01T11:04:32.096165Z",
          "iopub.status.busy": "2021-04-01T11:04:32.085897Z",
          "iopub.status.idle": "2021-04-01T11:04:32.346701Z",
          "shell.execute_reply": "2021-04-01T11:04:32.346127Z"
        },
        "papermill": {
          "duration": 0.408714,
          "end_time": "2021-04-01T11:04:32.346843",
          "exception": false,
          "start_time": "2021-04-01T11:04:31.938129",
          "status": "completed"
        },
        "tags": [],
        "colab": {
          "base_uri": "https://localhost:8080/",
          "height": 471
        },
        "id": "resident-exhaust",
        "outputId": "284a419e-edba-41cd-e160-1855967171d5"
      },
      "outputs": [
        {
          "output_type": "display_data",
          "data": {
            "text/plain": [
              "<Figure size 1800x600 with 2 Axes>"
            ],
            "image/png": "[encoded data removed]"
          },
          "metadata": {}
        }
      ],
      "source": [
        "fig, (ax1, ax2) = plt.subplots(ncols=2, figsize=(18,6))\n",
        "s = sns.lineplot(ax = ax1, x=\"Hour\", y=\"Transactions\", data=df.loc[df.Class==0])\n",
        "s = sns.lineplot(ax = ax2, x=\"Hour\", y=\"Transactions\", data=df.loc[df.Class==1], color=\"Purple\")\n",
        "plt.suptitle(\"Total Number of Transactions\")\n",
        "plt.show();"
      ]
    },
    {
      "cell_type": "code",
      "execution_count": null,
      "id": "consecutive-bonus",
      "metadata": {
        "_uuid": "2a797b1b01b66a3171197cbfc1a1a37bf36b0d57",
        "execution": {
          "iopub.execute_input": "2021-04-01T11:04:35.689668Z",
          "iopub.status.busy": "2021-04-01T11:04:35.689015Z",
          "iopub.status.idle": "2021-04-01T11:04:35.783641Z",
          "shell.execute_reply": "2021-04-01T11:04:35.782900Z"
        },
        "papermill": {
          "duration": 0.207086,
          "end_time": "2021-04-01T11:04:35.783784",
          "exception": false,
          "start_time": "2021-04-01T11:04:35.576698",
          "status": "completed"
        },
        "tags": [],
        "colab": {
          "base_uri": "https://localhost:8080/"
        },
        "id": "consecutive-bonus",
        "outputId": "30acf75e-f5d4-4f6a-f9c8-3823bf6667be"
      },
      "outputs": [
        {
          "output_type": "execute_result",
          "data": {
            "text/plain": [
              "count    284315.000000\n",
              "mean         88.291022\n",
              "std         250.105092\n",
              "min           0.000000\n",
              "25%           5.650000\n",
              "50%          22.000000\n",
              "75%          77.050000\n",
              "max       25691.160000\n",
              "Name: Amount, dtype: float64"
            ]
          },
          "metadata": {},
          "execution_count": 21
        }
      ],
      "source": [
        "# TRANSACTIONS AMOUNT\n",
        "tmp = data[['Amount','Class']].copy()\n",
        "Genuine = tmp.loc[tmp['Class'] == 0]['Amount']\n",
        "Fraudulent= tmp.loc[tmp['Class'] == 1]['Amount']\n",
        "Genuine.describe()"
      ]
    },
    {
      "cell_type": "code",
      "execution_count": null,
      "id": "younger-saver",
      "metadata": {
        "_uuid": "90705320eb4f147ec29f13620e010501217b981d",
        "execution": {
          "iopub.execute_input": "2021-04-01T11:04:36.009665Z",
          "iopub.status.busy": "2021-04-01T11:04:36.008992Z",
          "iopub.status.idle": "2021-04-01T11:04:36.012636Z",
          "shell.execute_reply": "2021-04-01T11:04:36.011997Z"
        },
        "papermill": {
          "duration": 0.120297,
          "end_time": "2021-04-01T11:04:36.012775",
          "exception": false,
          "start_time": "2021-04-01T11:04:35.892478",
          "status": "completed"
        },
        "tags": [],
        "colab": {
          "base_uri": "https://localhost:8080/"
        },
        "id": "younger-saver",
        "outputId": "bff76a7a-7e57-44ac-d3eb-0c8bf270eaa4"
      },
      "outputs": [
        {
          "output_type": "execute_result",
          "data": {
            "text/plain": [
              "count     492.000000\n",
              "mean      122.211321\n",
              "std       256.683288\n",
              "min         0.000000\n",
              "25%         1.000000\n",
              "50%         9.250000\n",
              "75%       105.890000\n",
              "max      2125.870000\n",
              "Name: Amount, dtype: float64"
            ]
          },
          "metadata": {},
          "execution_count": 22
        }
      ],
      "source": [
        "Fraudulent.describe()"
      ]
    },
    {
      "cell_type": "code",
      "execution_count": null,
      "id": "legal-visiting",
      "metadata": {
        "_uuid": "29575f5187154024c911642bd329289199253a90",
        "execution": {
          "iopub.execute_input": "2021-04-01T11:04:36.452470Z",
          "iopub.status.busy": "2021-04-01T11:04:36.450820Z",
          "iopub.status.idle": "2021-04-01T11:04:36.505111Z",
          "shell.execute_reply": "2021-04-01T11:04:36.505619Z"
        },
        "papermill": {
          "duration": 0.171169,
          "end_time": "2021-04-01T11:04:36.505786",
          "exception": false,
          "start_time": "2021-04-01T11:04:36.334617",
          "status": "completed"
        },
        "tags": [],
        "colab": {
          "base_uri": "https://localhost:8080/",
          "height": 542
        },
        "id": "legal-visiting",
        "outputId": "528cdca1-2c58-43a6-b80b-c905b600bacd"
      },
      "outputs": [
        {
          "output_type": "display_data",
          "data": {
            "application/vnd.plotly.v1+json": {
              "data": [
                {
                  "marker": {
                    "color": "rgb(238,23,11)",
                    "line": {
                      "color": "Purple",
                      "width": 1
                    },
                    "opacity": 0.5
                  },
                  "mode": "markers",
                  "name": "Amount",
                  "text": [
                    0,
                    529,
                    239.93,
                    59,
                    1,
                    1,
                    1,
                    1,
                    1,
                    1,
                    1,
                    1,
                    1,
                    1,
                    1,
                    1,
                    1,
                    1,
                    1,
                    1,
                    1,
                    1.1,
                    1,
                    1,
                    1809.68,
                    1,
                    1,
                    1,
                    1,
                    1,
                    0,
                    30.39,
                    179.66,
                    1,
                    1,
                    1,
                    1,
                    1,
                    11.39,
                    3.79,
                    3.79,
                    3.93,
                    1,
                    766.36,
                    1218.89,
                    1,
                    188.78,
                    1,
                    1,
                    1,
                    1,
                    1,
                    1,
                    1,
                    1,
                    1,
                    3.12,
                    99.99,
                    99.99,
                    99.99,
                    3.76,
                    99.99,
                    99.99,
                    99.99,
                    99.99,
                    99.99,
                    99.99,
                    99.99,
                    99.99,
                    99.99,
                    99.99,
                    99.99,
                    99.99,
                    23.36,
                    99.99,
                    730.86,
                    99.99,
                    99.99,
                    99.99,
                    99.99,
                    99.99,
                    0.68,
                    0.68,
                    0.68,
                    30.3,
                    104.81,
                    0,
                    717.15,
                    19.02,
                    1.52,
                    18.96,
                    125.3,
                    19.02,
                    0.76,
                    60.6,
                    7.61,
                    1,
                    9.13,
                    4.56,
                    14.46,
                    111.7,
                    111.7,
                    12.31,
                    776.83,
                    1,
                    1,
                    1,
                    1,
                    0.76,
                    0.76,
                    112.33,
                    3.79,
                    340.11,
                    88.23,
                    5.3,
                    83.38,
                    11.38,
                    1.52,
                    88.23,
                    30.26,
                    459.07,
                    0,
                    118.3,
                    45.49,
                    173.07,
                    37.32,
                    59.68,
                    0.76,
                    9.99,
                    34.12,
                    273.01,
                    106.55,
                    364.19,
                    39.45,
                    53.95,
                    172.32,
                    802.52,
                    99.99,
                    139.9,
                    1,
                    1,
                    1,
                    1,
                    1,
                    648,
                    204.27,
                    88,
                    24.9,
                    1,
                    1,
                    1,
                    105.99,
                    1,
                    1,
                    1,
                    1,
                    0.76,
                    7.58,
                    0.76,
                    0.76,
                    208.58,
                    1,
                    19.73,
                    360,
                    99.99,
                    99.99,
                    99.99,
                    99.99,
                    99.99,
                    519.9,
                    0.76,
                    0.76,
                    1.18,
                    8,
                    0,
                    112.45,
                    261.87,
                    1.79,
                    1,
                    0.83,
                    0.83,
                    130.44,
                    311.91,
                    170.92,
                    153.46,
                    7.52,
                    1,
                    5,
                    0.01,
                    444.17,
                    1,
                    1,
                    1,
                    1.75,
                    5.09,
                    270,
                    113.92,
                    45.64,
                    1389.56,
                    18.98,
                    6.27,
                    319.2,
                    5.91,
                    454.82,
                    101.5,
                    19.04,
                    6.62,
                    180,
                    1,
                    1.1,
                    1402.16,
                    290.18,
                    294.9,
                    1,
                    0,
                    0,
                    720.38,
                    31.91,
                    1354.25,
                    98.01,
                    101.5,
                    7.53,
                    489.71,
                    549.06,
                    320,
                    1,
                    1,
                    1,
                    1,
                    1,
                    1,
                    19.59,
                    1,
                    227.3,
                    3.79,
                    318.11,
                    824.83,
                    0.76,
                    426.4,
                    238.9,
                    45.03,
                    16.48,
                    76.94,
                    311.28,
                    30.14,
                    29.95,
                    124.53,
                    99.85,
                    99.9,
                    219.8,
                    254.76,
                    1,
                    1,
                    1,
                    1,
                    129,
                    1,
                    1,
                    1,
                    106.9,
                    60,
                    0.2,
                    7.57,
                    1,
                    1,
                    0,
                    0,
                    512.25,
                    512.25,
                    12.31,
                    354.33,
                    2,
                    0,
                    0,
                    252.92,
                    252.92,
                    1,
                    240.77,
                    1,
                    310.42,
                    323.77,
                    451.27,
                    829.41,
                    1.18,
                    9.21,
                    6.99,
                    38.76,
                    52.69,
                    1,
                    1,
                    261.22,
                    18,
                    600.73,
                    1,
                    75.86,
                    8.54,
                    0.01,
                    44.9,
                    44.9,
                    316.06,
                    316.06,
                    209.65,
                    78,
                    78,
                    188.52,
                    188.52,
                    30.31,
                    30.31,
                    104.03,
                    104.03,
                    1,
                    1,
                    37.93,
                    97,
                    11.4,
                    45.48,
                    1,
                    1,
                    1,
                    1,
                    1,
                    33.76,
                    571.48,
                    1.63,
                    1.63,
                    18.96,
                    33.59,
                    1,
                    8.64,
                    9.82,
                    2.28,
                    1,
                    0.76,
                    1,
                    0.92,
                    2.28,
                    147.87,
                    0,
                    22.04,
                    0,
                    104,
                    2.28,
                    0.01,
                    1,
                    346.94,
                    7.59,
                    0,
                    0,
                    119.74,
                    2.27,
                    0,
                    186.13,
                    1,
                    0.76,
                    80.22,
                    635.1,
                    17.06,
                    65,
                    105.89,
                    105.89,
                    144.62,
                    2125.87,
                    11,
                    45.51,
                    40,
                    3.22,
                    0,
                    25,
                    67.9,
                    93.35,
                    1,
                    175.9,
                    720.8,
                    7.18,
                    4.87,
                    80.9,
                    0,
                    2,
                    1,
                    362.55,
                    276.17,
                    723.21,
                    480.72,
                    1,
                    1335,
                    0,
                    130.21,
                    1,
                    925.31,
                    0,
                    345,
                    108.51,
                    84.28,
                    39.45,
                    0.01,
                    727.91,
                    22.47,
                    8.3,
                    120.54,
                    0.69,
                    723.21,
                    0.77,
                    592.9,
                    195.66,
                    4.49,
                    0.76,
                    324.59,
                    320.01,
                    2,
                    144.8,
                    0,
                    1,
                    1,
                    8.9,
                    1,
                    667.55,
                    0,
                    1.18,
                    2.22,
                    0.77,
                    94.82,
                    8,
                    996.27,
                    0,
                    1.59,
                    1.59,
                    0,
                    0.76,
                    0.76,
                    122.68,
                    0,
                    1,
                    1.1,
                    2,
                    17.39,
                    50,
                    237.26,
                    1,
                    9.29,
                    10.7,
                    0.01,
                    57.73,
                    1,
                    1,
                    1,
                    1,
                    1,
                    2.47,
                    357.95,
                    247.86,
                    51.37,
                    0,
                    0.76,
                    1504.93,
                    1096.99,
                    35,
                    6.74,
                    0.77,
                    0.77,
                    0.77,
                    3.9,
                    3.14,
                    7.06,
                    94.82,
                    0.77,
                    0.77,
                    187.11,
                    7.59,
                    4.97,
                    0.77,
                    296,
                    45.51,
                    4.9,
                    156,
                    4.69,
                    0.77,
                    1,
                    0.77,
                    127.14,
                    0.38,
                    39.98,
                    12.31,
                    0,
                    39.9,
                    634.3,
                    19.95,
                    349.08,
                    390,
                    0.76,
                    77.89,
                    245,
                    42.53
                  ],
                  "x": [
                    406,
                    472,
                    4462,
                    6986,
                    7519,
                    7526,
                    7535,
                    7543,
                    7551,
                    7610,
                    7672,
                    7740,
                    7891,
                    8090,
                    8169,
                    8408,
                    8415,
                    8451,
                    8528,
                    8614,
                    8757,
                    8808,
                    8878,
                    8886,
                    9064,
                    11080,
                    11092,
                    11131,
                    11629,
                    11635,
                    12093,
                    12095,
                    12393,
                    12597,
                    13126,
                    13323,
                    14073,
                    14152,
                    15817,
                    17187,
                    17220,
                    17230,
                    17520,
                    17838,
                    18088,
                    18399,
                    18675,
                    18690,
                    19762,
                    20011,
                    20332,
                    20451,
                    20931,
                    21046,
                    21419,
                    21662,
                    25095,
                    25198,
                    25231,
                    25254,
                    25426,
                    26523,
                    26556,
                    26585,
                    26833,
                    26863,
                    26899,
                    26931,
                    26961,
                    27163,
                    27187,
                    27219,
                    27252,
                    27784,
                    28143,
                    28242,
                    28625,
                    28658,
                    28692,
                    28726,
                    28755,
                    29526,
                    29531,
                    29753,
                    29785,
                    30852,
                    32686,
                    32745,
                    34256,
                    34521,
                    34634,
                    34684,
                    34687,
                    35585,
                    35771,
                    35866,
                    35899,
                    35906,
                    35926,
                    35942,
                    35953,
                    36170,
                    37167,
                    39729,
                    40086,
                    40276,
                    40662,
                    40742,
                    40892,
                    40918,
                    40919,
                    41116,
                    41138,
                    41147,
                    41164,
                    41170,
                    41181,
                    41194,
                    41203,
                    41204,
                    41227,
                    41233,
                    41237,
                    41243,
                    41273,
                    41285,
                    41305,
                    41308,
                    41313,
                    41353,
                    41397,
                    41413,
                    41505,
                    41582,
                    41607,
                    41646,
                    41743,
                    41791,
                    41851,
                    41870,
                    41991,
                    42247,
                    42474,
                    42985,
                    42988,
                    43028,
                    43369,
                    43494,
                    44393,
                    44532,
                    45463,
                    45501,
                    45541,
                    46057,
                    46149,
                    46925,
                    47545,
                    47826,
                    47923,
                    47982,
                    48380,
                    48533,
                    48884,
                    49985,
                    50706,
                    50808,
                    51112,
                    51135,
                    51155,
                    52814,
                    52934,
                    53031,
                    53076,
                    53451,
                    53658,
                    53727,
                    53937,
                    54846,
                    55279,
                    55311,
                    55614,
                    55618,
                    55760,
                    56098,
                    56624,
                    56650,
                    56806,
                    56887,
                    57007,
                    57027,
                    57163,
                    58060,
                    58067,
                    58199,
                    58217,
                    58222,
                    58642,
                    58822,
                    59011,
                    59385,
                    59669,
                    59777,
                    59840,
                    60353,
                    61108,
                    61646,
                    62059,
                    62080,
                    62330,
                    62341,
                    62467,
                    63578,
                    64093,
                    64412,
                    64443,
                    64585,
                    64785,
                    65358,
                    65385,
                    65728,
                    65936,
                    66037,
                    67150,
                    67571,
                    67857,
                    68207,
                    68207,
                    68207,
                    68207,
                    68207,
                    68207,
                    68357,
                    69394,
                    70071,
                    70229,
                    70270,
                    70536,
                    70828,
                    71033,
                    72327,
                    72824,
                    73408,
                    74159,
                    74262,
                    75033,
                    75556,
                    75581,
                    75851,
                    75978,
                    76575,
                    76826,
                    76845,
                    76857,
                    76867,
                    76876,
                    77154,
                    77171,
                    77182,
                    77202,
                    77627,
                    78725,
                    79540,
                    81372,
                    82289,
                    83934,
                    84204,
                    84204,
                    84204,
                    84204,
                    84694,
                    84789,
                    85181,
                    85285,
                    85285,
                    85285,
                    85285,
                    85573,
                    85576,
                    85864,
                    85867,
                    86376,
                    87202,
                    87883,
                    88672,
                    88737,
                    90676,
                    91075,
                    91407,
                    91502,
                    91524,
                    91554,
                    92092,
                    92102,
                    93742,
                    93823,
                    93824,
                    93834,
                    93853,
                    93853,
                    93853,
                    93853,
                    93856,
                    93860,
                    93860,
                    93860,
                    93860,
                    93879,
                    93879,
                    93879,
                    93879,
                    93888,
                    93897,
                    93904,
                    93920,
                    93965,
                    94141,
                    94362,
                    94362,
                    94362,
                    94362,
                    94364,
                    94625,
                    94952,
                    95559,
                    95628,
                    96135,
                    96291,
                    96717,
                    97121,
                    97235,
                    100223,
                    100298,
                    100501,
                    100924,
                    101051,
                    101313,
                    101597,
                    102114,
                    102318,
                    102480,
                    102489,
                    102542,
                    102572,
                    102619,
                    102622,
                    102625,
                    102669,
                    102671,
                    102676,
                    103808,
                    109297,
                    109298,
                    110087,
                    110547,
                    110552,
                    110617,
                    115691,
                    116067,
                    118532,
                    118603,
                    121238,
                    122608,
                    123078,
                    123525,
                    125200,
                    125612,
                    125658,
                    126219,
                    128471,
                    128519,
                    128595,
                    128803,
                    129095,
                    129186,
                    129222,
                    129308,
                    129371,
                    129668,
                    129741,
                    129764,
                    129808,
                    131024,
                    132086,
                    132688,
                    133184,
                    133731,
                    133958,
                    134766,
                    134769,
                    134928,
                    135095,
                    135102,
                    135314,
                    137211,
                    138894,
                    138942,
                    139107,
                    139117,
                    139767,
                    139816,
                    139951,
                    140293,
                    140308,
                    141320,
                    141565,
                    141925,
                    142280,
                    142394,
                    142409,
                    142840,
                    142961,
                    143354,
                    143434,
                    143438,
                    143456,
                    144808,
                    144839,
                    146022,
                    146026,
                    146179,
                    146344,
                    146998,
                    147501,
                    148028,
                    148053,
                    148053,
                    148074,
                    148468,
                    148476,
                    148479,
                    149096,
                    149236,
                    149582,
                    149640,
                    149676,
                    150138,
                    150139,
                    150494,
                    150949,
                    151029,
                    151916,
                    151972,
                    152036,
                    152058,
                    152098,
                    152165,
                    152307,
                    152710,
                    152802,
                    153653,
                    153761,
                    153875,
                    154181,
                    154278,
                    154309,
                    154493,
                    154599,
                    154657,
                    155054,
                    155359,
                    155535,
                    155542,
                    155548,
                    155554,
                    155662,
                    155965,
                    156685,
                    156710,
                    157207,
                    157284,
                    158638,
                    159844,
                    160034,
                    160243,
                    160537,
                    160665,
                    160791,
                    160870,
                    160895,
                    161154,
                    163181,
                    165132,
                    165981,
                    166028,
                    166831,
                    166883,
                    167338,
                    169142,
                    169347,
                    169351,
                    169966,
                    170348
                  ],
                  "y": [
                    0,
                    529,
                    239.93,
                    59,
                    1,
                    1,
                    1,
                    1,
                    1,
                    1,
                    1,
                    1,
                    1,
                    1,
                    1,
                    1,
                    1,
                    1,
                    1,
                    1,
                    1,
                    1.1,
                    1,
                    1,
                    1809.68,
                    1,
                    1,
                    1,
                    1,
                    1,
                    0,
                    30.39,
                    179.66,
                    1,
                    1,
                    1,
                    1,
                    1,
                    11.39,
                    3.79,
                    3.79,
                    3.93,
                    1,
                    766.36,
                    1218.89,
                    1,
                    188.78,
                    1,
                    1,
                    1,
                    1,
                    1,
                    1,
                    1,
                    1,
                    1,
                    3.12,
                    99.99,
                    99.99,
                    99.99,
                    3.76,
                    99.99,
                    99.99,
                    99.99,
                    99.99,
                    99.99,
                    99.99,
                    99.99,
                    99.99,
                    99.99,
                    99.99,
                    99.99,
                    99.99,
                    23.36,
                    99.99,
                    730.86,
                    99.99,
                    99.99,
                    99.99,
                    99.99,
                    99.99,
                    0.68,
                    0.68,
                    0.68,
                    30.3,
                    104.81,
                    0,
                    717.15,
                    19.02,
                    1.52,
                    18.96,
                    125.3,
                    19.02,
                    0.76,
                    60.6,
                    7.61,
                    1,
                    9.13,
                    4.56,
                    14.46,
                    111.7,
                    111.7,
                    12.31,
                    776.83,
                    1,
                    1,
                    1,
                    1,
                    0.76,
                    0.76,
                    112.33,
                    3.79,
                    340.11,
                    88.23,
                    5.3,
                    83.38,
                    11.38,
                    1.52,
                    88.23,
                    30.26,
                    459.07,
                    0,
                    118.3,
                    45.49,
                    173.07,
                    37.32,
                    59.68,
                    0.76,
                    9.99,
                    34.12,
                    273.01,
                    106.55,
                    364.19,
                    39.45,
                    53.95,
                    172.32,
                    802.52,
                    99.99,
                    139.9,
                    1,
                    1,
                    1,
                    1,
                    1,
                    648,
                    204.27,
                    88,
                    24.9,
                    1,
                    1,
                    1,
                    105.99,
                    1,
                    1,
                    1,
                    1,
                    0.76,
                    7.58,
                    0.76,
                    0.76,
                    208.58,
                    1,
                    19.73,
                    360,
                    99.99,
                    99.99,
                    99.99,
                    99.99,
                    99.99,
                    519.9,
                    0.76,
                    0.76,
                    1.18,
                    8,
                    0,
                    112.45,
                    261.87,
                    1.79,
                    1,
                    0.83,
                    0.83,
                    130.44,
                    311.91,
                    170.92,
                    153.46,
                    7.52,
                    1,
                    5,
                    0.01,
                    444.17,
                    1,
                    1,
                    1,
                    1.75,
                    5.09,
                    270,
                    113.92,
                    45.64,
                    1389.56,
                    18.98,
                    6.27,
                    319.2,
                    5.91,
                    454.82,
                    101.5,
                    19.04,
                    6.62,
                    180,
                    1,
                    1.1,
                    1402.16,
                    290.18,
                    294.9,
                    1,
                    0,
                    0,
                    720.38,
                    31.91,
                    1354.25,
                    98.01,
                    101.5,
                    7.53,
                    489.71,
                    549.06,
                    320,
                    1,
                    1,
                    1,
                    1,
                    1,
                    1,
                    19.59,
                    1,
                    227.3,
                    3.79,
                    318.11,
                    824.83,
                    0.76,
                    426.4,
                    238.9,
                    45.03,
                    16.48,
                    76.94,
                    311.28,
                    30.14,
                    29.95,
                    124.53,
                    99.85,
                    99.9,
                    219.8,
                    254.76,
                    1,
                    1,
                    1,
                    1,
                    129,
                    1,
                    1,
                    1,
                    106.9,
                    60,
                    0.2,
                    7.57,
                    1,
                    1,
                    0,
                    0,
                    512.25,
                    512.25,
                    12.31,
                    354.33,
                    2,
                    0,
                    0,
                    252.92,
                    252.92,
                    1,
                    240.77,
                    1,
                    310.42,
                    323.77,
                    451.27,
                    829.41,
                    1.18,
                    9.21,
                    6.99,
                    38.76,
                    52.69,
                    1,
                    1,
                    261.22,
                    18,
                    600.73,
                    1,
                    75.86,
                    8.54,
                    0.01,
                    44.9,
                    44.9,
                    316.06,
                    316.06,
                    209.65,
                    78,
                    78,
                    188.52,
                    188.52,
                    30.31,
                    30.31,
                    104.03,
                    104.03,
                    1,
                    1,
                    37.93,
                    97,
                    11.4,
                    45.48,
                    1,
                    1,
                    1,
                    1,
                    1,
                    33.76,
                    571.48,
                    1.63,
                    1.63,
                    18.96,
                    33.59,
                    1,
                    8.64,
                    9.82,
                    2.28,
                    1,
                    0.76,
                    1,
                    0.92,
                    2.28,
                    147.87,
                    0,
                    22.04,
                    0,
                    104,
                    2.28,
                    0.01,
                    1,
                    346.94,
                    7.59,
                    0,
                    0,
                    119.74,
                    2.27,
                    0,
                    186.13,
                    1,
                    0.76,
                    80.22,
                    635.1,
                    17.06,
                    65,
                    105.89,
                    105.89,
                    144.62,
                    2125.87,
                    11,
                    45.51,
                    40,
                    3.22,
                    0,
                    25,
                    67.9,
                    93.35,
                    1,
                    175.9,
                    720.8,
                    7.18,
                    4.87,
                    80.9,
                    0,
                    2,
                    1,
                    362.55,
                    276.17,
                    723.21,
                    480.72,
                    1,
                    1335,
                    0,
                    130.21,
                    1,
                    925.31,
                    0,
                    345,
                    108.51,
                    84.28,
                    39.45,
                    0.01,
                    727.91,
                    22.47,
                    8.3,
                    120.54,
                    0.69,
                    723.21,
                    0.77,
                    592.9,
                    195.66,
                    4.49,
                    0.76,
                    324.59,
                    320.01,
                    2,
                    144.8,
                    0,
                    1,
                    1,
                    8.9,
                    1,
                    667.55,
                    0,
                    1.18,
                    2.22,
                    0.77,
                    94.82,
                    8,
                    996.27,
                    0,
                    1.59,
                    1.59,
                    0,
                    0.76,
                    0.76,
                    122.68,
                    0,
                    1,
                    1.1,
                    2,
                    17.39,
                    50,
                    237.26,
                    1,
                    9.29,
                    10.7,
                    0.01,
                    57.73,
                    1,
                    1,
                    1,
                    1,
                    1,
                    2.47,
                    357.95,
                    247.86,
                    51.37,
                    0,
                    0.76,
                    1504.93,
                    1096.99,
                    35,
                    6.74,
                    0.77,
                    0.77,
                    0.77,
                    3.9,
                    3.14,
                    7.06,
                    94.82,
                    0.77,
                    0.77,
                    187.11,
                    7.59,
                    4.97,
                    0.77,
                    296,
                    45.51,
                    4.9,
                    156,
                    4.69,
                    0.77,
                    1,
                    0.77,
                    127.14,
                    0.38,
                    39.98,
                    12.31,
                    0,
                    39.9,
                    634.3,
                    19.95,
                    349.08,
                    390,
                    0.76,
                    77.89,
                    245,
                    42.53
                  ],
                  "type": "scatter"
                }
              ],
              "layout": {
                "hovermode": "closest",
                "template": {
                  "data": {
                    "barpolar": [
                      {
                        "marker": {
                          "line": {
                            "color": "#E5ECF6",
                            "width": 0.5
                          },
                          "pattern": {
                            "fillmode": "overlay",
                            "size": 10,
                            "solidity": 0.2
                          }
                        },
                        "type": "barpolar"
                      }
                    ],
                    "bar": [
                      {
                        "error_x": {
                          "color": "#2a3f5f"
                        },
                        "error_y": {
                          "color": "#2a3f5f"
                        },
                        "marker": {
                          "line": {
                            "color": "#E5ECF6",
                            "width": 0.5
                          },
                          "pattern": {
                            "fillmode": "overlay",
                            "size": 10,
                            "solidity": 0.2
                          }
                        },
                        "type": "bar"
                      }
                    ],
                    "carpet": [
                      {
                        "aaxis": {
                          "endlinecolor": "#2a3f5f",
                          "gridcolor": "white",
                          "linecolor": "white",
                          "minorgridcolor": "white",
                          "startlinecolor": "#2a3f5f"
                        },
                        "baxis": {
                          "endlinecolor": "#2a3f5f",
                          "gridcolor": "white",
                          "linecolor": "white",
                          "minorgridcolor": "white",
                          "startlinecolor": "#2a3f5f"
                        },
                        "type": "carpet"
                      }
                    ],
                    "choropleth": [
                      {
                        "colorbar": {
                          "outlinewidth": 0,
                          "ticks": ""
                        },
                        "type": "choropleth"
                      }
                    ],
                    "contourcarpet": [
                      {
                        "colorbar": {
                          "outlinewidth": 0,
                          "ticks": ""
                        },
                        "type": "contourcarpet"
                      }
                    ],
                    "contour": [
                      {
                        "colorbar": {
                          "outlinewidth": 0,
                          "ticks": ""
                        },
                        "colorscale": [
                          [
                            0,
                            "#0d0887"
                          ],
                          [
                            0.1111111111111111,
                            "#46039f"
                          ],
                          [
                            0.2222222222222222,
                            "#7201a8"
                          ],
                          [
                            0.3333333333333333,
                            "#9c179e"
                          ],
                          [
                            0.4444444444444444,
                            "#bd3786"
                          ],
                          [
                            0.5555555555555556,
                            "#d8576b"
                          ],
                          [
                            0.6666666666666666,
                            "#ed7953"
                          ],
                          [
                            0.7777777777777778,
                            "#fb9f3a"
                          ],
                          [
                            0.8888888888888888,
                            "#fdca26"
                          ],
                          [
                            1,
                            "#f0f921"
                          ]
                        ],
                        "type": "contour"
                      }
                    ],
                    "heatmapgl": [
                      {
                        "colorbar": {
                          "outlinewidth": 0,
                          "ticks": ""
                        },
                        "colorscale": [
                          [
                            0,
                            "#0d0887"
                          ],
                          [
                            0.1111111111111111,
                            "#46039f"
                          ],
                          [
                            0.2222222222222222,
                            "#7201a8"
                          ],
                          [
                            0.3333333333333333,
                            "#9c179e"
                          ],
                          [
                            0.4444444444444444,
                            "#bd3786"
                          ],
                          [
                            0.5555555555555556,
                            "#d8576b"
                          ],
                          [
                            0.6666666666666666,
                            "#ed7953"
                          ],
                          [
                            0.7777777777777778,
                            "#fb9f3a"
                          ],
                          [
                            0.8888888888888888,
                            "#fdca26"
                          ],
                          [
                            1,
                            "#f0f921"
                          ]
                        ],
                        "type": "heatmapgl"
                      }
                    ],
                    "heatmap": [
                      {
                        "colorbar": {
                          "outlinewidth": 0,
                          "ticks": ""
                        },
                        "colorscale": [
                          [
                            0,
                            "#0d0887"
                          ],
                          [
                            0.1111111111111111,
                            "#46039f"
                          ],
                          [
                            0.2222222222222222,
                            "#7201a8"
                          ],
                          [
                            0.3333333333333333,
                            "#9c179e"
                          ],
                          [
                            0.4444444444444444,
                            "#bd3786"
                          ],
                          [
                            0.5555555555555556,
                            "#d8576b"
                          ],
                          [
                            0.6666666666666666,
                            "#ed7953"
                          ],
                          [
                            0.7777777777777778,
                            "#fb9f3a"
                          ],
                          [
                            0.8888888888888888,
                            "#fdca26"
                          ],
                          [
                            1,
                            "#f0f921"
                          ]
                        ],
                        "type": "heatmap"
                      }
                    ],
                    "histogram2dcontour": [
                      {
                        "colorbar": {
                          "outlinewidth": 0,
                          "ticks": ""
                        },
                        "colorscale": [
                          [
                            0,
                            "#0d0887"
                          ],
                          [
                            0.1111111111111111,
                            "#46039f"
                          ],
                          [
                            0.2222222222222222,
                            "#7201a8"
                          ],
                          [
                            0.3333333333333333,
                            "#9c179e"
                          ],
                          [
                            0.4444444444444444,
                            "#bd3786"
                          ],
                          [
                            0.5555555555555556,
                            "#d8576b"
                          ],
                          [
                            0.6666666666666666,
                            "#ed7953"
                          ],
                          [
                            0.7777777777777778,
                            "#fb9f3a"
                          ],
                          [
                            0.8888888888888888,
                            "#fdca26"
                          ],
                          [
                            1,
                            "#f0f921"
                          ]
                        ],
                        "type": "histogram2dcontour"
                      }
                    ],
                    "histogram2d": [
                      {
                        "colorbar": {
                          "outlinewidth": 0,
                          "ticks": ""
                        },
                        "colorscale": [
                          [
                            0,
                            "#0d0887"
                          ],
                          [
                            0.1111111111111111,
                            "#46039f"
                          ],
                          [
                            0.2222222222222222,
                            "#7201a8"
                          ],
                          [
                            0.3333333333333333,
                            "#9c179e"
                          ],
                          [
                            0.4444444444444444,
                            "#bd3786"
                          ],
                          [
                            0.5555555555555556,
                            "#d8576b"
                          ],
                          [
                            0.6666666666666666,
                            "#ed7953"
                          ],
                          [
                            0.7777777777777778,
                            "#fb9f3a"
                          ],
                          [
                            0.8888888888888888,
                            "#fdca26"
                          ],
                          [
                            1,
                            "#f0f921"
                          ]
                        ],
                        "type": "histogram2d"
                      }
                    ],
                    "histogram": [
                      {
                        "marker": {
                          "pattern": {
                            "fillmode": "overlay",
                            "size": 10,
                            "solidity": 0.2
                          }
                        },
                        "type": "histogram"
                      }
                    ],
                    "mesh3d": [
                      {
                        "colorbar": {
                          "outlinewidth": 0,
                          "ticks": ""
                        },
                        "type": "mesh3d"
                      }
                    ],
                    "parcoords": [
                      {
                        "line": {
                          "colorbar": {
                            "outlinewidth": 0,
                            "ticks": ""
                          }
                        },
                        "type": "parcoords"
                      }
                    ],
                    "pie": [
                      {
                        "automargin": true,
                        "type": "pie"
                      }
                    ],
                    "scatter3d": [
                      {
                        "line": {
                          "colorbar": {
                            "outlinewidth": 0,
                            "ticks": ""
                          }
                        },
                        "marker": {
                          "colorbar": {
                            "outlinewidth": 0,
                            "ticks": ""
                          }
                        },
                        "type": "scatter3d"
                      }
                    ],
                    "scattercarpet": [
                      {
                        "marker": {
                          "colorbar": {
                            "outlinewidth": 0,
                            "ticks": ""
                          }
                        },
                        "type": "scattercarpet"
                      }
                    ],
                    "scattergeo": [
                      {
                        "marker": {
                          "colorbar": {
                            "outlinewidth": 0,
                            "ticks": ""
                          }
                        },
                        "type": "scattergeo"
                      }
                    ],
                    "scattergl": [
                      {
                        "marker": {
                          "colorbar": {
                            "outlinewidth": 0,
                            "ticks": ""
                          }
                        },
                        "type": "scattergl"
                      }
                    ],
                    "scattermapbox": [
                      {
                        "marker": {
                          "colorbar": {
                            "outlinewidth": 0,
                            "ticks": ""
                          }
                        },
                        "type": "scattermapbox"
                      }
                    ],
                    "scatterpolargl": [
                      {
                        "marker": {
                          "colorbar": {
                            "outlinewidth": 0,
                            "ticks": ""
                          }
                        },
                        "type": "scatterpolargl"
                      }
                    ],
                    "scatterpolar": [
                      {
                        "marker": {
                          "colorbar": {
                            "outlinewidth": 0,
                            "ticks": ""
                          }
                        },
                        "type": "scatterpolar"
                      }
                    ],
                    "scatter": [
                      {
                        "fillpattern": {
                          "fillmode": "overlay",
                          "size": 10,
                          "solidity": 0.2
                        },
                        "type": "scatter"
                      }
                    ],
                    "scatterternary": [
                      {
                        "marker": {
                          "colorbar": {
                            "outlinewidth": 0,
                            "ticks": ""
                          }
                        },
                        "type": "scatterternary"
                      }
                    ],
                    "surface": [
                      {
                        "colorbar": {
                          "outlinewidth": 0,
                          "ticks": ""
                        },
                        "colorscale": [
                          [
                            0,
                            "#0d0887"
                          ],
                          [
                            0.1111111111111111,
                            "#46039f"
                          ],
                          [
                            0.2222222222222222,
                            "#7201a8"
                          ],
                          [
                            0.3333333333333333,
                            "#9c179e"
                          ],
                          [
                            0.4444444444444444,
                            "#bd3786"
                          ],
                          [
                            0.5555555555555556,
                            "#d8576b"
                          ],
                          [
                            0.6666666666666666,
                            "#ed7953"
                          ],
                          [
                            0.7777777777777778,
                            "#fb9f3a"
                          ],
                          [
                            0.8888888888888888,
                            "#fdca26"
                          ],
                          [
                            1,
                            "#f0f921"
                          ]
                        ],
                        "type": "surface"
                      }
                    ],
                    "table": [
                      {
                        "cells": {
                          "fill": {
                            "color": "#EBF0F8"
                          },
                          "line": {
                            "color": "white"
                          }
                        },
                        "header": {
                          "fill": {
                            "color": "#C8D4E3"
                          },
                          "line": {
                            "color": "white"
                          }
                        },
                        "type": "table"
                      }
                    ]
                  },
                  "layout": {
                    "annotationdefaults": {
                      "arrowcolor": "#2a3f5f",
                      "arrowhead": 0,
                      "arrowwidth": 1
                    },
                    "autotypenumbers": "strict",
                    "coloraxis": {
                      "colorbar": {
                        "outlinewidth": 0,
                        "ticks": ""
                      }
                    },
                    "colorscale": {
                      "diverging": [
                        [
                          0,
                          "#8e0152"
                        ],
                        [
                          0.1,
                          "#c51b7d"
                        ],
                        [
                          0.2,
                          "#de77ae"
                        ],
                        [
                          0.3,
                          "#f1b6da"
                        ],
                        [
                          0.4,
                          "#fde0ef"
                        ],
                        [
                          0.5,
                          "#f7f7f7"
                        ],
                        [
                          0.6,
                          "#e6f5d0"
                        ],
                        [
                          0.7,
                          "#b8e186"
                        ],
                        [
                          0.8,
                          "#7fbc41"
                        ],
                        [
                          0.9,
                          "#4d9221"
                        ],
                        [
                          1,
                          "#276419"
                        ]
                      ],
                      "sequential": [
                        [
                          0,
                          "#0d0887"
                        ],
                        [
                          0.1111111111111111,
                          "#46039f"
                        ],
                        [
                          0.2222222222222222,
                          "#7201a8"
                        ],
                        [
                          0.3333333333333333,
                          "#9c179e"
                        ],
                        [
                          0.4444444444444444,
                          "#bd3786"
                        ],
                        [
                          0.5555555555555556,
                          "#d8576b"
                        ],
                        [
                          0.6666666666666666,
                          "#ed7953"
                        ],
                        [
                          0.7777777777777778,
                          "#fb9f3a"
                        ],
                        [
                          0.8888888888888888,
                          "#fdca26"
                        ],
                        [
                          1,
                          "#f0f921"
                        ]
                      ],
                      "sequentialminus": [
                        [
                          0,
                          "#0d0887"
                        ],
                        [
                          0.1111111111111111,
                          "#46039f"
                        ],
                        [
                          0.2222222222222222,
                          "#7201a8"
                        ],
                        [
                          0.3333333333333333,
                          "#9c179e"
                        ],
                        [
                          0.4444444444444444,
                          "#bd3786"
                        ],
                        [
                          0.5555555555555556,
                          "#d8576b"
                        ],
                        [
                          0.6666666666666666,
                          "#ed7953"
                        ],
                        [
                          0.7777777777777778,
                          "#fb9f3a"
                        ],
                        [
                          0.8888888888888888,
                          "#fdca26"
                        ],
                        [
                          1,
                          "#f0f921"
                        ]
                      ]
                    },
                    "colorway": [
                      "#636efa",
                      "#EF553B",
                      "#00cc96",
                      "#ab63fa",
                      "#FFA15A",
                      "#19d3f3",
                      "#FF6692",
                      "#B6E880",
                      "#FF97FF",
                      "#FECB52"
                    ],
                    "font": {
                      "color": "#2a3f5f"
                    },
                    "geo": {
                      "bgcolor": "white",
                      "lakecolor": "white",
                      "landcolor": "#E5ECF6",
                      "showlakes": true,
                      "showland": true,
                      "subunitcolor": "white"
                    },
                    "hoverlabel": {
                      "align": "left"
                    },
                    "hovermode": "closest",
                    "mapbox": {
                      "style": "light"
                    },
                    "paper_bgcolor": "white",
                    "plot_bgcolor": "#E5ECF6",
                    "polar": {
                      "angularaxis": {
                        "gridcolor": "white",
                        "linecolor": "white",
                        "ticks": ""
                      },
                      "bgcolor": "#E5ECF6",
                      "radialaxis": {
                        "gridcolor": "white",
                        "linecolor": "white",
                        "ticks": ""
                      }
                    },
                    "scene": {
                      "xaxis": {
                        "backgroundcolor": "#E5ECF6",
                        "gridcolor": "white",
                        "gridwidth": 2,
                        "linecolor": "white",
                        "showbackground": true,
                        "ticks": "",
                        "zerolinecolor": "white"
                      },
                      "yaxis": {
                        "backgroundcolor": "#E5ECF6",
                        "gridcolor": "white",
                        "gridwidth": 2,
                        "linecolor": "white",
                        "showbackground": true,
                        "ticks": "",
                        "zerolinecolor": "white"
                      },
                      "zaxis": {
                        "backgroundcolor": "#E5ECF6",
                        "gridcolor": "white",
                        "gridwidth": 2,
                        "linecolor": "white",
                        "showbackground": true,
                        "ticks": "",
                        "zerolinecolor": "white"
                      }
                    },
                    "shapedefaults": {
                      "line": {
                        "color": "#2a3f5f"
                      }
                    },
                    "ternary": {
                      "aaxis": {
                        "gridcolor": "white",
                        "linecolor": "white",
                        "ticks": ""
                      },
                      "baxis": {
                        "gridcolor": "white",
                        "linecolor": "white",
                        "ticks": ""
                      },
                      "bgcolor": "#E5ECF6",
                      "caxis": {
                        "gridcolor": "white",
                        "linecolor": "white",
                        "ticks": ""
                      }
                    },
                    "title": {
                      "x": 0.05
                    },
                    "xaxis": {
                      "automargin": true,
                      "gridcolor": "white",
                      "linecolor": "white",
                      "ticks": "",
                      "title": {
                        "standoff": 15
                      },
                      "zerolinecolor": "white",
                      "zerolinewidth": 2
                    },
                    "yaxis": {
                      "automargin": true,
                      "gridcolor": "white",
                      "linecolor": "white",
                      "ticks": "",
                      "title": {
                        "standoff": 15
                      },
                      "zerolinecolor": "white",
                      "zerolinewidth": 2
                    }
                  }
                },
                "title": {
                  "text": "Amount of fraudulent transactions"
                },
                "xaxis": {
                  "showticklabels": true,
                  "title": {
                    "text": "Time [s]"
                  }
                },
                "yaxis": {
                  "title": {
                    "text": "Amount"
                  }
                }
              },
              "config": {
                "showLink": false,
                "linkText": "Export to plot.ly",
                "plotlyServerURL": "https://plot.ly"
              }
            },
            "text/html": [
              "<div>                            <div id=\"ce3f41bb-41d7-4963-9d46-10db4af65c78\" class=\"plotly-graph-div\" style=\"height:525px; width:100%;\"></div>            <script type=\"text/javascript\">                require([\"plotly\"], function(Plotly) {                    window.PLOTLYENV=window.PLOTLYENV || {};                                    if (document.getElementById(\"ce3f41bb-41d7-4963-9d46-10db4af65c78\")) {                    Plotly.newPlot(                        \"ce3f41bb-41d7-4963-9d46-10db4af65c78\",                        [{\"marker\":{\"color\":\"rgb(238,23,11)\",\"line\":{\"color\":\"Purple\",\"width\":1},\"opacity\":0.5},\"mode\":\"markers\",\"name\":\"Amount\",\"text\":[0.0,529.0,239.93,59.0,1.0,1.0,1.0,1.0,1.0,1.0,1.0,1.0,1.0,1.0,1.0,1.0,1.0,1.0,1.0,1.0,1.0,1.1,1.0,1.0,1809.68,1.0,1.0,1.0,1.0,1.0,0.0,30.39,179.66,1.0,1.0,1.0,1.0,1.0,11.39,3.79,3.79,3.93,1.0,766.36,1218.89,1.0,188.78,1.0,1.0,1.0,1.0,1.0,1.0,1.0,1.0,1.0,3.12,99.99,99.99,99.99,3.76,99.99,99.99,99.99,99.99,99.99,99.99,99.99,99.99,99.99,99.99,99.99,99.99,23.36,99.99,730.86,99.99,99.99,99.99,99.99,99.99,0.68,0.68,0.68,30.3,104.81,0.0,717.15,19.02,1.52,18.96,125.3,19.02,0.76,60.6,7.61,1.0,9.13,4.56,14.46,111.7,111.7,12.31,776.83,1.0,1.0,1.0,1.0,0.76,0.76,112.33,3.79,340.11,88.23,5.3,83.38,11.38,1.52,88.23,30.26,459.07,0.0,118.3,45.49,173.07,37.32,59.68,0.76,9.99,34.12,273.01,106.55,364.19,39.45,53.95,172.32,802.52,99.99,139.9,1.0,1.0,1.0,1.0,1.0,648.0,204.27,88.0,24.9,1.0,1.0,1.0,105.99,1.0,1.0,1.0,1.0,0.76,7.58,0.76,0.76,208.58,1.0,19.73,360.0,99.99,99.99,99.99,99.99,99.99,519.9,0.76,0.76,1.18,8.0,0.0,112.45,261.87,1.79,1.0,0.83,0.83,130.44,311.91,170.92,153.46,7.52,1.0,5.0,0.01,444.17,1.0,1.0,1.0,1.75,5.09,270.0,113.92,45.64,1389.56,18.98,6.27,319.2,5.91,454.82,101.5,19.04,6.62,180.0,1.0,1.1,1402.16,290.18,294.9,1.0,0.0,0.0,720.38,31.91,1354.25,98.01,101.5,7.53,489.71,549.06,320.0,1.0,1.0,1.0,1.0,1.0,1.0,19.59,1.0,227.3,3.79,318.11,824.83,0.76,426.4,238.9,45.03,16.48,76.94,311.28,30.14,29.95,124.53,99.85,99.9,219.8,254.76,1.0,1.0,1.0,1.0,129.0,1.0,1.0,1.0,106.9,60.0,0.2,7.57,1.0,1.0,0.0,0.0,512.25,512.25,12.31,354.33,2.0,0.0,0.0,252.92,252.92,1.0,240.77,1.0,310.42,323.77,451.27,829.41,1.18,9.21,6.99,38.76,52.69,1.0,1.0,261.22,18.0,600.73,1.0,75.86,8.54,0.01,44.9,44.9,316.06,316.06,209.65,78.0,78.0,188.52,188.52,30.31,30.31,104.03,104.03,1.0,1.0,37.93,97.0,11.4,45.48,1.0,1.0,1.0,1.0,1.0,33.76,571.48,1.63,1.63,18.96,33.59,1.0,8.64,9.82,2.28,1.0,0.76,1.0,0.92,2.28,147.87,0.0,22.04,0.0,104.0,2.28,0.01,1.0,346.94,7.59,0.0,0.0,119.74,2.27,0.0,186.13,1.0,0.76,80.22,635.1,17.06,65.0,105.89,105.89,144.62,2125.87,11.0,45.51,40.0,3.22,0.0,25.0,67.9,93.35,1.0,175.9,720.8,7.18,4.87,80.9,0.0,2.0,1.0,362.55,276.17,723.21,480.72,1.0,1335.0,0.0,130.21,1.0,925.31,0.0,345.0,108.51,84.28,39.45,0.01,727.91,22.47,8.3,120.54,0.69,723.21,0.77,592.9,195.66,4.49,0.76,324.59,320.01,2.0,144.8,0.0,1.0,1.0,8.9,1.0,667.55,0.0,1.18,2.22,0.77,94.82,8.0,996.27,0.0,1.59,1.59,0.0,0.76,0.76,122.68,0.0,1.0,1.1,2.0,17.39,50.0,237.26,1.0,9.29,10.7,0.01,57.73,1.0,1.0,1.0,1.0,1.0,2.47,357.95,247.86,51.37,0.0,0.76,1504.93,1096.99,35.0,6.74,0.77,0.77,0.77,3.9,3.14,7.06,94.82,0.77,0.77,187.11,7.59,4.97,0.77,296.0,45.51,4.9,156.0,4.69,0.77,1.0,0.77,127.14,0.38,39.98,12.31,0.0,39.9,634.3,19.95,349.08,390.0,0.76,77.89,245.0,42.53],\"x\":[406.0,472.0,4462.0,6986.0,7519.0,7526.0,7535.0,7543.0,7551.0,7610.0,7672.0,7740.0,7891.0,8090.0,8169.0,8408.0,8415.0,8451.0,8528.0,8614.0,8757.0,8808.0,8878.0,8886.0,9064.0,11080.0,11092.0,11131.0,11629.0,11635.0,12093.0,12095.0,12393.0,12597.0,13126.0,13323.0,14073.0,14152.0,15817.0,17187.0,17220.0,17230.0,17520.0,17838.0,18088.0,18399.0,18675.0,18690.0,19762.0,20011.0,20332.0,20451.0,20931.0,21046.0,21419.0,21662.0,25095.0,25198.0,25231.0,25254.0,25426.0,26523.0,26556.0,26585.0,26833.0,26863.0,26899.0,26931.0,26961.0,27163.0,27187.0,27219.0,27252.0,27784.0,28143.0,28242.0,28625.0,28658.0,28692.0,28726.0,28755.0,29526.0,29531.0,29753.0,29785.0,30852.0,32686.0,32745.0,34256.0,34521.0,34634.0,34684.0,34687.0,35585.0,35771.0,35866.0,35899.0,35906.0,35926.0,35942.0,35953.0,36170.0,37167.0,39729.0,40086.0,40276.0,40662.0,40742.0,40892.0,40918.0,40919.0,41116.0,41138.0,41147.0,41164.0,41170.0,41181.0,41194.0,41203.0,41204.0,41227.0,41233.0,41237.0,41243.0,41273.0,41285.0,41305.0,41308.0,41313.0,41353.0,41397.0,41413.0,41505.0,41582.0,41607.0,41646.0,41743.0,41791.0,41851.0,41870.0,41991.0,42247.0,42474.0,42985.0,42988.0,43028.0,43369.0,43494.0,44393.0,44532.0,45463.0,45501.0,45541.0,46057.0,46149.0,46925.0,47545.0,47826.0,47923.0,47982.0,48380.0,48533.0,48884.0,49985.0,50706.0,50808.0,51112.0,51135.0,51155.0,52814.0,52934.0,53031.0,53076.0,53451.0,53658.0,53727.0,53937.0,54846.0,55279.0,55311.0,55614.0,55618.0,55760.0,56098.0,56624.0,56650.0,56806.0,56887.0,57007.0,57027.0,57163.0,58060.0,58067.0,58199.0,58217.0,58222.0,58642.0,58822.0,59011.0,59385.0,59669.0,59777.0,59840.0,60353.0,61108.0,61646.0,62059.0,62080.0,62330.0,62341.0,62467.0,63578.0,64093.0,64412.0,64443.0,64585.0,64785.0,65358.0,65385.0,65728.0,65936.0,66037.0,67150.0,67571.0,67857.0,68207.0,68207.0,68207.0,68207.0,68207.0,68207.0,68357.0,69394.0,70071.0,70229.0,70270.0,70536.0,70828.0,71033.0,72327.0,72824.0,73408.0,74159.0,74262.0,75033.0,75556.0,75581.0,75851.0,75978.0,76575.0,76826.0,76845.0,76857.0,76867.0,76876.0,77154.0,77171.0,77182.0,77202.0,77627.0,78725.0,79540.0,81372.0,82289.0,83934.0,84204.0,84204.0,84204.0,84204.0,84694.0,84789.0,85181.0,85285.0,85285.0,85285.0,85285.0,85573.0,85576.0,85864.0,85867.0,86376.0,87202.0,87883.0,88672.0,88737.0,90676.0,91075.0,91407.0,91502.0,91524.0,91554.0,92092.0,92102.0,93742.0,93823.0,93824.0,93834.0,93853.0,93853.0,93853.0,93853.0,93856.0,93860.0,93860.0,93860.0,93860.0,93879.0,93879.0,93879.0,93879.0,93888.0,93897.0,93904.0,93920.0,93965.0,94141.0,94362.0,94362.0,94362.0,94362.0,94364.0,94625.0,94952.0,95559.0,95628.0,96135.0,96291.0,96717.0,97121.0,97235.0,100223.0,100298.0,100501.0,100924.0,101051.0,101313.0,101597.0,102114.0,102318.0,102480.0,102489.0,102542.0,102572.0,102619.0,102622.0,102625.0,102669.0,102671.0,102676.0,103808.0,109297.0,109298.0,110087.0,110547.0,110552.0,110617.0,115691.0,116067.0,118532.0,118603.0,121238.0,122608.0,123078.0,123525.0,125200.0,125612.0,125658.0,126219.0,128471.0,128519.0,128595.0,128803.0,129095.0,129186.0,129222.0,129308.0,129371.0,129668.0,129741.0,129764.0,129808.0,131024.0,132086.0,132688.0,133184.0,133731.0,133958.0,134766.0,134769.0,134928.0,135095.0,135102.0,135314.0,137211.0,138894.0,138942.0,139107.0,139117.0,139767.0,139816.0,139951.0,140293.0,140308.0,141320.0,141565.0,141925.0,142280.0,142394.0,142409.0,142840.0,142961.0,143354.0,143434.0,143438.0,143456.0,144808.0,144839.0,146022.0,146026.0,146179.0,146344.0,146998.0,147501.0,148028.0,148053.0,148053.0,148074.0,148468.0,148476.0,148479.0,149096.0,149236.0,149582.0,149640.0,149676.0,150138.0,150139.0,150494.0,150949.0,151029.0,151916.0,151972.0,152036.0,152058.0,152098.0,152165.0,152307.0,152710.0,152802.0,153653.0,153761.0,153875.0,154181.0,154278.0,154309.0,154493.0,154599.0,154657.0,155054.0,155359.0,155535.0,155542.0,155548.0,155554.0,155662.0,155965.0,156685.0,156710.0,157207.0,157284.0,158638.0,159844.0,160034.0,160243.0,160537.0,160665.0,160791.0,160870.0,160895.0,161154.0,163181.0,165132.0,165981.0,166028.0,166831.0,166883.0,167338.0,169142.0,169347.0,169351.0,169966.0,170348.0],\"y\":[0.0,529.0,239.93,59.0,1.0,1.0,1.0,1.0,1.0,1.0,1.0,1.0,1.0,1.0,1.0,1.0,1.0,1.0,1.0,1.0,1.0,1.1,1.0,1.0,1809.68,1.0,1.0,1.0,1.0,1.0,0.0,30.39,179.66,1.0,1.0,1.0,1.0,1.0,11.39,3.79,3.79,3.93,1.0,766.36,1218.89,1.0,188.78,1.0,1.0,1.0,1.0,1.0,1.0,1.0,1.0,1.0,3.12,99.99,99.99,99.99,3.76,99.99,99.99,99.99,99.99,99.99,99.99,99.99,99.99,99.99,99.99,99.99,99.99,23.36,99.99,730.86,99.99,99.99,99.99,99.99,99.99,0.68,0.68,0.68,30.3,104.81,0.0,717.15,19.02,1.52,18.96,125.3,19.02,0.76,60.6,7.61,1.0,9.13,4.56,14.46,111.7,111.7,12.31,776.83,1.0,1.0,1.0,1.0,0.76,0.76,112.33,3.79,340.11,88.23,5.3,83.38,11.38,1.52,88.23,30.26,459.07,0.0,118.3,45.49,173.07,37.32,59.68,0.76,9.99,34.12,273.01,106.55,364.19,39.45,53.95,172.32,802.52,99.99,139.9,1.0,1.0,1.0,1.0,1.0,648.0,204.27,88.0,24.9,1.0,1.0,1.0,105.99,1.0,1.0,1.0,1.0,0.76,7.58,0.76,0.76,208.58,1.0,19.73,360.0,99.99,99.99,99.99,99.99,99.99,519.9,0.76,0.76,1.18,8.0,0.0,112.45,261.87,1.79,1.0,0.83,0.83,130.44,311.91,170.92,153.46,7.52,1.0,5.0,0.01,444.17,1.0,1.0,1.0,1.75,5.09,270.0,113.92,45.64,1389.56,18.98,6.27,319.2,5.91,454.82,101.5,19.04,6.62,180.0,1.0,1.1,1402.16,290.18,294.9,1.0,0.0,0.0,720.38,31.91,1354.25,98.01,101.5,7.53,489.71,549.06,320.0,1.0,1.0,1.0,1.0,1.0,1.0,19.59,1.0,227.3,3.79,318.11,824.83,0.76,426.4,238.9,45.03,16.48,76.94,311.28,30.14,29.95,124.53,99.85,99.9,219.8,254.76,1.0,1.0,1.0,1.0,129.0,1.0,1.0,1.0,106.9,60.0,0.2,7.57,1.0,1.0,0.0,0.0,512.25,512.25,12.31,354.33,2.0,0.0,0.0,252.92,252.92,1.0,240.77,1.0,310.42,323.77,451.27,829.41,1.18,9.21,6.99,38.76,52.69,1.0,1.0,261.22,18.0,600.73,1.0,75.86,8.54,0.01,44.9,44.9,316.06,316.06,209.65,78.0,78.0,188.52,188.52,30.31,30.31,104.03,104.03,1.0,1.0,37.93,97.0,11.4,45.48,1.0,1.0,1.0,1.0,1.0,33.76,571.48,1.63,1.63,18.96,33.59,1.0,8.64,9.82,2.28,1.0,0.76,1.0,0.92,2.28,147.87,0.0,22.04,0.0,104.0,2.28,0.01,1.0,346.94,7.59,0.0,0.0,119.74,2.27,0.0,186.13,1.0,0.76,80.22,635.1,17.06,65.0,105.89,105.89,144.62,2125.87,11.0,45.51,40.0,3.22,0.0,25.0,67.9,93.35,1.0,175.9,720.8,7.18,4.87,80.9,0.0,2.0,1.0,362.55,276.17,723.21,480.72,1.0,1335.0,0.0,130.21,1.0,925.31,0.0,345.0,108.51,84.28,39.45,0.01,727.91,22.47,8.3,120.54,0.69,723.21,0.77,592.9,195.66,4.49,0.76,324.59,320.01,2.0,144.8,0.0,1.0,1.0,8.9,1.0,667.55,0.0,1.18,2.22,0.77,94.82,8.0,996.27,0.0,1.59,1.59,0.0,0.76,0.76,122.68,0.0,1.0,1.1,2.0,17.39,50.0,237.26,1.0,9.29,10.7,0.01,57.73,1.0,1.0,1.0,1.0,1.0,2.47,357.95,247.86,51.37,0.0,0.76,1504.93,1096.99,35.0,6.74,0.77,0.77,0.77,3.9,3.14,7.06,94.82,0.77,0.77,187.11,7.59,4.97,0.77,296.0,45.51,4.9,156.0,4.69,0.77,1.0,0.77,127.14,0.38,39.98,12.31,0.0,39.9,634.3,19.95,349.08,390.0,0.76,77.89,245.0,42.53],\"type\":\"scatter\"}],                        {\"hovermode\":\"closest\",\"template\":{\"data\":{\"barpolar\":[{\"marker\":{\"line\":{\"color\":\"#E5ECF6\",\"width\":0.5},\"pattern\":{\"fillmode\":\"overlay\",\"size\":10,\"solidity\":0.2}},\"type\":\"barpolar\"}],\"bar\":[{\"error_x\":{\"color\":\"#2a3f5f\"},\"error_y\":{\"color\":\"#2a3f5f\"},\"marker\":{\"line\":{\"color\":\"#E5ECF6\",\"width\":0.5},\"pattern\":{\"fillmode\":\"overlay\",\"size\":10,\"solidity\":0.2}},\"type\":\"bar\"}],\"carpet\":[{\"aaxis\":{\"endlinecolor\":\"#2a3f5f\",\"gridcolor\":\"white\",\"linecolor\":\"white\",\"minorgridcolor\":\"white\",\"startlinecolor\":\"#2a3f5f\"},\"baxis\":{\"endlinecolor\":\"#2a3f5f\",\"gridcolor\":\"white\",\"linecolor\":\"white\",\"minorgridcolor\":\"white\",\"startlinecolor\":\"#2a3f5f\"},\"type\":\"carpet\"}],\"choropleth\":[{\"colorbar\":{\"outlinewidth\":0,\"ticks\":\"\"},\"type\":\"choropleth\"}],\"contourcarpet\":[{\"colorbar\":{\"outlinewidth\":0,\"ticks\":\"\"},\"type\":\"contourcarpet\"}],\"contour\":[{\"colorbar\":{\"outlinewidth\":0,\"ticks\":\"\"},\"colorscale\":[[0.0,\"#0d0887\"],[0.1111111111111111,\"#46039f\"],[0.2222222222222222,\"#7201a8\"],[0.3333333333333333,\"#9c179e\"],[0.4444444444444444,\"#bd3786\"],[0.5555555555555556,\"#d8576b\"],[0.6666666666666666,\"#ed7953\"],[0.7777777777777778,\"#fb9f3a\"],[0.8888888888888888,\"#fdca26\"],[1.0,\"#f0f921\"]],\"type\":\"contour\"}],\"heatmapgl\":[{\"colorbar\":{\"outlinewidth\":0,\"ticks\":\"\"},\"colorscale\":[[0.0,\"#0d0887\"],[0.1111111111111111,\"#46039f\"],[0.2222222222222222,\"#7201a8\"],[0.3333333333333333,\"#9c179e\"],[0.4444444444444444,\"#bd3786\"],[0.5555555555555556,\"#d8576b\"],[0.6666666666666666,\"#ed7953\"],[0.7777777777777778,\"#fb9f3a\"],[0.8888888888888888,\"#fdca26\"],[1.0,\"#f0f921\"]],\"type\":\"heatmapgl\"}],\"heatmap\":[{\"colorbar\":{\"outlinewidth\":0,\"ticks\":\"\"},\"colorscale\":[[0.0,\"#0d0887\"],[0.1111111111111111,\"#46039f\"],[0.2222222222222222,\"#7201a8\"],[0.3333333333333333,\"#9c179e\"],[0.4444444444444444,\"#bd3786\"],[0.5555555555555556,\"#d8576b\"],[0.6666666666666666,\"#ed7953\"],[0.7777777777777778,\"#fb9f3a\"],[0.8888888888888888,\"#fdca26\"],[1.0,\"#f0f921\"]],\"type\":\"heatmap\"}],\"histogram2dcontour\":[{\"colorbar\":{\"outlinewidth\":0,\"ticks\":\"\"},\"colorscale\":[[0.0,\"#0d0887\"],[0.1111111111111111,\"#46039f\"],[0.2222222222222222,\"#7201a8\"],[0.3333333333333333,\"#9c179e\"],[0.4444444444444444,\"#bd3786\"],[0.5555555555555556,\"#d8576b\"],[0.6666666666666666,\"#ed7953\"],[0.7777777777777778,\"#fb9f3a\"],[0.8888888888888888,\"#fdca26\"],[1.0,\"#f0f921\"]],\"type\":\"histogram2dcontour\"}],\"histogram2d\":[{\"colorbar\":{\"outlinewidth\":0,\"ticks\":\"\"},\"colorscale\":[[0.0,\"#0d0887\"],[0.1111111111111111,\"#46039f\"],[0.2222222222222222,\"#7201a8\"],[0.3333333333333333,\"#9c179e\"],[0.4444444444444444,\"#bd3786\"],[0.5555555555555556,\"#d8576b\"],[0.6666666666666666,\"#ed7953\"],[0.7777777777777778,\"#fb9f3a\"],[0.8888888888888888,\"#fdca26\"],[1.0,\"#f0f921\"]],\"type\":\"histogram2d\"}],\"histogram\":[{\"marker\":{\"pattern\":{\"fillmode\":\"overlay\",\"size\":10,\"solidity\":0.2}},\"type\":\"histogram\"}],\"mesh3d\":[{\"colorbar\":{\"outlinewidth\":0,\"ticks\":\"\"},\"type\":\"mesh3d\"}],\"parcoords\":[{\"line\":{\"colorbar\":{\"outlinewidth\":0,\"ticks\":\"\"}},\"type\":\"parcoords\"}],\"pie\":[{\"automargin\":true,\"type\":\"pie\"}],\"scatter3d\":[{\"line\":{\"colorbar\":{\"outlinewidth\":0,\"ticks\":\"\"}},\"marker\":{\"colorbar\":{\"outlinewidth\":0,\"ticks\":\"\"}},\"type\":\"scatter3d\"}],\"scattercarpet\":[{\"marker\":{\"colorbar\":{\"outlinewidth\":0,\"ticks\":\"\"}},\"type\":\"scattercarpet\"}],\"scattergeo\":[{\"marker\":{\"colorbar\":{\"outlinewidth\":0,\"ticks\":\"\"}},\"type\":\"scattergeo\"}],\"scattergl\":[{\"marker\":{\"colorbar\":{\"outlinewidth\":0,\"ticks\":\"\"}},\"type\":\"scattergl\"}],\"scattermapbox\":[{\"marker\":{\"colorbar\":{\"outlinewidth\":0,\"ticks\":\"\"}},\"type\":\"scattermapbox\"}],\"scatterpolargl\":[{\"marker\":{\"colorbar\":{\"outlinewidth\":0,\"ticks\":\"\"}},\"type\":\"scatterpolargl\"}],\"scatterpolar\":[{\"marker\":{\"colorbar\":{\"outlinewidth\":0,\"ticks\":\"\"}},\"type\":\"scatterpolar\"}],\"scatter\":[{\"fillpattern\":{\"fillmode\":\"overlay\",\"size\":10,\"solidity\":0.2},\"type\":\"scatter\"}],\"scatterternary\":[{\"marker\":{\"colorbar\":{\"outlinewidth\":0,\"ticks\":\"\"}},\"type\":\"scatterternary\"}],\"surface\":[{\"colorbar\":{\"outlinewidth\":0,\"ticks\":\"\"},\"colorscale\":[[0.0,\"#0d0887\"],[0.1111111111111111,\"#46039f\"],[0.2222222222222222,\"#7201a8\"],[0.3333333333333333,\"#9c179e\"],[0.4444444444444444,\"#bd3786\"],[0.5555555555555556,\"#d8576b\"],[0.6666666666666666,\"#ed7953\"],[0.7777777777777778,\"#fb9f3a\"],[0.8888888888888888,\"#fdca26\"],[1.0,\"#f0f921\"]],\"type\":\"surface\"}],\"table\":[{\"cells\":{\"fill\":{\"color\":\"#EBF0F8\"},\"line\":{\"color\":\"white\"}},\"header\":{\"fill\":{\"color\":\"#C8D4E3\"},\"line\":{\"color\":\"white\"}},\"type\":\"table\"}]},\"layout\":{\"annotationdefaults\":{\"arrowcolor\":\"#2a3f5f\",\"arrowhead\":0,\"arrowwidth\":1},\"autotypenumbers\":\"strict\",\"coloraxis\":{\"colorbar\":{\"outlinewidth\":0,\"ticks\":\"\"}},\"colorscale\":{\"diverging\":[[0,\"#8e0152\"],[0.1,\"#c51b7d\"],[0.2,\"#de77ae\"],[0.3,\"#f1b6da\"],[0.4,\"#fde0ef\"],[0.5,\"#f7f7f7\"],[0.6,\"#e6f5d0\"],[0.7,\"#b8e186\"],[0.8,\"#7fbc41\"],[0.9,\"#4d9221\"],[1,\"#276419\"]],\"sequential\":[[0.0,\"#0d0887\"],[0.1111111111111111,\"#46039f\"],[0.2222222222222222,\"#7201a8\"],[0.3333333333333333,\"#9c179e\"],[0.4444444444444444,\"#bd3786\"],[0.5555555555555556,\"#d8576b\"],[0.6666666666666666,\"#ed7953\"],[0.7777777777777778,\"#fb9f3a\"],[0.8888888888888888,\"#fdca26\"],[1.0,\"#f0f921\"]],\"sequentialminus\":[[0.0,\"#0d0887\"],[0.1111111111111111,\"#46039f\"],[0.2222222222222222,\"#7201a8\"],[0.3333333333333333,\"#9c179e\"],[0.4444444444444444,\"#bd3786\"],[0.5555555555555556,\"#d8576b\"],[0.6666666666666666,\"#ed7953\"],[0.7777777777777778,\"#fb9f3a\"],[0.8888888888888888,\"#fdca26\"],[1.0,\"#f0f921\"]]},\"colorway\":[\"#636efa\",\"#EF553B\",\"#00cc96\",\"#ab63fa\",\"#FFA15A\",\"#19d3f3\",\"#FF6692\",\"#B6E880\",\"#FF97FF\",\"#FECB52\"],\"font\":{\"color\":\"#2a3f5f\"},\"geo\":{\"bgcolor\":\"white\",\"lakecolor\":\"white\",\"landcolor\":\"#E5ECF6\",\"showlakes\":true,\"showland\":true,\"subunitcolor\":\"white\"},\"hoverlabel\":{\"align\":\"left\"},\"hovermode\":\"closest\",\"mapbox\":{\"style\":\"light\"},\"paper_bgcolor\":\"white\",\"plot_bgcolor\":\"#E5ECF6\",\"polar\":{\"angularaxis\":{\"gridcolor\":\"white\",\"linecolor\":\"white\",\"ticks\":\"\"},\"bgcolor\":\"#E5ECF6\",\"radialaxis\":{\"gridcolor\":\"white\",\"linecolor\":\"white\",\"ticks\":\"\"}},\"scene\":{\"xaxis\":{\"backgroundcolor\":\"#E5ECF6\",\"gridcolor\":\"white\",\"gridwidth\":2,\"linecolor\":\"white\",\"showbackground\":true,\"ticks\":\"\",\"zerolinecolor\":\"white\"},\"yaxis\":{\"backgroundcolor\":\"#E5ECF6\",\"gridcolor\":\"white\",\"gridwidth\":2,\"linecolor\":\"white\",\"showbackground\":true,\"ticks\":\"\",\"zerolinecolor\":\"white\"},\"zaxis\":{\"backgroundcolor\":\"#E5ECF6\",\"gridcolor\":\"white\",\"gridwidth\":2,\"linecolor\":\"white\",\"showbackground\":true,\"ticks\":\"\",\"zerolinecolor\":\"white\"}},\"shapedefaults\":{\"line\":{\"color\":\"#2a3f5f\"}},\"ternary\":{\"aaxis\":{\"gridcolor\":\"white\",\"linecolor\":\"white\",\"ticks\":\"\"},\"baxis\":{\"gridcolor\":\"white\",\"linecolor\":\"white\",\"ticks\":\"\"},\"bgcolor\":\"#E5ECF6\",\"caxis\":{\"gridcolor\":\"white\",\"linecolor\":\"white\",\"ticks\":\"\"}},\"title\":{\"x\":0.05},\"xaxis\":{\"automargin\":true,\"gridcolor\":\"white\",\"linecolor\":\"white\",\"ticks\":\"\",\"title\":{\"standoff\":15},\"zerolinecolor\":\"white\",\"zerolinewidth\":2},\"yaxis\":{\"automargin\":true,\"gridcolor\":\"white\",\"linecolor\":\"white\",\"ticks\":\"\",\"title\":{\"standoff\":15},\"zerolinecolor\":\"white\",\"zerolinewidth\":2}}},\"title\":{\"text\":\"Amount of fraudulent transactions\"},\"xaxis\":{\"showticklabels\":true,\"title\":{\"text\":\"Time [s]\"}},\"yaxis\":{\"title\":{\"text\":\"Amount\"}}},                        {\"responsive\": true}                    ).then(function(){\n",
              "                            \n",
              "var gd = document.getElementById('ce3f41bb-41d7-4963-9d46-10db4af65c78');\n",
              "var x = new MutationObserver(function (mutations, observer) {{\n",
              "        var display = window.getComputedStyle(gd).display;\n",
              "        if (!display || display === 'none') {{\n",
              "            console.log([gd, 'removed!']);\n",
              "            Plotly.purge(gd);\n",
              "            observer.disconnect();\n",
              "        }}\n",
              "}});\n",
              "\n",
              "// Listen for the removal of the full notebook cells\n",
              "var notebookContainer = gd.closest('#notebook-container');\n",
              "if (notebookContainer) {{\n",
              "    x.observe(notebookContainer, {childList: true});\n",
              "}}\n",
              "\n",
              "// Listen for the clearing of the current output cell\n",
              "var outputEl = gd.closest('.output');\n",
              "if (outputEl) {{\n",
              "    x.observe(outputEl, {childList: true});\n",
              "}}\n",
              "\n",
              "                        })                };                });            </script>        </div>"
            ]
          },
          "metadata": {}
        }
      ],
      "source": [
        "fraud = data.loc[data['Class'] == 1]\n",
        "\n",
        "trace = go.Scatter(\n",
        "    x = fraud['Time'],y = fraud['Amount'],\n",
        "    name=\"Amount\",\n",
        "     marker=dict(\n",
        "                color='rgb(238,23,11)',\n",
        "                line=dict(\n",
        "                    color='Purple',\n",
        "                    width=1),\n",
        "                opacity=0.5,\n",
        "            ),\n",
        "    text= fraud['Amount'],\n",
        "    mode = \"markers\"\n",
        ")\n",
        "data_df = [trace]\n",
        "layout = dict(title = 'Amount of fraudulent transactions',\n",
        "          xaxis = dict(title = 'Time [s]', showticklabels=True),\n",
        "          yaxis = dict(title = 'Amount'),\n",
        "          hovermode='closest'\n",
        "         )\n",
        "fig = dict(data=data_df, layout=layout)\n",
        "iplot(fig, filename='fraud-amount')"
      ]
    },
    {
      "cell_type": "code",
      "execution_count": null,
      "id": "northern-founder",
      "metadata": {
        "_uuid": "05466e1862ba4f872dc05faa4b4dc84430660639",
        "execution": {
          "iopub.execute_input": "2021-04-01T11:08:02.840631Z",
          "iopub.status.busy": "2021-04-01T11:08:02.839627Z",
          "iopub.status.idle": "2021-04-01T11:08:02.842888Z",
          "shell.execute_reply": "2021-04-01T11:08:02.842260Z"
        },
        "papermill": {
          "duration": 0.157821,
          "end_time": "2021-04-01T11:08:02.843031",
          "exception": false,
          "start_time": "2021-04-01T11:08:02.685210",
          "status": "completed"
        },
        "tags": [],
        "id": "northern-founder"
      },
      "outputs": [],
      "source": [
        "# PREDICTIVE MODELS\n",
        "target = 'Class'\n",
        "predictors = ['Time', 'V1', 'V2', 'V3', 'V4', 'V5', 'V6', 'V7', 'V8', 'V9', 'V10',\\\n",
        "       'V11', 'V12', 'V13', 'V14', 'V15', 'V16', 'V17', 'V18', 'V19',\\\n",
        "       'V20', 'V21', 'V22', 'V23', 'V24', 'V25', 'V26', 'V27', 'V28',\\\n",
        "       'Amount']"
      ]
    },
    {
      "cell_type": "code",
      "execution_count": null,
      "id": "c24a7460",
      "metadata": {
        "colab": {
          "base_uri": "https://localhost:8080/",
          "height": 439
        },
        "id": "c24a7460",
        "outputId": "1743cd43-3f11-44b1-f146-62ee20048477"
      },
      "outputs": [
        {
          "output_type": "execute_result",
          "data": {
            "text/plain": [
              "            Time         V1         V2        V3        V4        V5  \\\n",
              "0            0.0  -1.359807  -0.072781  2.536347  1.378155 -0.338321   \n",
              "1            0.0   1.191857   0.266151  0.166480  0.448154  0.060018   \n",
              "2            1.0  -1.358354  -1.340163  1.773209  0.379780 -0.503198   \n",
              "3            1.0  -0.966272  -0.185226  1.792993 -0.863291 -0.010309   \n",
              "4            2.0  -1.158233   0.877737  1.548718  0.403034 -0.407193   \n",
              "...          ...        ...        ...       ...       ...       ...   \n",
              "284802  172786.0 -11.881118  10.071785 -9.834783 -2.066656 -5.364473   \n",
              "284803  172787.0  -0.732789  -0.055080  2.035030 -0.738589  0.868229   \n",
              "284804  172788.0   1.919565  -0.301254 -3.249640 -0.557828  2.630515   \n",
              "284805  172788.0  -0.240440   0.530483  0.702510  0.689799 -0.377961   \n",
              "284806  172792.0  -0.533413  -0.189733  0.703337 -0.506271 -0.012546   \n",
              "\n",
              "              V6        V7        V8        V9  ...       V21       V22  \\\n",
              "0       0.462388  0.239599  0.098698  0.363787  ... -0.018307  0.277838   \n",
              "1      -0.082361 -0.078803  0.085102 -0.255425  ... -0.225775 -0.638672   \n",
              "2       1.800499  0.791461  0.247676 -1.514654  ...  0.247998  0.771679   \n",
              "3       1.247203  0.237609  0.377436 -1.387024  ... -0.108300  0.005274   \n",
              "4       0.095921  0.592941 -0.270533  0.817739  ... -0.009431  0.798278   \n",
              "...          ...       ...       ...       ...  ...       ...       ...   \n",
              "284802 -2.606837 -4.918215  7.305334  1.914428  ...  0.213454  0.111864   \n",
              "284803  1.058415  0.024330  0.294869  0.584800  ...  0.214205  0.924384   \n",
              "284804  3.031260 -0.296827  0.708417  0.432454  ...  0.232045  0.578229   \n",
              "284805  0.623708 -0.686180  0.679145  0.392087  ...  0.265245  0.800049   \n",
              "284806 -0.649617  1.577006 -0.414650  0.486180  ...  0.261057  0.643078   \n",
              "\n",
              "             V23       V24       V25       V26       V27       V28  Amount  \\\n",
              "0      -0.110474  0.066928  0.128539 -0.189115  0.133558 -0.021053  149.62   \n",
              "1       0.101288 -0.339846  0.167170  0.125895 -0.008983  0.014724    2.69   \n",
              "2       0.909412 -0.689281 -0.327642 -0.139097 -0.055353 -0.059752  378.66   \n",
              "3      -0.190321 -1.175575  0.647376 -0.221929  0.062723  0.061458  123.50   \n",
              "4      -0.137458  0.141267 -0.206010  0.502292  0.219422  0.215153   69.99   \n",
              "...          ...       ...       ...       ...       ...       ...     ...   \n",
              "284802  1.014480 -0.509348  1.436807  0.250034  0.943651  0.823731    0.77   \n",
              "284803  0.012463 -1.016226 -0.606624 -0.395255  0.068472 -0.053527   24.79   \n",
              "284804 -0.037501  0.640134  0.265745 -0.087371  0.004455 -0.026561   67.88   \n",
              "284805 -0.163298  0.123205 -0.569159  0.546668  0.108821  0.104533   10.00   \n",
              "284806  0.376777  0.008797 -0.473649 -0.818267 -0.002415  0.013649  217.00   \n",
              "\n",
              "        Hour  \n",
              "0        0.0  \n",
              "1        0.0  \n",
              "2        0.0  \n",
              "3        0.0  \n",
              "4        0.0  \n",
              "...      ...  \n",
              "284802  47.0  \n",
              "284803  47.0  \n",
              "284804  47.0  \n",
              "284805  47.0  \n",
              "284806  47.0  \n",
              "\n",
              "[284807 rows x 31 columns]"
            ],
            "text/html": [
              "\n",
              "  <div id=\"df-e6badb38-a7dc-4e94-8a58-089b8288a734\" class=\"colab-df-container\">\n",
              "    <div>\n",
              "<style scoped>\n",
              "    .dataframe tbody tr th:only-of-type {\n",
              "        vertical-align: middle;\n",
              "    }\n",
              "\n",
              "    .dataframe tbody tr th {\n",
              "        vertical-align: top;\n",
              "    }\n",
              "\n",
              "    .dataframe thead th {\n",
              "        text-align: right;\n",
              "    }\n",
              "</style>\n",
              "<table border=\"1\" class=\"dataframe\">\n",
              "  <thead>\n",
              "    <tr style=\"text-align: right;\">\n",
              "      <th></th>\n",
              "      <th>Time</th>\n",
              "      <th>V1</th>\n",
              "      <th>V2</th>\n",
              "      <th>V3</th>\n",
              "      <th>V4</th>\n",
              "      <th>V5</th>\n",
              "      <th>V6</th>\n",
              "      <th>V7</th>\n",
              "      <th>V8</th>\n",
              "      <th>V9</th>\n",
              "      <th>...</th>\n",
              "      <th>V21</th>\n",
              "      <th>V22</th>\n",
              "      <th>V23</th>\n",
              "      <th>V24</th>\n",
              "      <th>V25</th>\n",
              "      <th>V26</th>\n",
              "      <th>V27</th>\n",
              "      <th>V28</th>\n",
              "      <th>Amount</th>\n",
              "      <th>Hour</th>\n",
              "    </tr>\n",
              "  </thead>\n",
              "  <tbody>\n",
              "    <tr>\n",
              "      <th>0</th>\n",
              "      <td>0.0</td>\n",
              "      <td>-1.359807</td>\n",
              "      <td>-0.072781</td>\n",
              "      <td>2.536347</td>\n",
              "      <td>1.378155</td>\n",
              "      <td>-0.338321</td>\n",
              "      <td>0.462388</td>\n",
              "      <td>0.239599</td>\n",
              "      <td>0.098698</td>\n",
              "      <td>0.363787</td>\n",
              "      <td>...</td>\n",
              "      <td>-0.018307</td>\n",
              "      <td>0.277838</td>\n",
              "      <td>-0.110474</td>\n",
              "      <td>0.066928</td>\n",
              "      <td>0.128539</td>\n",
              "      <td>-0.189115</td>\n",
              "      <td>0.133558</td>\n",
              "      <td>-0.021053</td>\n",
              "      <td>149.62</td>\n",
              "      <td>0.0</td>\n",
              "    </tr>\n",
              "    <tr>\n",
              "      <th>1</th>\n",
              "      <td>0.0</td>\n",
              "      <td>1.191857</td>\n",
              "      <td>0.266151</td>\n",
              "      <td>0.166480</td>\n",
              "      <td>0.448154</td>\n",
              "      <td>0.060018</td>\n",
              "      <td>-0.082361</td>\n",
              "      <td>-0.078803</td>\n",
              "      <td>0.085102</td>\n",
              "      <td>-0.255425</td>\n",
              "      <td>...</td>\n",
              "      <td>-0.225775</td>\n",
              "      <td>-0.638672</td>\n",
              "      <td>0.101288</td>\n",
              "      <td>-0.339846</td>\n",
              "      <td>0.167170</td>\n",
              "      <td>0.125895</td>\n",
              "      <td>-0.008983</td>\n",
              "      <td>0.014724</td>\n",
              "      <td>2.69</td>\n",
              "      <td>0.0</td>\n",
              "    </tr>\n",
              "    <tr>\n",
              "      <th>2</th>\n",
              "      <td>1.0</td>\n",
              "      <td>-1.358354</td>\n",
              "      <td>-1.340163</td>\n",
              "      <td>1.773209</td>\n",
              "      <td>0.379780</td>\n",
              "      <td>-0.503198</td>\n",
              "      <td>1.800499</td>\n",
              "      <td>0.791461</td>\n",
              "      <td>0.247676</td>\n",
              "      <td>-1.514654</td>\n",
              "      <td>...</td>\n",
              "      <td>0.247998</td>\n",
              "      <td>0.771679</td>\n",
              "      <td>0.909412</td>\n",
              "      <td>-0.689281</td>\n",
              "      <td>-0.327642</td>\n",
              "      <td>-0.139097</td>\n",
              "      <td>-0.055353</td>\n",
              "      <td>-0.059752</td>\n",
              "      <td>378.66</td>\n",
              "      <td>0.0</td>\n",
              "    </tr>\n",
              "    <tr>\n",
              "      <th>3</th>\n",
              "      <td>1.0</td>\n",
              "      <td>-0.966272</td>\n",
              "      <td>-0.185226</td>\n",
              "      <td>1.792993</td>\n",
              "      <td>-0.863291</td>\n",
              "      <td>-0.010309</td>\n",
              "      <td>1.247203</td>\n",
              "      <td>0.237609</td>\n",
              "      <td>0.377436</td>\n",
              "      <td>-1.387024</td>\n",
              "      <td>...</td>\n",
              "      <td>-0.108300</td>\n",
              "      <td>0.005274</td>\n",
              "      <td>-0.190321</td>\n",
              "      <td>-1.175575</td>\n",
              "      <td>0.647376</td>\n",
              "      <td>-0.221929</td>\n",
              "      <td>0.062723</td>\n",
              "      <td>0.061458</td>\n",
              "      <td>123.50</td>\n",
              "      <td>0.0</td>\n",
              "    </tr>\n",
              "    <tr>\n",
              "      <th>4</th>\n",
              "      <td>2.0</td>\n",
              "      <td>-1.158233</td>\n",
              "      <td>0.877737</td>\n",
              "      <td>1.548718</td>\n",
              "      <td>0.403034</td>\n",
              "      <td>-0.407193</td>\n",
              "      <td>0.095921</td>\n",
              "      <td>0.592941</td>\n",
              "      <td>-0.270533</td>\n",
              "      <td>0.817739</td>\n",
              "      <td>...</td>\n",
              "      <td>-0.009431</td>\n",
              "      <td>0.798278</td>\n",
              "      <td>-0.137458</td>\n",
              "      <td>0.141267</td>\n",
              "      <td>-0.206010</td>\n",
              "      <td>0.502292</td>\n",
              "      <td>0.219422</td>\n",
              "      <td>0.215153</td>\n",
              "      <td>69.99</td>\n",
              "      <td>0.0</td>\n",
              "    </tr>\n",
              "    <tr>\n",
              "      <th>...</th>\n",
              "      <td>...</td>\n",
              "      <td>...</td>\n",
              "      <td>...</td>\n",
              "      <td>...</td>\n",
              "      <td>...</td>\n",
              "      <td>...</td>\n",
              "      <td>...</td>\n",
              "      <td>...</td>\n",
              "      <td>...</td>\n",
              "      <td>...</td>\n",
              "      <td>...</td>\n",
              "      <td>...</td>\n",
              "      <td>...</td>\n",
              "      <td>...</td>\n",
              "      <td>...</td>\n",
              "      <td>...</td>\n",
              "      <td>...</td>\n",
              "      <td>...</td>\n",
              "      <td>...</td>\n",
              "      <td>...</td>\n",
              "      <td>...</td>\n",
              "    </tr>\n",
              "    <tr>\n",
              "      <th>284802</th>\n",
              "      <td>172786.0</td>\n",
              "      <td>-11.881118</td>\n",
              "      <td>10.071785</td>\n",
              "      <td>-9.834783</td>\n",
              "      <td>-2.066656</td>\n",
              "      <td>-5.364473</td>\n",
              "      <td>-2.606837</td>\n",
              "      <td>-4.918215</td>\n",
              "      <td>7.305334</td>\n",
              "      <td>1.914428</td>\n",
              "      <td>...</td>\n",
              "      <td>0.213454</td>\n",
              "      <td>0.111864</td>\n",
              "      <td>1.014480</td>\n",
              "      <td>-0.509348</td>\n",
              "      <td>1.436807</td>\n",
              "      <td>0.250034</td>\n",
              "      <td>0.943651</td>\n",
              "      <td>0.823731</td>\n",
              "      <td>0.77</td>\n",
              "      <td>47.0</td>\n",
              "    </tr>\n",
              "    <tr>\n",
              "      <th>284803</th>\n",
              "      <td>172787.0</td>\n",
              "      <td>-0.732789</td>\n",
              "      <td>-0.055080</td>\n",
              "      <td>2.035030</td>\n",
              "      <td>-0.738589</td>\n",
              "      <td>0.868229</td>\n",
              "      <td>1.058415</td>\n",
              "      <td>0.024330</td>\n",
              "      <td>0.294869</td>\n",
              "      <td>0.584800</td>\n",
              "      <td>...</td>\n",
              "      <td>0.214205</td>\n",
              "      <td>0.924384</td>\n",
              "      <td>0.012463</td>\n",
              "      <td>-1.016226</td>\n",
              "      <td>-0.606624</td>\n",
              "      <td>-0.395255</td>\n",
              "      <td>0.068472</td>\n",
              "      <td>-0.053527</td>\n",
              "      <td>24.79</td>\n",
              "      <td>47.0</td>\n",
              "    </tr>\n",
              "    <tr>\n",
              "      <th>284804</th>\n",
              "      <td>172788.0</td>\n",
              "      <td>1.919565</td>\n",
              "      <td>-0.301254</td>\n",
              "      <td>-3.249640</td>\n",
              "      <td>-0.557828</td>\n",
              "      <td>2.630515</td>\n",
              "      <td>3.031260</td>\n",
              "      <td>-0.296827</td>\n",
              "      <td>0.708417</td>\n",
              "      <td>0.432454</td>\n",
              "      <td>...</td>\n",
              "      <td>0.232045</td>\n",
              "      <td>0.578229</td>\n",
              "      <td>-0.037501</td>\n",
              "      <td>0.640134</td>\n",
              "      <td>0.265745</td>\n",
              "      <td>-0.087371</td>\n",
              "      <td>0.004455</td>\n",
              "      <td>-0.026561</td>\n",
              "      <td>67.88</td>\n",
              "      <td>47.0</td>\n",
              "    </tr>\n",
              "    <tr>\n",
              "      <th>284805</th>\n",
              "      <td>172788.0</td>\n",
              "      <td>-0.240440</td>\n",
              "      <td>0.530483</td>\n",
              "      <td>0.702510</td>\n",
              "      <td>0.689799</td>\n",
              "      <td>-0.377961</td>\n",
              "      <td>0.623708</td>\n",
              "      <td>-0.686180</td>\n",
              "      <td>0.679145</td>\n",
              "      <td>0.392087</td>\n",
              "      <td>...</td>\n",
              "      <td>0.265245</td>\n",
              "      <td>0.800049</td>\n",
              "      <td>-0.163298</td>\n",
              "      <td>0.123205</td>\n",
              "      <td>-0.569159</td>\n",
              "      <td>0.546668</td>\n",
              "      <td>0.108821</td>\n",
              "      <td>0.104533</td>\n",
              "      <td>10.00</td>\n",
              "      <td>47.0</td>\n",
              "    </tr>\n",
              "    <tr>\n",
              "      <th>284806</th>\n",
              "      <td>172792.0</td>\n",
              "      <td>-0.533413</td>\n",
              "      <td>-0.189733</td>\n",
              "      <td>0.703337</td>\n",
              "      <td>-0.506271</td>\n",
              "      <td>-0.012546</td>\n",
              "      <td>-0.649617</td>\n",
              "      <td>1.577006</td>\n",
              "      <td>-0.414650</td>\n",
              "      <td>0.486180</td>\n",
              "      <td>...</td>\n",
              "      <td>0.261057</td>\n",
              "      <td>0.643078</td>\n",
              "      <td>0.376777</td>\n",
              "      <td>0.008797</td>\n",
              "      <td>-0.473649</td>\n",
              "      <td>-0.818267</td>\n",
              "      <td>-0.002415</td>\n",
              "      <td>0.013649</td>\n",
              "      <td>217.00</td>\n",
              "      <td>47.0</td>\n",
              "    </tr>\n",
              "  </tbody>\n",
              "</table>\n",
              "<p>284807 rows × 31 columns</p>\n",
              "</div>\n",
              "    <div class=\"colab-df-buttons\">\n",
              "\n",
              "  <div class=\"colab-df-container\">\n",
              "    <button class=\"colab-df-convert\" onclick=\"convertToInteractive('df-e6badb38-a7dc-4e94-8a58-089b8288a734')\"\n",
              "            title=\"Convert this dataframe to an interactive table.\"\n",
              "            style=\"display:none;\">\n",
              "\n",
              "  <svg xmlns=\"http://www.w3.org/2000/svg\" height=\"24px\" viewBox=\"0 -960 960 960\">\n",
              "    <path d=\"M120-120v-720h720v720H120Zm60-500h600v-160H180v160Zm220 220h160v-160H400v160Zm0 220h160v-160H400v160ZM180-400h160v-160H180v160Zm440 0h160v-160H620v160ZM180-180h160v-160H180v160Zm440 0h160v-160H620v160Z\"/>\n",
              "  </svg>\n",
              "    </button>\n",
              "\n",
              "  <style>\n",
              "    .colab-df-container {\n",
              "      display:flex;\n",
              "      gap: 12px;\n",
              "    }\n",
              "\n",
              "    .colab-df-convert {\n",
              "      background-color: #E8F0FE;\n",
              "      border: none;\n",
              "      border-radius: 50%;\n",
              "      cursor: pointer;\n",
              "      display: none;\n",
              "      fill: #1967D2;\n",
              "      height: 32px;\n",
              "      padding: 0 0 0 0;\n",
              "      width: 32px;\n",
              "    }\n",
              "\n",
              "    .colab-df-convert:hover {\n",
              "      background-color: #E2EBFA;\n",
              "      box-shadow: 0px 1px 2px rgba(60, 64, 67, 0.3), 0px 1px 3px 1px rgba(60, 64, 67, 0.15);\n",
              "      fill: #174EA6;\n",
              "    }\n",
              "\n",
              "    .colab-df-buttons div {\n",
              "      margin-bottom: 4px;\n",
              "    }\n",
              "\n",
              "    [theme=dark] .colab-df-convert {\n",
              "      background-color: #3B4455;\n",
              "      fill: #D2E3FC;\n",
              "    }\n",
              "\n",
              "    [theme=dark] .colab-df-convert:hover {\n",
              "      background-color: #434B5C;\n",
              "      box-shadow: 0px 1px 3px 1px rgba(0, 0, 0, 0.15);\n",
              "      filter: drop-shadow(0px 1px 2px rgba(0, 0, 0, 0.3));\n",
              "      fill: #FFFFFF;\n",
              "    }\n",
              "  </style>\n",
              "\n",
              "    <script>\n",
              "      const buttonEl =\n",
              "        document.querySelector('#df-e6badb38-a7dc-4e94-8a58-089b8288a734 button.colab-df-convert');\n",
              "      buttonEl.style.display =\n",
              "        google.colab.kernel.accessAllowed ? 'block' : 'none';\n",
              "\n",
              "      async function convertToInteractive(key) {\n",
              "        const element = document.querySelector('#df-e6badb38-a7dc-4e94-8a58-089b8288a734');\n",
              "        const dataTable =\n",
              "          await google.colab.kernel.invokeFunction('convertToInteractive',\n",
              "                                                    [key], {});\n",
              "        if (!dataTable) return;\n",
              "\n",
              "        const docLinkHtml = 'Like what you see? Visit the ' +\n",
              "          '<a target=\"_blank\" href=https://colab.research.google.com/notebooks/data_table.ipynb>data table notebook</a>'\n",
              "          + ' to learn more about interactive tables.';\n",
              "        element.innerHTML = '';\n",
              "        dataTable['output_type'] = 'display_data';\n",
              "        await google.colab.output.renderOutput(dataTable, element);\n",
              "        const docLink = document.createElement('div');\n",
              "        docLink.innerHTML = docLinkHtml;\n",
              "        element.appendChild(docLink);\n",
              "      }\n",
              "    </script>\n",
              "  </div>\n",
              "\n",
              "\n",
              "<div id=\"df-0f91c890-09be-41ac-956c-2c094972a435\">\n",
              "  <button class=\"colab-df-quickchart\" onclick=\"quickchart('df-0f91c890-09be-41ac-956c-2c094972a435')\"\n",
              "            title=\"Suggest charts\"\n",
              "            style=\"display:none;\">\n",
              "\n",
              "<svg xmlns=\"http://www.w3.org/2000/svg\" height=\"24px\"viewBox=\"0 0 24 24\"\n",
              "     width=\"24px\">\n",
              "    <g>\n",
              "        <path d=\"M19 3H5c-1.1 0-2 .9-2 2v14c0 1.1.9 2 2 2h14c1.1 0 2-.9 2-2V5c0-1.1-.9-2-2-2zM9 17H7v-7h2v7zm4 0h-2V7h2v10zm4 0h-2v-4h2v4z\"/>\n",
              "    </g>\n",
              "</svg>\n",
              "  </button>\n",
              "\n",
              "<style>\n",
              "  .colab-df-quickchart {\n",
              "      --bg-color: #E8F0FE;\n",
              "      --fill-color: #1967D2;\n",
              "      --hover-bg-color: #E2EBFA;\n",
              "      --hover-fill-color: #174EA6;\n",
              "      --disabled-fill-color: #AAA;\n",
              "      --disabled-bg-color: #DDD;\n",
              "  }\n",
              "\n",
              "  [theme=dark] .colab-df-quickchart {\n",
              "      --bg-color: #3B4455;\n",
              "      --fill-color: #D2E3FC;\n",
              "      --hover-bg-color: #434B5C;\n",
              "      --hover-fill-color: #FFFFFF;\n",
              "      --disabled-bg-color: #3B4455;\n",
              "      --disabled-fill-color: #666;\n",
              "  }\n",
              "\n",
              "  .colab-df-quickchart {\n",
              "    background-color: var(--bg-color);\n",
              "    border: none;\n",
              "    border-radius: 50%;\n",
              "    cursor: pointer;\n",
              "    display: none;\n",
              "    fill: var(--fill-color);\n",
              "    height: 32px;\n",
              "    padding: 0;\n",
              "    width: 32px;\n",
              "  }\n",
              "\n",
              "  .colab-df-quickchart:hover {\n",
              "    background-color: var(--hover-bg-color);\n",
              "    box-shadow: 0 1px 2px rgba(60, 64, 67, 0.3), 0 1px 3px 1px rgba(60, 64, 67, 0.15);\n",
              "    fill: var(--button-hover-fill-color);\n",
              "  }\n",
              "\n",
              "  .colab-df-quickchart-complete:disabled,\n",
              "  .colab-df-quickchart-complete:disabled:hover {\n",
              "    background-color: var(--disabled-bg-color);\n",
              "    fill: var(--disabled-fill-color);\n",
              "    box-shadow: none;\n",
              "  }\n",
              "\n",
              "  .colab-df-spinner {\n",
              "    border: 2px solid var(--fill-color);\n",
              "    border-color: transparent;\n",
              "    border-bottom-color: var(--fill-color);\n",
              "    animation:\n",
              "      spin 1s steps(1) infinite;\n",
              "  }\n",
              "\n",
              "  @keyframes spin {\n",
              "    0% {\n",
              "      border-color: transparent;\n",
              "      border-bottom-color: var(--fill-color);\n",
              "      border-left-color: var(--fill-color);\n",
              "    }\n",
              "    20% {\n",
              "      border-color: transparent;\n",
              "      border-left-color: var(--fill-color);\n",
              "      border-top-color: var(--fill-color);\n",
              "    }\n",
              "    30% {\n",
              "      border-color: transparent;\n",
              "      border-left-color: var(--fill-color);\n",
              "      border-top-color: var(--fill-color);\n",
              "      border-right-color: var(--fill-color);\n",
              "    }\n",
              "    40% {\n",
              "      border-color: transparent;\n",
              "      border-right-color: var(--fill-color);\n",
              "      border-top-color: var(--fill-color);\n",
              "    }\n",
              "    60% {\n",
              "      border-color: transparent;\n",
              "      border-right-color: var(--fill-color);\n",
              "    }\n",
              "    80% {\n",
              "      border-color: transparent;\n",
              "      border-right-color: var(--fill-color);\n",
              "      border-bottom-color: var(--fill-color);\n",
              "    }\n",
              "    90% {\n",
              "      border-color: transparent;\n",
              "      border-bottom-color: var(--fill-color);\n",
              "    }\n",
              "  }\n",
              "</style>\n",
              "\n",
              "  <script>\n",
              "    async function quickchart(key) {\n",
              "      const quickchartButtonEl =\n",
              "        document.querySelector('#' + key + ' button');\n",
              "      quickchartButtonEl.disabled = true;  // To prevent multiple clicks.\n",
              "      quickchartButtonEl.classList.add('colab-df-spinner');\n",
              "      try {\n",
              "        const charts = await google.colab.kernel.invokeFunction(\n",
              "            'suggestCharts', [key], {});\n",
              "      } catch (error) {\n",
              "        console.error('Error during call to suggestCharts:', error);\n",
              "      }\n",
              "      quickchartButtonEl.classList.remove('colab-df-spinner');\n",
              "      quickchartButtonEl.classList.add('colab-df-quickchart-complete');\n",
              "    }\n",
              "    (() => {\n",
              "      let quickchartButtonEl =\n",
              "        document.querySelector('#df-0f91c890-09be-41ac-956c-2c094972a435 button');\n",
              "      quickchartButtonEl.style.display =\n",
              "        google.colab.kernel.accessAllowed ? 'block' : 'none';\n",
              "    })();\n",
              "  </script>\n",
              "</div>\n",
              "\n",
              "  <div id=\"id_4756478a-51ae-43ec-9bf7-2498ac2f7c28\">\n",
              "    <style>\n",
              "      .colab-df-generate {\n",
              "        background-color: #E8F0FE;\n",
              "        border: none;\n",
              "        border-radius: 50%;\n",
              "        cursor: pointer;\n",
              "        display: none;\n",
              "        fill: #1967D2;\n",
              "        height: 32px;\n",
              "        padding: 0 0 0 0;\n",
              "        width: 32px;\n",
              "      }\n",
              "\n",
              "      .colab-df-generate:hover {\n",
              "        background-color: #E2EBFA;\n",
              "        box-shadow: 0px 1px 2px rgba(60, 64, 67, 0.3), 0px 1px 3px 1px rgba(60, 64, 67, 0.15);\n",
              "        fill: #174EA6;\n",
              "      }\n",
              "\n",
              "      [theme=dark] .colab-df-generate {\n",
              "        background-color: #3B4455;\n",
              "        fill: #D2E3FC;\n",
              "      }\n",
              "\n",
              "      [theme=dark] .colab-df-generate:hover {\n",
              "        background-color: #434B5C;\n",
              "        box-shadow: 0px 1px 3px 1px rgba(0, 0, 0, 0.15);\n",
              "        filter: drop-shadow(0px 1px 2px rgba(0, 0, 0, 0.3));\n",
              "        fill: #FFFFFF;\n",
              "      }\n",
              "    </style>\n",
              "    <button class=\"colab-df-generate\" onclick=\"generateWithVariable('x')\"\n",
              "            title=\"Generate code using this dataframe.\"\n",
              "            style=\"display:none;\">\n",
              "\n",
              "  <svg xmlns=\"http://www.w3.org/2000/svg\" height=\"24px\"viewBox=\"0 0 24 24\"\n",
              "       width=\"24px\">\n",
              "    <path d=\"M7,19H8.4L18.45,9,17,7.55,7,17.6ZM5,21V16.75L18.45,3.32a2,2,0,0,1,2.83,0l1.4,1.43a1.91,1.91,0,0,1,.58,1.4,1.91,1.91,0,0,1-.58,1.4L9.25,21ZM18.45,9,17,7.55Zm-12,3A5.31,5.31,0,0,0,4.9,8.1,5.31,5.31,0,0,0,1,6.5,5.31,5.31,0,0,0,4.9,4.9,5.31,5.31,0,0,0,6.5,1,5.31,5.31,0,0,0,8.1,4.9,5.31,5.31,0,0,0,12,6.5,5.46,5.46,0,0,0,6.5,12Z\"/>\n",
              "  </svg>\n",
              "    </button>\n",
              "    <script>\n",
              "      (() => {\n",
              "      const buttonEl =\n",
              "        document.querySelector('#id_4756478a-51ae-43ec-9bf7-2498ac2f7c28 button.colab-df-generate');\n",
              "      buttonEl.style.display =\n",
              "        google.colab.kernel.accessAllowed ? 'block' : 'none';\n",
              "\n",
              "      buttonEl.onclick = () => {\n",
              "        google.colab.notebook.generateWithVariable('x');\n",
              "      }\n",
              "      })();\n",
              "    </script>\n",
              "  </div>\n",
              "\n",
              "    </div>\n",
              "  </div>\n"
            ],
            "application/vnd.google.colaboratory.intrinsic+json": {
              "type": "dataframe",
              "variable_name": "x"
            }
          },
          "metadata": {},
          "execution_count": 25
        }
      ],
      "source": [
        "x = data.drop(\"Class\", axis = 1)\n",
        "x"
      ]
    },
    {
      "cell_type": "code",
      "execution_count": null,
      "id": "ef55cbdf",
      "metadata": {
        "colab": {
          "base_uri": "https://localhost:8080/"
        },
        "id": "ef55cbdf",
        "outputId": "14223b1e-544f-4e86-d183-f80a3406735b"
      },
      "outputs": [
        {
          "output_type": "execute_result",
          "data": {
            "text/plain": [
              "0         0\n",
              "1         0\n",
              "2         0\n",
              "3         0\n",
              "4         0\n",
              "         ..\n",
              "284802    0\n",
              "284803    0\n",
              "284804    0\n",
              "284805    0\n",
              "284806    0\n",
              "Name: Class, Length: 284807, dtype: int64"
            ]
          },
          "metadata": {},
          "execution_count": 26
        }
      ],
      "source": [
        "y = data.Class\n",
        "y"
      ]
    },
    {
      "cell_type": "code",
      "execution_count": null,
      "id": "94aa1dc8",
      "metadata": {
        "id": "94aa1dc8"
      },
      "outputs": [],
      "source": [
        "from sklearn.preprocessing import MinMaxScaler\n",
        "ms = MinMaxScaler()\n",
        "x = ms.fit_transform(x)"
      ]
    },
    {
      "cell_type": "code",
      "execution_count": null,
      "id": "87ba90c0",
      "metadata": {
        "colab": {
          "base_uri": "https://localhost:8080/"
        },
        "id": "87ba90c0",
        "outputId": "73716ff0-5664-4317-89c9-015b8e35cf67"
      },
      "outputs": [
        {
          "output_type": "stream",
          "name": "stdout",
          "text": [
            "(199364, 31) (85443, 31)\n"
          ]
        }
      ],
      "source": [
        "X_train, X_test, y_train, y_test = train_test_split(x, y,test_size=0.3)\n",
        "print(X_train.shape, X_test.shape)"
      ]
    },
    {
      "cell_type": "code",
      "execution_count": null,
      "id": "545967c9",
      "metadata": {
        "id": "545967c9"
      },
      "outputs": [],
      "source": [
        "import xgboost as xgb\n",
        "model = xgb.XGBClassifier()\n",
        "model.fit(X_train, y_train)\n",
        "y_pred = model.predict(X_test)\n",
        "cm = confusion_matrix(y_test, y_pred)"
      ]
    },
    {
      "cell_type": "code",
      "execution_count": null,
      "id": "6cc1f8e6",
      "metadata": {
        "colab": {
          "base_uri": "https://localhost:8080/"
        },
        "id": "6cc1f8e6",
        "outputId": "8c378c06-9425-479a-f00a-80c50abb32a8"
      },
      "outputs": [
        {
          "output_type": "stream",
          "name": "stdout",
          "text": [
            "Confusion Matrix :\n",
            "  [[85279     8]\n",
            " [   36   120]]\n",
            "\n",
            "Accuracy_Score:  99.949 %\n",
            "\n",
            "F1 Score:  84.507 %\n",
            "Precision Score:  93.75 %\n",
            "Recall Score : 76.923 %\n",
            "\n",
            "\n"
          ]
        }
      ],
      "source": [
        "print(\"Confusion Matrix :\\n \",(confusion_matrix(y_test,y_pred)))\n",
        "print()\n",
        "print(\"Accuracy_Score: \", round(accuracy_score(y_test,y_pred)*100,3),\"%\")\n",
        "print()\n",
        "print(\"F1 Score: \", round(f1_score(y_test,y_pred)*100,3),\"%\")\n",
        "print(\"Precision Score: \", round(precision_score(y_test,y_pred)*100,3),\"%\")\n",
        "print(\"Recall Score :\", round(recall_score(y_test,y_pred)*100,3),\"%\")\n",
        "print(\"\\n\")\n",
        "plt.show()"
      ]
    },
    {
      "cell_type": "code",
      "execution_count": null,
      "id": "8efafe6a",
      "metadata": {
        "colab": {
          "base_uri": "https://localhost:8080/",
          "height": 452
        },
        "id": "8efafe6a",
        "outputId": "b69551e0-9356-4116-f99e-6a3cdb3c0d51"
      },
      "outputs": [
        {
          "output_type": "display_data",
          "data": {
            "text/plain": [
              "<Figure size 640x480 with 2 Axes>"
            ],
            "image/png": "[encoded data removed]"
          },
          "metadata": {}
        }
      ],
      "source": [
        "sns.heatmap(cm, xticklabels=['Not Fraud', 'Fraud'],yticklabels=['Not Fraud', 'Fraud'], annot=True, fmt=\"d\",cmap = \"Purples\")\n",
        "plt.title(\"XGB Confusion Matrix\")\n",
        "plt.show()"
      ]
    },
    {
      "cell_type": "code",
      "execution_count": null,
      "id": "abc661b0",
      "metadata": {
        "colab": {
          "base_uri": "https://localhost:8080/",
          "height": 472
        },
        "id": "abc661b0",
        "outputId": "aff815b2-bf4d-45c6-b8cf-026071042cbd"
      },
      "outputs": [
        {
          "output_type": "display_data",
          "data": {
            "text/plain": [
              "<Figure size 640x480 with 1 Axes>"
            ],
            "image/png": "[encoded data removed]"
          },
          "metadata": {}
        }
      ],
      "source": [
        "fpr_model1, tpr_model1, thresholds_model1 = roc_curve(y_test, y_pred, pos_label=1)\n",
        "auc_model1 = roc_auc_score(y_test, y_pred)\n",
        "plt.figure(1)\n",
        "plt.plot([0, 1], [0, 1], 'k--')\n",
        "plt.plot([0, 1], [0, 1], linestyle='--')\n",
        "plt.plot(fpr_model1, tpr_model1, label='ROC XGB(area = {:.3f})'.format(auc_model1))\n",
        "plt.xlabel('False positive rate')\n",
        "plt.ylabel('True positive rate')\n",
        "plt.title('ROC curve')\n",
        "plt.legend(loc='best')\n",
        "plt.show()"
      ]
    },
    {
      "cell_type": "code",
      "execution_count": null,
      "id": "bc7ccc7b",
      "metadata": {
        "colab": {
          "base_uri": "https://localhost:8080/",
          "height": 482
        },
        "id": "bc7ccc7b",
        "outputId": "5d33514d-b4c7-44fd-e84c-980a85586e49"
      },
      "outputs": [
        {
          "output_type": "display_data",
          "data": {
            "text/plain": [
              "<Figure size 640x480 with 1 Axes>"
            ],
            "image/png": "[encoded data removed]"
          },
          "metadata": {}
        }
      ],
      "source": [
        "precision, recall, thresholds_pr = precision_recall_curve(y_test, y_pred)\n",
        "AUC_PRcurve= auc(recall, precision)\n",
        "plt.figure(1)\n",
        "plt.plot([0, 1], [0.5, 0.5], linestyle='--')\n",
        "plt.plot(precision, recall, label = \"AUC = {:0.2f}\".format(AUC_PRcurve), lw = 3, alpha = 0.7)\n",
        "plt.xlabel('Precision', fontsize = 14)\n",
        "plt.ylabel('Recall', fontsize = 14)\n",
        "plt.title('Precision-Recall Curve', fontsize = 18)\n",
        "plt.legend(loc='best')\n",
        "plt.show()"
      ]
    },
    {
      "cell_type": "code",
      "execution_count": null,
      "id": "620454e3",
      "metadata": {
        "id": "620454e3"
      },
      "outputs": [],
      "source": [
        "y_train = np.array(y_train)"
      ]
    },
    {
      "cell_type": "code",
      "execution_count": null,
      "id": "28019c10",
      "metadata": {
        "id": "28019c10"
      },
      "outputs": [],
      "source": [
        "X_train = np.reshape(X_train, (X_train.shape[0],1,X_train.shape[1]))"
      ]
    },
    {
      "cell_type": "code",
      "execution_count": null,
      "id": "4a605e54",
      "metadata": {
        "colab": {
          "base_uri": "https://localhost:8080/"
        },
        "id": "4a605e54",
        "outputId": "e12c8729-9987-48c4-fb20-0f6b55ba2397"
      },
      "outputs": [
        {
          "output_type": "stream",
          "name": "stdout",
          "text": [
            "Model: \"sequential\"\n",
            "_________________________________________________________________\n",
            " Layer (type)                Output Shape              Param #   \n",
            "=================================================================\n",
            " lstm (LSTM)                 (None, 50)                16400     \n",
            "                                                                 \n",
            " dense (Dense)               (None, 1)                 51        \n",
            "                                                                 \n",
            "=================================================================\n",
            "Total params: 16451 (64.26 KB)\n",
            "Trainable params: 16451 (64.26 KB)\n",
            "Non-trainable params: 0 (0.00 Byte)\n",
            "_________________________________________________________________\n"
          ]
        }
      ],
      "source": [
        "from tensorflow.keras import Sequential\n",
        "from tensorflow.keras.layers import LSTM,Dense\n",
        "lstm = Sequential()\n",
        "\n",
        "lstm.add(LSTM(50,input_dim=31))\n",
        "\n",
        "lstm.add(Dense(1,activation='sigmoid'))\n",
        "lstm.compile(loss='binary_crossentropy',optimizer='adam',metrics=['accuracy'])\n",
        "lstm.summary()"
      ]
    },
    {
      "cell_type": "code",
      "execution_count": null,
      "id": "982d6939",
      "metadata": {
        "scrolled": true,
        "colab": {
          "base_uri": "https://localhost:8080/"
        },
        "id": "982d6939",
        "outputId": "887038c8-0344-424b-e094-f083fd1d136d"
      },
      "outputs": [
        {
          "metadata": {
            "tags": null
          },
          "name": "stdout",
          "output_type": "stream",
          "text": [
            "Epoch 1/200\n",
            "100/100 - 2s - loss: 0.1953 - accuracy: 0.9785 - 2s/epoch - 23ms/step\n",
            "Epoch 2/200\n",
            "100/100 - 1s - loss: 0.0176 - accuracy: 0.9983 - 681ms/epoch - 7ms/step\n",
            "Epoch 3/200\n",
            "100/100 - 1s - loss: 0.0131 - accuracy: 0.9983 - 684ms/epoch - 7ms/step\n",
            "Epoch 4/200\n",
            "100/100 - 1s - loss: 0.0122 - accuracy: 0.9983 - 681ms/epoch - 7ms/step\n",
            "Epoch 5/200\n",
            "100/100 - 1s - loss: 0.0119 - accuracy: 0.9983 - 721ms/epoch - 7ms/step\n",
            "Epoch 6/200\n",
            "100/100 - 1s - loss: 0.0118 - accuracy: 0.9983 - 693ms/epoch - 7ms/step\n",
            "Epoch 7/200\n",
            "100/100 - 1s - loss: 0.0118 - accuracy: 0.9983 - 680ms/epoch - 7ms/step\n",
            "Epoch 8/200\n",
            "100/100 - 1s - loss: 0.0117 - accuracy: 0.9983 - 827ms/epoch - 8ms/step\n",
            "Epoch 9/200\n",
            "100/100 - 1s - loss: 0.0117 - accuracy: 0.9983 - 1s/epoch - 15ms/step\n",
            "Epoch 10/200\n",
            "100/100 - 2s - loss: 0.0116 - accuracy: 0.9983 - 2s/epoch - 15ms/step\n",
            "Epoch 11/200\n",
            "100/100 - 1s - loss: 0.0116 - accuracy: 0.9983 - 1s/epoch - 13ms/step\n",
            "Epoch 12/200\n",
            "100/100 - 1s - loss: 0.0114 - accuracy: 0.9983 - 1s/epoch - 11ms/step\n",
            "Epoch 13/200\n",
            "100/100 - 1s - loss: 0.0113 - accuracy: 0.9983 - 1s/epoch - 13ms/step\n",
            "Epoch 14/200\n",
            "100/100 - 1s - loss: 0.0111 - accuracy: 0.9983 - 1s/epoch - 11ms/step\n",
            "Epoch 15/200\n",
            "100/100 - 1s - loss: 0.0109 - accuracy: 0.9983 - 796ms/epoch - 8ms/step\n",
            "Epoch 16/200\n",
            "100/100 - 1s - loss: 0.0107 - accuracy: 0.9983 - 687ms/epoch - 7ms/step\n",
            "Epoch 17/200\n",
            "100/100 - 1s - loss: 0.0104 - accuracy: 0.9983 - 692ms/epoch - 7ms/step\n",
            "Epoch 18/200\n",
            "100/100 - 1s - loss: 0.0100 - accuracy: 0.9983 - 699ms/epoch - 7ms/step\n",
            "Epoch 19/200\n",
            "100/100 - 1s - loss: 0.0096 - accuracy: 0.9983 - 682ms/epoch - 7ms/step\n",
            "Epoch 20/200\n",
            "100/100 - 1s - loss: 0.0092 - accuracy: 0.9983 - 680ms/epoch - 7ms/step\n",
            "Epoch 21/200\n",
            "100/100 - 1s - loss: 0.0087 - accuracy: 0.9983 - 703ms/epoch - 7ms/step\n",
            "Epoch 22/200\n",
            "100/100 - 1s - loss: 0.0082 - accuracy: 0.9983 - 1s/epoch - 10ms/step\n",
            "Epoch 23/200\n",
            "100/100 - 1s - loss: 0.0077 - accuracy: 0.9983 - 1s/epoch - 14ms/step\n",
            "Epoch 24/200\n",
            "100/100 - 1s - loss: 0.0072 - accuracy: 0.9983 - 1s/epoch - 15ms/step\n",
            "Epoch 25/200\n",
            "100/100 - 1s - loss: 0.0066 - accuracy: 0.9985 - 1s/epoch - 12ms/step\n",
            "Epoch 26/200\n",
            "100/100 - 1s - loss: 0.0061 - accuracy: 0.9986 - 1s/epoch - 12ms/step\n",
            "Epoch 27/200\n",
            "100/100 - 1s - loss: 0.0057 - accuracy: 0.9986 - 820ms/epoch - 8ms/step\n",
            "Epoch 28/200\n",
            "100/100 - 1s - loss: 0.0053 - accuracy: 0.9987 - 717ms/epoch - 7ms/step\n",
            "Epoch 29/200\n",
            "100/100 - 1s - loss: 0.0050 - accuracy: 0.9988 - 685ms/epoch - 7ms/step\n",
            "Epoch 30/200\n",
            "100/100 - 1s - loss: 0.0047 - accuracy: 0.9988 - 682ms/epoch - 7ms/step\n",
            "Epoch 31/200\n",
            "100/100 - 1s - loss: 0.0045 - accuracy: 0.9989 - 685ms/epoch - 7ms/step\n",
            "Epoch 32/200\n",
            "100/100 - 1s - loss: 0.0043 - accuracy: 0.9990 - 696ms/epoch - 7ms/step\n",
            "Epoch 33/200\n",
            "100/100 - 1s - loss: 0.0042 - accuracy: 0.9990 - 689ms/epoch - 7ms/step\n",
            "Epoch 34/200\n",
            "100/100 - 1s - loss: 0.0041 - accuracy: 0.9991 - 676ms/epoch - 7ms/step\n",
            "Epoch 35/200\n",
            "100/100 - 1s - loss: 0.0040 - accuracy: 0.9991 - 687ms/epoch - 7ms/step\n",
            "Epoch 36/200\n",
            "100/100 - 1s - loss: 0.0039 - accuracy: 0.9991 - 715ms/epoch - 7ms/step\n",
            "Epoch 37/200\n",
            "100/100 - 1s - loss: 0.0038 - accuracy: 0.9992 - 1s/epoch - 10ms/step\n",
            "Epoch 38/200\n",
            "100/100 - 1s - loss: 0.0038 - accuracy: 0.9992 - 1s/epoch - 11ms/step\n",
            "Epoch 39/200\n",
            "100/100 - 1s - loss: 0.0037 - accuracy: 0.9992 - 965ms/epoch - 10ms/step\n",
            "Epoch 40/200\n",
            "100/100 - 1s - loss: 0.0036 - accuracy: 0.9992 - 658ms/epoch - 7ms/step\n",
            "Epoch 41/200\n",
            "100/100 - 1s - loss: 0.0036 - accuracy: 0.9992 - 706ms/epoch - 7ms/step\n",
            "Epoch 42/200\n",
            "100/100 - 1s - loss: 0.0036 - accuracy: 0.9992 - 684ms/epoch - 7ms/step\n",
            "Epoch 43/200\n",
            "100/100 - 1s - loss: 0.0035 - accuracy: 0.9992 - 657ms/epoch - 7ms/step\n",
            "Epoch 44/200\n",
            "100/100 - 1s - loss: 0.0035 - accuracy: 0.9992 - 695ms/epoch - 7ms/step\n",
            "Epoch 45/200\n",
            "100/100 - 1s - loss: 0.0035 - accuracy: 0.9993 - 693ms/epoch - 7ms/step\n",
            "Epoch 46/200\n",
            "100/100 - 1s - loss: 0.0035 - accuracy: 0.9993 - 673ms/epoch - 7ms/step\n",
            "Epoch 47/200\n",
            "100/100 - 1s - loss: 0.0034 - accuracy: 0.9993 - 682ms/epoch - 7ms/step\n",
            "Epoch 48/200\n",
            "100/100 - 1s - loss: 0.0034 - accuracy: 0.9993 - 696ms/epoch - 7ms/step\n",
            "Epoch 49/200\n",
            "100/100 - 1s - loss: 0.0034 - accuracy: 0.9993 - 663ms/epoch - 7ms/step\n",
            "Epoch 50/200\n",
            "100/100 - 1s - loss: 0.0034 - accuracy: 0.9993 - 697ms/epoch - 7ms/step\n",
            "Epoch 51/200\n",
            "100/100 - 1s - loss: 0.0034 - accuracy: 0.9993 - 688ms/epoch - 7ms/step\n",
            "Epoch 52/200\n",
            "100/100 - 1s - loss: 0.0033 - accuracy: 0.9993 - 666ms/epoch - 7ms/step\n",
            "Epoch 53/200\n",
            "100/100 - 1s - loss: 0.0033 - accuracy: 0.9993 - 671ms/epoch - 7ms/step\n",
            "Epoch 54/200\n",
            "100/100 - 1s - loss: 0.0033 - accuracy: 0.9993 - 957ms/epoch - 10ms/step\n",
            "Epoch 55/200\n",
            "100/100 - 1s - loss: 0.0033 - accuracy: 0.9993 - 1s/epoch - 11ms/step\n",
            "Epoch 56/200\n",
            "100/100 - 1s - loss: 0.0033 - accuracy: 0.9993 - 1s/epoch - 11ms/step\n",
            "Epoch 57/200\n",
            "100/100 - 1s - loss: 0.0032 - accuracy: 0.9993 - 689ms/epoch - 7ms/step\n",
            "Epoch 58/200\n",
            "100/100 - 1s - loss: 0.0032 - accuracy: 0.9993 - 670ms/epoch - 7ms/step\n",
            "Epoch 59/200\n",
            "100/100 - 1s - loss: 0.0032 - accuracy: 0.9993 - 669ms/epoch - 7ms/step\n",
            "Epoch 60/200\n",
            "100/100 - 1s - loss: 0.0032 - accuracy: 0.9993 - 700ms/epoch - 7ms/step\n",
            "Epoch 61/200\n",
            "100/100 - 1s - loss: 0.0031 - accuracy: 0.9993 - 688ms/epoch - 7ms/step\n",
            "Epoch 62/200\n",
            "100/100 - 1s - loss: 0.0031 - accuracy: 0.9993 - 680ms/epoch - 7ms/step\n",
            "Epoch 63/200\n",
            "100/100 - 1s - loss: 0.0031 - accuracy: 0.9993 - 684ms/epoch - 7ms/step\n",
            "Epoch 64/200\n",
            "100/100 - 1s - loss: 0.0031 - accuracy: 0.9993 - 678ms/epoch - 7ms/step\n",
            "Epoch 65/200\n",
            "100/100 - 1s - loss: 0.0031 - accuracy: 0.9993 - 682ms/epoch - 7ms/step\n",
            "Epoch 66/200\n",
            "100/100 - 1s - loss: 0.0031 - accuracy: 0.9994 - 675ms/epoch - 7ms/step\n",
            "Epoch 67/200\n",
            "100/100 - 1s - loss: 0.0031 - accuracy: 0.9993 - 686ms/epoch - 7ms/step\n",
            "Epoch 68/200\n",
            "100/100 - 1s - loss: 0.0031 - accuracy: 0.9994 - 659ms/epoch - 7ms/step\n",
            "Epoch 69/200\n",
            "100/100 - 1s - loss: 0.0031 - accuracy: 0.9994 - 688ms/epoch - 7ms/step\n",
            "Epoch 70/200\n",
            "100/100 - 1s - loss: 0.0030 - accuracy: 0.9994 - 692ms/epoch - 7ms/step\n",
            "Epoch 71/200\n",
            "100/100 - 1s - loss: 0.0030 - accuracy: 0.9994 - 838ms/epoch - 8ms/step\n",
            "Epoch 72/200\n",
            "100/100 - 1s - loss: 0.0030 - accuracy: 0.9993 - 1s/epoch - 10ms/step\n",
            "Epoch 73/200\n",
            "100/100 - 1s - loss: 0.0030 - accuracy: 0.9994 - 1s/epoch - 11ms/step\n",
            "Epoch 74/200\n",
            "100/100 - 1s - loss: 0.0030 - accuracy: 0.9994 - 874ms/epoch - 9ms/step\n",
            "Epoch 75/200\n",
            "100/100 - 1s - loss: 0.0030 - accuracy: 0.9994 - 664ms/epoch - 7ms/step\n",
            "Epoch 76/200\n",
            "100/100 - 1s - loss: 0.0030 - accuracy: 0.9994 - 672ms/epoch - 7ms/step\n",
            "Epoch 77/200\n",
            "100/100 - 1s - loss: 0.0030 - accuracy: 0.9994 - 695ms/epoch - 7ms/step\n",
            "Epoch 78/200\n",
            "100/100 - 1s - loss: 0.0029 - accuracy: 0.9994 - 702ms/epoch - 7ms/step\n",
            "Epoch 79/200\n",
            "100/100 - 1s - loss: 0.0029 - accuracy: 0.9994 - 688ms/epoch - 7ms/step\n",
            "Epoch 80/200\n",
            "100/100 - 1s - loss: 0.0029 - accuracy: 0.9994 - 694ms/epoch - 7ms/step\n",
            "Epoch 81/200\n",
            "100/100 - 1s - loss: 0.0029 - accuracy: 0.9994 - 688ms/epoch - 7ms/step\n",
            "Epoch 82/200\n",
            "100/100 - 1s - loss: 0.0029 - accuracy: 0.9994 - 659ms/epoch - 7ms/step\n",
            "Epoch 83/200\n",
            "100/100 - 1s - loss: 0.0029 - accuracy: 0.9994 - 688ms/epoch - 7ms/step\n",
            "Epoch 84/200\n",
            "100/100 - 1s - loss: 0.0029 - accuracy: 0.9994 - 676ms/epoch - 7ms/step\n",
            "Epoch 85/200\n",
            "100/100 - 1s - loss: 0.0029 - accuracy: 0.9994 - 674ms/epoch - 7ms/step\n",
            "Epoch 86/200\n",
            "100/100 - 1s - loss: 0.0029 - accuracy: 0.9994 - 685ms/epoch - 7ms/step\n",
            "Epoch 87/200\n",
            "100/100 - 1s - loss: 0.0029 - accuracy: 0.9994 - 682ms/epoch - 7ms/step\n",
            "Epoch 88/200\n",
            "100/100 - 1s - loss: 0.0029 - accuracy: 0.9994 - 678ms/epoch - 7ms/step\n",
            "Epoch 89/200\n",
            "100/100 - 1s - loss: 0.0029 - accuracy: 0.9994 - 1s/epoch - 11ms/step\n",
            "Epoch 90/200\n",
            "100/100 - 1s - loss: 0.0029 - accuracy: 0.9994 - 1s/epoch - 11ms/step\n",
            "Epoch 91/200\n",
            "100/100 - 1s - loss: 0.0029 - accuracy: 0.9994 - 1s/epoch - 10ms/step\n",
            "Epoch 92/200\n",
            "100/100 - 1s - loss: 0.0028 - accuracy: 0.9994 - 700ms/epoch - 7ms/step\n",
            "Epoch 93/200\n",
            "100/100 - 1s - loss: 0.0029 - accuracy: 0.9994 - 715ms/epoch - 7ms/step\n",
            "Epoch 94/200\n",
            "100/100 - 1s - loss: 0.0028 - accuracy: 0.9994 - 681ms/epoch - 7ms/step\n",
            "Epoch 95/200\n",
            "100/100 - 1s - loss: 0.0029 - accuracy: 0.9994 - 684ms/epoch - 7ms/step\n",
            "Epoch 96/200\n",
            "100/100 - 1s - loss: 0.0029 - accuracy: 0.9994 - 679ms/epoch - 7ms/step\n",
            "Epoch 97/200\n",
            "100/100 - 1s - loss: 0.0028 - accuracy: 0.9994 - 681ms/epoch - 7ms/step\n",
            "Epoch 98/200\n",
            "100/100 - 1s - loss: 0.0028 - accuracy: 0.9994 - 718ms/epoch - 7ms/step\n",
            "Epoch 99/200\n",
            "100/100 - 1s - loss: 0.0028 - accuracy: 0.9994 - 693ms/epoch - 7ms/step\n",
            "Epoch 100/200\n",
            "100/100 - 1s - loss: 0.0028 - accuracy: 0.9994 - 657ms/epoch - 7ms/step\n",
            "Epoch 101/200\n",
            "100/100 - 1s - loss: 0.0028 - accuracy: 0.9995 - 632ms/epoch - 6ms/step\n",
            "Epoch 102/200\n",
            "100/100 - 1s - loss: 0.0028 - accuracy: 0.9994 - 643ms/epoch - 6ms/step\n",
            "Epoch 103/200\n",
            "100/100 - 1s - loss: 0.0028 - accuracy: 0.9994 - 685ms/epoch - 7ms/step\n",
            "Epoch 104/200\n",
            "100/100 - 1s - loss: 0.0028 - accuracy: 0.9994 - 677ms/epoch - 7ms/step\n",
            "Epoch 105/200\n",
            "100/100 - 1s - loss: 0.0028 - accuracy: 0.9995 - 688ms/epoch - 7ms/step\n",
            "Epoch 106/200\n",
            "100/100 - 1s - loss: 0.0028 - accuracy: 0.9994 - 928ms/epoch - 9ms/step\n",
            "Epoch 107/200\n",
            "100/100 - 1s - loss: 0.0028 - accuracy: 0.9994 - 1s/epoch - 10ms/step\n",
            "Epoch 108/200\n",
            "100/100 - 1s - loss: 0.0028 - accuracy: 0.9994 - 1s/epoch - 11ms/step\n",
            "Epoch 109/200\n",
            "100/100 - 1s - loss: 0.0028 - accuracy: 0.9995 - 754ms/epoch - 8ms/step\n",
            "Epoch 110/200\n",
            "100/100 - 1s - loss: 0.0028 - accuracy: 0.9994 - 686ms/epoch - 7ms/step\n",
            "Epoch 111/200\n",
            "100/100 - 1s - loss: 0.0028 - accuracy: 0.9994 - 700ms/epoch - 7ms/step\n",
            "Epoch 112/200\n",
            "100/100 - 1s - loss: 0.0028 - accuracy: 0.9994 - 678ms/epoch - 7ms/step\n",
            "Epoch 113/200\n",
            "100/100 - 1s - loss: 0.0028 - accuracy: 0.9995 - 671ms/epoch - 7ms/step\n",
            "Epoch 114/200\n",
            "100/100 - 1s - loss: 0.0028 - accuracy: 0.9994 - 693ms/epoch - 7ms/step\n",
            "Epoch 115/200\n",
            "100/100 - 1s - loss: 0.0028 - accuracy: 0.9994 - 676ms/epoch - 7ms/step\n",
            "Epoch 116/200\n",
            "100/100 - 1s - loss: 0.0028 - accuracy: 0.9994 - 687ms/epoch - 7ms/step\n",
            "Epoch 117/200\n",
            "100/100 - 1s - loss: 0.0028 - accuracy: 0.9994 - 689ms/epoch - 7ms/step\n",
            "Epoch 118/200\n",
            "100/100 - 1s - loss: 0.0028 - accuracy: 0.9994 - 650ms/epoch - 7ms/step\n",
            "Epoch 119/200\n",
            "100/100 - 1s - loss: 0.0028 - accuracy: 0.9994 - 667ms/epoch - 7ms/step\n",
            "Epoch 120/200\n",
            "100/100 - 1s - loss: 0.0027 - accuracy: 0.9994 - 676ms/epoch - 7ms/step\n",
            "Epoch 121/200\n",
            "100/100 - 1s - loss: 0.0027 - accuracy: 0.9994 - 665ms/epoch - 7ms/step\n",
            "Epoch 122/200\n",
            "100/100 - 1s - loss: 0.0028 - accuracy: 0.9994 - 680ms/epoch - 7ms/step\n",
            "Epoch 123/200\n",
            "100/100 - 1s - loss: 0.0028 - accuracy: 0.9994 - 741ms/epoch - 7ms/step\n",
            "Epoch 124/200\n",
            "100/100 - 1s - loss: 0.0028 - accuracy: 0.9995 - 1s/epoch - 11ms/step\n",
            "Epoch 125/200\n",
            "100/100 - 1s - loss: 0.0027 - accuracy: 0.9995 - 1s/epoch - 11ms/step\n",
            "Epoch 126/200\n",
            "100/100 - 1s - loss: 0.0027 - accuracy: 0.9994 - 942ms/epoch - 9ms/step\n",
            "Epoch 127/200\n",
            "100/100 - 1s - loss: 0.0028 - accuracy: 0.9994 - 683ms/epoch - 7ms/step\n",
            "Epoch 128/200\n",
            "100/100 - 1s - loss: 0.0028 - accuracy: 0.9994 - 712ms/epoch - 7ms/step\n",
            "Epoch 129/200\n",
            "100/100 - 1s - loss: 0.0028 - accuracy: 0.9994 - 695ms/epoch - 7ms/step\n",
            "Epoch 130/200\n",
            "100/100 - 1s - loss: 0.0027 - accuracy: 0.9994 - 685ms/epoch - 7ms/step\n",
            "Epoch 131/200\n",
            "100/100 - 1s - loss: 0.0028 - accuracy: 0.9994 - 690ms/epoch - 7ms/step\n",
            "Epoch 132/200\n",
            "100/100 - 1s - loss: 0.0028 - accuracy: 0.9995 - 700ms/epoch - 7ms/step\n",
            "Epoch 133/200\n",
            "100/100 - 1s - loss: 0.0028 - accuracy: 0.9994 - 687ms/epoch - 7ms/step\n",
            "Epoch 134/200\n",
            "100/100 - 1s - loss: 0.0028 - accuracy: 0.9994 - 651ms/epoch - 7ms/step\n",
            "Epoch 135/200\n",
            "100/100 - 1s - loss: 0.0027 - accuracy: 0.9994 - 702ms/epoch - 7ms/step\n",
            "Epoch 136/200\n",
            "100/100 - 1s - loss: 0.0027 - accuracy: 0.9995 - 679ms/epoch - 7ms/step\n",
            "Epoch 137/200\n",
            "100/100 - 1s - loss: 0.0028 - accuracy: 0.9995 - 683ms/epoch - 7ms/step\n",
            "Epoch 138/200\n",
            "100/100 - 1s - loss: 0.0027 - accuracy: 0.9994 - 678ms/epoch - 7ms/step\n",
            "Epoch 139/200\n",
            "100/100 - 1s - loss: 0.0027 - accuracy: 0.9994 - 674ms/epoch - 7ms/step\n",
            "Epoch 140/200\n",
            "100/100 - 1s - loss: 0.0027 - accuracy: 0.9995 - 678ms/epoch - 7ms/step\n",
            "Epoch 141/200\n",
            "100/100 - 1s - loss: 0.0027 - accuracy: 0.9995 - 1s/epoch - 10ms/step\n",
            "Epoch 142/200\n",
            "100/100 - 1s - loss: 0.0027 - accuracy: 0.9994 - 1s/epoch - 11ms/step\n",
            "Epoch 143/200\n",
            "100/100 - 1s - loss: 0.0027 - accuracy: 0.9994 - 1s/epoch - 10ms/step\n",
            "Epoch 144/200\n",
            "100/100 - 1s - loss: 0.0027 - accuracy: 0.9994 - 686ms/epoch - 7ms/step\n",
            "Epoch 145/200\n",
            "100/100 - 1s - loss: 0.0027 - accuracy: 0.9995 - 683ms/epoch - 7ms/step\n",
            "Epoch 146/200\n",
            "100/100 - 1s - loss: 0.0027 - accuracy: 0.9994 - 690ms/epoch - 7ms/step\n",
            "Epoch 147/200\n",
            "100/100 - 1s - loss: 0.0027 - accuracy: 0.9994 - 712ms/epoch - 7ms/step\n",
            "Epoch 148/200\n",
            "100/100 - 1s - loss: 0.0027 - accuracy: 0.9994 - 695ms/epoch - 7ms/step\n",
            "Epoch 149/200\n",
            "100/100 - 1s - loss: 0.0027 - accuracy: 0.9995 - 655ms/epoch - 7ms/step\n",
            "Epoch 150/200\n",
            "100/100 - 1s - loss: 0.0027 - accuracy: 0.9995 - 670ms/epoch - 7ms/step\n",
            "Epoch 151/200\n",
            "100/100 - 1s - loss: 0.0027 - accuracy: 0.9995 - 686ms/epoch - 7ms/step\n",
            "Epoch 152/200\n",
            "100/100 - 1s - loss: 0.0027 - accuracy: 0.9994 - 671ms/epoch - 7ms/step\n",
            "Epoch 153/200\n",
            "100/100 - 1s - loss: 0.0027 - accuracy: 0.9994 - 682ms/epoch - 7ms/step\n",
            "Epoch 154/200\n",
            "100/100 - 1s - loss: 0.0027 - accuracy: 0.9995 - 665ms/epoch - 7ms/step\n",
            "Epoch 155/200\n",
            "100/100 - 1s - loss: 0.0027 - accuracy: 0.9995 - 686ms/epoch - 7ms/step\n",
            "Epoch 156/200\n",
            "100/100 - 1s - loss: 0.0027 - accuracy: 0.9995 - 699ms/epoch - 7ms/step\n",
            "Epoch 157/200\n",
            "100/100 - 1s - loss: 0.0027 - accuracy: 0.9994 - 705ms/epoch - 7ms/step\n",
            "Epoch 158/200\n",
            "100/100 - 1s - loss: 0.0027 - accuracy: 0.9995 - 946ms/epoch - 9ms/step\n",
            "Epoch 159/200\n",
            "100/100 - 1s - loss: 0.0027 - accuracy: 0.9995 - 1s/epoch - 11ms/step\n",
            "Epoch 160/200\n",
            "100/100 - 1s - loss: 0.0027 - accuracy: 0.9994 - 1s/epoch - 11ms/step\n",
            "Epoch 161/200\n",
            "100/100 - 1s - loss: 0.0027 - accuracy: 0.9994 - 698ms/epoch - 7ms/step\n",
            "Epoch 162/200\n",
            "100/100 - 1s - loss: 0.0027 - accuracy: 0.9994 - 666ms/epoch - 7ms/step\n",
            "Epoch 163/200\n",
            "100/100 - 1s - loss: 0.0027 - accuracy: 0.9994 - 687ms/epoch - 7ms/step\n",
            "Epoch 164/200\n",
            "100/100 - 1s - loss: 0.0027 - accuracy: 0.9995 - 683ms/epoch - 7ms/step\n",
            "Epoch 165/200\n",
            "100/100 - 1s - loss: 0.0027 - accuracy: 0.9995 - 679ms/epoch - 7ms/step\n",
            "Epoch 166/200\n",
            "100/100 - 1s - loss: 0.0027 - accuracy: 0.9995 - 681ms/epoch - 7ms/step\n",
            "Epoch 167/200\n",
            "100/100 - 1s - loss: 0.0027 - accuracy: 0.9995 - 683ms/epoch - 7ms/step\n",
            "Epoch 168/200\n",
            "100/100 - 1s - loss: 0.0027 - accuracy: 0.9994 - 910ms/epoch - 9ms/step\n",
            "Epoch 169/200\n",
            "100/100 - 1s - loss: 0.0027 - accuracy: 0.9995 - 880ms/epoch - 9ms/step\n",
            "Epoch 170/200\n",
            "100/100 - 1s - loss: 0.0027 - accuracy: 0.9994 - 684ms/epoch - 7ms/step\n",
            "Epoch 171/200\n",
            "100/100 - 1s - loss: 0.0027 - accuracy: 0.9995 - 696ms/epoch - 7ms/step\n",
            "Epoch 172/200\n",
            "100/100 - 1s - loss: 0.0027 - accuracy: 0.9994 - 721ms/epoch - 7ms/step\n",
            "Epoch 173/200\n",
            "100/100 - 1s - loss: 0.0027 - accuracy: 0.9994 - 691ms/epoch - 7ms/step\n",
            "Epoch 174/200\n",
            "100/100 - 1s - loss: 0.0026 - accuracy: 0.9995 - 720ms/epoch - 7ms/step\n",
            "Epoch 175/200\n",
            "100/100 - 1s - loss: 0.0027 - accuracy: 0.9995 - 1s/epoch - 11ms/step\n",
            "Epoch 176/200\n",
            "100/100 - 1s - loss: 0.0027 - accuracy: 0.9994 - 1s/epoch - 11ms/step\n",
            "Epoch 177/200\n",
            "100/100 - 1s - loss: 0.0026 - accuracy: 0.9994 - 966ms/epoch - 10ms/step\n",
            "Epoch 178/200\n",
            "100/100 - 1s - loss: 0.0026 - accuracy: 0.9995 - 694ms/epoch - 7ms/step\n",
            "Epoch 179/200\n",
            "100/100 - 1s - loss: 0.0027 - accuracy: 0.9995 - 713ms/epoch - 7ms/step\n",
            "Epoch 180/200\n",
            "100/100 - 1s - loss: 0.0026 - accuracy: 0.9994 - 694ms/epoch - 7ms/step\n",
            "Epoch 181/200\n",
            "100/100 - 1s - loss: 0.0027 - accuracy: 0.9995 - 675ms/epoch - 7ms/step\n",
            "Epoch 182/200\n",
            "100/100 - 1s - loss: 0.0026 - accuracy: 0.9995 - 696ms/epoch - 7ms/step\n",
            "Epoch 183/200\n",
            "100/100 - 1s - loss: 0.0026 - accuracy: 0.9995 - 700ms/epoch - 7ms/step\n",
            "Epoch 184/200\n",
            "100/100 - 1s - loss: 0.0026 - accuracy: 0.9994 - 687ms/epoch - 7ms/step\n",
            "Epoch 185/200\n",
            "100/100 - 1s - loss: 0.0026 - accuracy: 0.9995 - 716ms/epoch - 7ms/step\n",
            "Epoch 186/200\n",
            "100/100 - 1s - loss: 0.0026 - accuracy: 0.9994 - 710ms/epoch - 7ms/step\n",
            "Epoch 187/200\n",
            "100/100 - 1s - loss: 0.0027 - accuracy: 0.9994 - 702ms/epoch - 7ms/step\n",
            "Epoch 188/200\n",
            "100/100 - 1s - loss: 0.0027 - accuracy: 0.9994 - 695ms/epoch - 7ms/step\n",
            "Epoch 189/200\n",
            "100/100 - 1s - loss: 0.0026 - accuracy: 0.9995 - 696ms/epoch - 7ms/step\n",
            "Epoch 190/200\n",
            "100/100 - 1s - loss: 0.0026 - accuracy: 0.9995 - 667ms/epoch - 7ms/step\n",
            "Epoch 191/200\n",
            "100/100 - 1s - loss: 0.0026 - accuracy: 0.9995 - 687ms/epoch - 7ms/step\n",
            "Epoch 192/200\n",
            "100/100 - 1s - loss: 0.0026 - accuracy: 0.9995 - 1s/epoch - 11ms/step\n",
            "Epoch 193/200\n",
            "100/100 - 1s - loss: 0.0026 - accuracy: 0.9994 - 1s/epoch - 11ms/step\n",
            "Epoch 194/200\n",
            "100/100 - 1s - loss: 0.0027 - accuracy: 0.9994 - 961ms/epoch - 10ms/step\n",
            "Epoch 195/200\n",
            "100/100 - 1s - loss: 0.0026 - accuracy: 0.9995 - 691ms/epoch - 7ms/step\n",
            "Epoch 196/200\n",
            "100/100 - 1s - loss: 0.0026 - accuracy: 0.9995 - 700ms/epoch - 7ms/step\n",
            "Epoch 197/200\n",
            "100/100 - 1s - loss: 0.0027 - accuracy: 0.9994 - 694ms/epoch - 7ms/step\n",
            "Epoch 198/200\n",
            "100/100 - 1s - loss: 0.0027 - accuracy: 0.9994 - 702ms/epoch - 7ms/step\n",
            "Epoch 199/200\n",
            "100/100 - 1s - loss: 0.0026 - accuracy: 0.9995 - 712ms/epoch - 7ms/step\n",
            "Epoch 200/200\n",
            "100/100 - 1s - loss: 0.0026 - accuracy: 0.9994 - 685ms/epoch - 7ms/step\n"
          ]
        }
      ],
      "source": [
        "history = lstm.fit(X_train, y_train, epochs=200, batch_size=2000,verbose=2)"
      ]
    },
    {
      "cell_type": "code",
      "execution_count": null,
      "id": "a4467dc7",
      "metadata": {
        "id": "a4467dc7"
      },
      "outputs": [],
      "source": [
        "X_test = np.reshape(X_test, (X_test.shape[0],1,X_test.shape[1]))"
      ]
    },
    {
      "cell_type": "code",
      "execution_count": null,
      "id": "65d78c13",
      "metadata": {
        "colab": {
          "base_uri": "https://localhost:8080/"
        },
        "id": "65d78c13",
        "outputId": "af32e0df-3213-40b5-fe62-9f5209da7973"
      },
      "outputs": [
        {
          "output_type": "stream",
          "name": "stdout",
          "text": [
            "2671/2671 [==============================] - 3s 1ms/step\n"
          ]
        }
      ],
      "source": [
        "Y_pred = lstm.predict(X_test).ravel()\n",
        "cm =confusion_matrix(y_test, Y_pred.round())"
      ]
    },
    {
      "cell_type": "code",
      "execution_count": null,
      "id": "8a49a764",
      "metadata": {
        "colab": {
          "base_uri": "https://localhost:8080/"
        },
        "id": "8a49a764",
        "outputId": "3ec92e24-f25d-42d1-b8c1-5eae080badb3"
      },
      "outputs": [
        {
          "output_type": "stream",
          "name": "stdout",
          "text": [
            "Confusion Matrix :\n",
            "  [[85266    21]\n",
            " [   44   112]]\n",
            "\n",
            "Accuracy_Score:  99.92 %\n",
            "\n",
            "F1 Score:  77.51 %\n",
            "Precision Score:  84.21 %\n",
            "Recall Score : 71.79 %\n",
            "\n",
            "\n"
          ]
        }
      ],
      "source": [
        "print(\"Confusion Matrix :\\n \",(confusion_matrix(y_test,Y_pred.round())))\n",
        "print()\n",
        "print(\"Accuracy_Score: \", round(accuracy_score(y_test,Y_pred.round())*100,2),\"%\")\n",
        "print()\n",
        "print(\"F1 Score: \", round(f1_score(y_test,Y_pred.round())*100,2),\"%\")\n",
        "print(\"Precision Score: \", round(precision_score(y_test,Y_pred.round())*100,2),\"%\")\n",
        "print(\"Recall Score :\", round(recall_score(y_test,Y_pred.round())*100,2),\"%\")\n",
        "print(\"\\n\")\n",
        "plt.show()"
      ]
    },
    {
      "cell_type": "code",
      "execution_count": null,
      "id": "bf13f3dc",
      "metadata": {
        "colab": {
          "base_uri": "https://localhost:8080/",
          "height": 452
        },
        "id": "bf13f3dc",
        "outputId": "2c5ab9cf-5299-4cf9-9a48-307505edf3a2"
      },
      "outputs": [
        {
          "output_type": "display_data",
          "data": {
            "text/plain": [
              "<Figure size 640x480 with 2 Axes>"
            ],
            "image/png": "[encoded data removed]"
          },
          "metadata": {}
        }
      ],
      "source": [
        "sns.heatmap(cm, xticklabels=['Not Fraud', 'Fraud'],yticklabels=['Not Fraud', 'Fraud'], annot=True, fmt=\"d\",cmap = \"Purples\")\n",
        "plt.title(\"LSTM Confusion Matrix\")\n",
        "plt.show()"
      ]
    },
    {
      "cell_type": "code",
      "execution_count": null,
      "id": "880a4dbe",
      "metadata": {
        "colab": {
          "base_uri": "https://localhost:8080/",
          "height": 472
        },
        "id": "880a4dbe",
        "outputId": "f50bc46b-4bda-45d2-dcaa-18f4f4f78572"
      },
      "outputs": [
        {
          "output_type": "display_data",
          "data": {
            "text/plain": [
              "<Figure size 640x480 with 1 Axes>"
            ],
            "image/png": "[encoded data removed]"
          },
          "metadata": {}
        }
      ],
      "source": [
        "fpr_model1, tpr_model1, thresholds_model1 = roc_curve(y_test, Y_pred, pos_label=1)\n",
        "auc_model1 = roc_auc_score(y_test, Y_pred)\n",
        "plt.figure(1)\n",
        "plt.plot([0, 1], [0, 1], 'k--')\n",
        "plt.plot([0, 1], [0, 1], linestyle='--')\n",
        "plt.plot(fpr_model1, tpr_model1, label='ROC LSTM (area = {:.3f})'.format(auc_model1))\n",
        "plt.xlabel('False positive rate')\n",
        "plt.ylabel('True positive rate')\n",
        "plt.title('ROC curve')\n",
        "plt.legend(loc='best')\n",
        "plt.show()"
      ]
    },
    {
      "cell_type": "code",
      "execution_count": null,
      "id": "30245de7",
      "metadata": {
        "colab": {
          "base_uri": "https://localhost:8080/",
          "height": 482
        },
        "id": "30245de7",
        "outputId": "8655c5b3-f3db-4d38-b41d-373fa16e7094"
      },
      "outputs": [
        {
          "output_type": "display_data",
          "data": {
            "text/plain": [
              "<Figure size 640x480 with 1 Axes>"
            ],
            "image/png": "[encoded data removed]"
          },
          "metadata": {}
        }
      ],
      "source": [
        "precision, recall, thresholds_pr = precision_recall_curve(y_test, Y_pred)\n",
        "AUC_PRcurve= auc(recall, precision)\n",
        "plt.figure(1)\n",
        "plt.plot([0, 1], [0.5, 0.5], linestyle='--')\n",
        "plt.plot(precision, recall, label = \"AUC = {:0.2f}\".format(AUC_PRcurve), lw = 3, alpha = 0.7)\n",
        "plt.xlabel('Precision', fontsize = 14)\n",
        "plt.ylabel('Recall', fontsize = 14)\n",
        "plt.title('Precision-Recall Curve', fontsize = 18)\n",
        "plt.legend(loc='best')\n",
        "plt.show()"
      ]
    }
  ],
  "metadata": {
    "kernelspec": {
      "display_name": "Python 3 (ipykernel)",
      "language": "python",
      "name": "python3"
    },
    "language_info": {
      "codemirror_mode": {
        "name": "ipython",
        "version": 3
      },
      "file_extension": ".py",
      "mimetype": "text/x-python",
      "name": "python",
      "nbconvert_exporter": "python",
      "pygments_lexer": "ipython3",
      "version": "3.9.12"
    },
    "papermill": {
      "default_parameters": {},
      "duration": 710.698712,
      "end_time": "2021-04-01T11:15:56.073904",
      "environment_variables": {},
      "exception": null,
      "input_path": "__notebook__.ipynb",
      "output_path": "__notebook__.ipynb",
      "parameters": {},
      "start_time": "2021-04-01T11:04:05.375192",
      "version": "2.3.2"
    },
    "colab": {
      "provenance": []
    }
  },
  "nbformat": 4,
  "nbformat_minor": 5
}